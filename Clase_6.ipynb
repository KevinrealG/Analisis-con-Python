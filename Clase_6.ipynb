{
 "cells": [
  {
   "cell_type": "markdown",
   "metadata": {},
   "source": [
    "# Introducción a Pandas - Series y DataFrames\n",
    "## Profesor: Kevin Sossa\n",
    "## Estudiante: "
   ]
  },
  {
   "cell_type": "markdown",
   "metadata": {},
   "source": [
    "#### Objetivo\n",
    "> Iniciar a los estudiantes en el uso de Pandas para la manipulación de datos, mostrando cómo los DataFrames pueden facilitar operaciones repetitivas y análisis complejos."
   ]
  },
  {
   "cell_type": "markdown",
   "metadata": {},
   "source": []
  },
  {
   "cell_type": "markdown",
   "metadata": {},
   "source": [
    "## ¿Qué es Pandas?\n",
    "- Biblioteca para análisis de datos.\n",
    "- Herramienta clave en Data Science para manipulación y limpieza.\n"
   ]
  },
  {
   "cell_type": "markdown",
   "metadata": {},
   "source": [
    "### Conceptos Clave:\n",
    "\n",
    "- Series: Estructura unidimensional (similar a un vector o lista).\n",
    "- DataFrame: Tabla bidimensional con filas y columnas."
   ]
  },
  {
   "cell_type": "markdown",
   "metadata": {},
   "source": [
    "###  Instalación y Configuración\n",
    "    \n",
    "    ```bash\n",
    "    pip install pandas\n",
    "    ```\n",
    "    \n",
    "    ```python\n",
    "    import pandas as pd\n",
    "    ```\n"
   ]
  },
  {
   "cell_type": "markdown",
   "metadata": {},
   "source": [
    "pip no se reconoce como un comando interno o externo, programa o archivo por lotes ejecutable"
   ]
  },
  {
   "cell_type": "code",
   "execution_count": 3,
   "metadata": {},
   "outputs": [
    {
     "name": "stdout",
     "output_type": "stream",
     "text": [
      "Looking in links: c:\\Users\\HP\\AppData\\Local\\Temp\\tmp1iurs5c1\n",
      "Requirement already up-to-date: setuptools in c:\\users\\hp\\appdata\\local\\programs\\python\\python39\\lib\\site-packages (74.1.1)\n",
      "Requirement already up-to-date: pip in c:\\users\\hp\\appdata\\local\\programs\\python\\python39\\lib\\site-packages (23.2.1)\n"
     ]
    }
   ],
   "source": [
    "!py -m ensurepip --upgrade"
   ]
  },
  {
   "cell_type": "code",
   "execution_count": 1,
   "metadata": {},
   "outputs": [
    {
     "name": "stdout",
     "output_type": "stream",
     "text": [
      "Collecting pandas\n",
      "  Downloading pandas-2.2.3-cp310-cp310-win_amd64.whl (11.6 MB)\n",
      "     ---------------------------------------- 0.0/11.6 MB ? eta -:--:--\n",
      "     ---------------------------------------- 0.0/11.6 MB ? eta -:--:--\n",
      "     --------------------------------------- 0.0/11.6 MB 660.6 kB/s eta 0:00:18\n",
      "     --------------------------------------- 0.0/11.6 MB 660.6 kB/s eta 0:00:18\n",
      "     --------------------------------------- 0.1/11.6 MB 508.4 kB/s eta 0:00:23\n",
      "     --------------------------------------- 0.1/11.6 MB 547.6 kB/s eta 0:00:21\n",
      "     --------------------------------------- 0.1/11.6 MB 532.5 kB/s eta 0:00:22\n",
      "      -------------------------------------- 0.2/11.6 MB 692.4 kB/s eta 0:00:17\n",
      "      -------------------------------------- 0.2/11.6 MB 754.9 kB/s eta 0:00:16\n",
      "      -------------------------------------- 0.3/11.6 MB 737.3 kB/s eta 0:00:16\n",
      "     - ------------------------------------- 0.4/11.6 MB 849.3 kB/s eta 0:00:14\n",
      "     - ------------------------------------- 0.4/11.6 MB 849.3 kB/s eta 0:00:14\n",
      "     - ------------------------------------- 0.5/11.6 MB 829.2 kB/s eta 0:00:14\n",
      "     -- ------------------------------------- 0.6/11.6 MB 1.0 MB/s eta 0:00:11\n",
      "     -- ------------------------------------- 0.7/11.6 MB 1.1 MB/s eta 0:00:10\n",
      "     --- ------------------------------------ 1.0/11.6 MB 1.4 MB/s eta 0:00:08\n",
      "     ---- ----------------------------------- 1.2/11.6 MB 1.7 MB/s eta 0:00:07\n",
      "     ---- ----------------------------------- 1.3/11.6 MB 1.7 MB/s eta 0:00:07\n",
      "     ------ --------------------------------- 1.8/11.6 MB 2.2 MB/s eta 0:00:05\n",
      "     -------- ------------------------------- 2.3/11.6 MB 2.7 MB/s eta 0:00:04\n",
      "     --------- ------------------------------ 2.8/11.6 MB 3.1 MB/s eta 0:00:03\n",
      "     ----------- ---------------------------- 3.3/11.6 MB 3.4 MB/s eta 0:00:03\n",
      "     ------------- -------------------------- 3.9/11.6 MB 3.9 MB/s eta 0:00:02\n",
      "     ---------------- ----------------------- 4.8/11.6 MB 4.6 MB/s eta 0:00:02\n",
      "     ------------------- -------------------- 5.7/11.6 MB 5.2 MB/s eta 0:00:02\n",
      "     --------------------- ------------------ 6.2/11.6 MB 5.5 MB/s eta 0:00:01\n",
      "     ------------------------ --------------- 7.0/11.6 MB 5.8 MB/s eta 0:00:01\n",
      "     ------------------------ --------------- 7.2/11.6 MB 5.9 MB/s eta 0:00:01\n",
      "     ------------------------ --------------- 7.2/11.6 MB 5.9 MB/s eta 0:00:01\n",
      "     ------------------------ --------------- 7.2/11.6 MB 5.9 MB/s eta 0:00:01\n",
      "     ------------------------- -------------- 7.3/11.6 MB 5.2 MB/s eta 0:00:01\n",
      "     --------------------------- ------------ 8.0/11.6 MB 5.6 MB/s eta 0:00:01\n",
      "     -------------------------------- ------- 9.5/11.6 MB 6.4 MB/s eta 0:00:01\n",
      "     --------------------------------------  11.6/11.6 MB 13.9 MB/s eta 0:00:01\n",
      "     --------------------------------------- 11.6/11.6 MB 13.1 MB/s eta 0:00:00\n",
      "Collecting tzdata>=2022.7\n",
      "  Using cached tzdata-2024.2-py2.py3-none-any.whl (346 kB)\n",
      "Collecting numpy>=1.22.4\n",
      "  Downloading numpy-2.1.3-cp310-cp310-win_amd64.whl (12.9 MB)\n",
      "     ---------------------------------------- 0.0/12.9 MB ? eta -:--:--\n",
      "     -- ------------------------------------- 0.7/12.9 MB 22.7 MB/s eta 0:00:01\n",
      "     ---- ----------------------------------- 1.5/12.9 MB 18.9 MB/s eta 0:00:01\n",
      "     ------- -------------------------------- 2.3/12.9 MB 18.3 MB/s eta 0:00:01\n",
      "     -------- ------------------------------- 2.9/12.9 MB 15.2 MB/s eta 0:00:01\n",
      "     ---------- ----------------------------- 3.4/12.9 MB 14.6 MB/s eta 0:00:01\n",
      "     ------------ --------------------------- 3.9/12.9 MB 14.7 MB/s eta 0:00:01\n",
      "     ------------ --------------------------- 4.1/12.9 MB 13.9 MB/s eta 0:00:01\n",
      "     ------------ --------------------------- 4.1/12.9 MB 13.9 MB/s eta 0:00:01\n",
      "     ------------ --------------------------- 4.1/12.9 MB 13.9 MB/s eta 0:00:01\n",
      "     ------------ --------------------------- 4.1/12.9 MB 13.9 MB/s eta 0:00:01\n",
      "     ------------ --------------------------- 4.1/12.9 MB 13.9 MB/s eta 0:00:01\n",
      "     ------------- -------------------------- 4.4/12.9 MB 8.3 MB/s eta 0:00:02\n",
      "     ------------- -------------------------- 4.4/12.9 MB 8.3 MB/s eta 0:00:02\n",
      "     ------------- -------------------------- 4.4/12.9 MB 8.3 MB/s eta 0:00:02\n",
      "     -------------- ------------------------- 4.7/12.9 MB 6.7 MB/s eta 0:00:02\n",
      "     --------------------------- ------------ 8.9/12.9 MB 11.8 MB/s eta 0:00:01\n",
      "     -------------------------------- ------ 10.6/12.9 MB 13.1 MB/s eta 0:00:01\n",
      "     ---------------------------------- ---- 11.3/12.9 MB 13.1 MB/s eta 0:00:01\n",
      "     ----------------------------------- --- 11.8/12.9 MB 12.6 MB/s eta 0:00:01\n",
      "     ------------------------------------- - 12.4/12.9 MB 12.6 MB/s eta 0:00:01\n",
      "     --------------------------------------  12.9/12.9 MB 12.8 MB/s eta 0:00:01\n",
      "     --------------------------------------- 12.9/12.9 MB 11.9 MB/s eta 0:00:00\n",
      "Requirement already satisfied: python-dateutil>=2.8.2 in c:\\users\\hp\\appdata\\local\\packages\\pythonsoftwarefoundation.python.3.10_qbz5n2kfra8p0\\localcache\\local-packages\\python310\\site-packages (from pandas) (2.9.0.post0)\n",
      "Collecting pytz>=2020.1\n",
      "  Downloading pytz-2024.2-py2.py3-none-any.whl (508 kB)\n",
      "     ---------------------------------------- 0.0/508.0 kB ? eta -:--:--\n",
      "     ------------------------------------- 508.0/508.0 kB 10.6 MB/s eta 0:00:00\n",
      "Requirement already satisfied: six>=1.5 in c:\\users\\hp\\appdata\\local\\packages\\pythonsoftwarefoundation.python.3.10_qbz5n2kfra8p0\\localcache\\local-packages\\python310\\site-packages (from python-dateutil>=2.8.2->pandas) (1.16.0)\n",
      "Installing collected packages: pytz, tzdata, numpy, pandas\n",
      "Successfully installed numpy-2.1.3 pandas-2.2.3 pytz-2024.2 tzdata-2024.2\n"
     ]
    },
    {
     "name": "stderr",
     "output_type": "stream",
     "text": [
      "\n",
      "[notice] A new release of pip is available: 23.0.1 -> 24.3.1\n",
      "[notice] To update, run: C:\\Users\\HP\\AppData\\Local\\Microsoft\\WindowsApps\\PythonSoftwareFoundation.Python.3.10_qbz5n2kfra8p0\\python.exe -m pip install --upgrade pip\n"
     ]
    }
   ],
   "source": [
    "!pip install pandas"
   ]
  },
  {
   "cell_type": "code",
   "execution_count": 4,
   "metadata": {},
   "outputs": [],
   "source": [
    "# importar pandas y numpy\n",
    "import numpy as np\n",
    "import pandas  as pd\n"
   ]
  },
  {
   "cell_type": "code",
   "execution_count": 5,
   "metadata": {},
   "outputs": [
    {
     "name": "stdout",
     "output_type": "stream",
     "text": [
      "0    1\n",
      "1    3\n",
      "2    5\n",
      "3    6\n",
      "4    8\n",
      "dtype: int64\n"
     ]
    }
   ],
   "source": [
    "# una serie\n",
    "s = pd.Series([1, 3, 5, 6, 8])\n",
    "print(s)"
   ]
  },
  {
   "cell_type": "code",
   "execution_count": 7,
   "metadata": {},
   "outputs": [
    {
     "ename": "TypeError",
     "evalue": "unsupported operand type(s) for /: 'list' and 'int'",
     "output_type": "error",
     "traceback": [
      "\u001b[1;31m---------------------------------------------------------------------------\u001b[0m",
      "\u001b[1;31mTypeError\u001b[0m                                 Traceback (most recent call last)",
      "Cell \u001b[1;32mIn[7], line 1\u001b[0m\n\u001b[1;32m----> 1\u001b[0m \u001b[43mlista\u001b[49m\u001b[38;5;241;43m/\u001b[39;49m\u001b[43m \u001b[49m\u001b[38;5;241;43m2\u001b[39;49m\n",
      "\u001b[1;31mTypeError\u001b[0m: unsupported operand type(s) for /: 'list' and 'int'"
     ]
    }
   ],
   "source": [
    "lista/ 2"
   ]
  },
  {
   "cell_type": "code",
   "execution_count": 6,
   "metadata": {},
   "outputs": [
    {
     "data": {
      "text/plain": [
       "0    1.0\n",
       "1    3.0\n",
       "2    5.0\n",
       "3    NaN\n",
       "4    6.0\n",
       "5    8.0\n",
       "dtype: float64"
      ]
     },
     "execution_count": 6,
     "metadata": {},
     "output_type": "execute_result"
    }
   ],
   "source": [
    "lista = [1, 3, 5, np.nan, 6, 8]\n",
    "serie_2 = pd.Series(lista)\n",
    "serie_2"
   ]
  },
  {
   "cell_type": "code",
   "execution_count": 9,
   "metadata": {},
   "outputs": [
    {
     "data": {
      "text/plain": [
       "0     2.0\n",
       "1     6.0\n",
       "2    10.0\n",
       "3     NaN\n",
       "4    12.0\n",
       "5    16.0\n",
       "dtype: float64"
      ]
     },
     "execution_count": 9,
     "metadata": {},
     "output_type": "execute_result"
    }
   ],
   "source": [
    "serie_2*2"
   ]
  },
  {
   "cell_type": "code",
   "execution_count": 11,
   "metadata": {},
   "outputs": [
    {
     "data": {
      "text/plain": [
       "array([-0.34365064,  0.71123156,  0.83649164, -1.077659  ,  1.62972885])"
      ]
     },
     "execution_count": 11,
     "metadata": {},
     "output_type": "execute_result"
    }
   ],
   "source": [
    "np.random.randn(5)"
   ]
  },
  {
   "cell_type": "code",
   "execution_count": 12,
   "metadata": {},
   "outputs": [
    {
     "data": {
      "text/plain": [
       "a   -0.534335\n",
       "b    1.017500\n",
       "c   -0.473023\n",
       "d   -1.277361\n",
       "e    1.066959\n",
       "dtype: float64"
      ]
     },
     "execution_count": 12,
     "metadata": {},
     "output_type": "execute_result"
    }
   ],
   "source": [
    "s = pd.Series(np.random.randn(5), index=[\"a\", \"b\", \"c\", \"d\", \"e\"])\n",
    "s"
   ]
  },
  {
   "cell_type": "code",
   "execution_count": null,
   "metadata": {},
   "outputs": [
    {
     "data": {
      "text/plain": [
       "Index(['a', 'b', 'c', 'd', 'e'], dtype='object')"
      ]
     },
     "execution_count": 13,
     "metadata": {},
     "output_type": "execute_result"
    }
   ],
   "source": [
    "#indice\n",
    "s.index"
   ]
  },
  {
   "cell_type": "code",
   "execution_count": null,
   "metadata": {},
   "outputs": [],
   "source": []
  },
  {
   "cell_type": "code",
   "execution_count": 16,
   "metadata": {},
   "outputs": [],
   "source": [
    "# editar un valor \n",
    "s[\"c\"] = 12"
   ]
  },
  {
   "cell_type": "code",
   "execution_count": 17,
   "metadata": {},
   "outputs": [
    {
     "data": {
      "text/plain": [
       "a    -0.534335\n",
       "b     1.017500\n",
       "c    12.000000\n",
       "d    -1.277361\n",
       "e     1.066959\n",
       "dtype: float64"
      ]
     },
     "execution_count": 17,
     "metadata": {},
     "output_type": "execute_result"
    }
   ],
   "source": [
    "s"
   ]
  },
  {
   "cell_type": "code",
   "execution_count": 14,
   "metadata": {},
   "outputs": [
    {
     "name": "stdout",
     "output_type": "stream",
     "text": [
      "a\n",
      "b\n",
      "c\n",
      "d\n",
      "e\n"
     ]
    }
   ],
   "source": [
    "# iterar sobre los indices de una serie\n",
    "for i in s.index:\n",
    "    print(i)"
   ]
  },
  {
   "cell_type": "code",
   "execution_count": null,
   "metadata": {},
   "outputs": [
    {
     "name": "stdout",
     "output_type": "stream",
     "text": [
      "1.0\n",
      "3.0\n",
      "5.0\n",
      "nan\n",
      "6.0\n",
      "8.0\n"
     ]
    }
   ],
   "source": [
    "for i in serie_2:\n",
    "    print(i)\n",
    "    # si i es mayor que "
   ]
  },
  {
   "cell_type": "code",
   "execution_count": 20,
   "metadata": {},
   "outputs": [
    {
     "data": {
      "text/plain": [
       "[[1, 2, 3], [4, 5, 6], [7, 8, 9]]"
      ]
     },
     "execution_count": 20,
     "metadata": {},
     "output_type": "execute_result"
    }
   ],
   "source": [
    "[[1, 2, 3], [4, 5, 6], [7, 8, 9]]"
   ]
  },
  {
   "cell_type": "code",
   "execution_count": 18,
   "metadata": {},
   "outputs": [
    {
     "name": "stdout",
     "output_type": "stream",
     "text": [
      "   0  1  2\n",
      "0  1  2  3\n",
      "1  4  5  6\n",
      "2  7  8  9\n"
     ]
    }
   ],
   "source": [
    "# un DataFrame con listas\n",
    "df = pd.DataFrame([[1, 2, 3], [4, 5, 6], [7, 8, 9]])\n",
    "print(df)\n"
   ]
  },
  {
   "cell_type": "code",
   "execution_count": 33,
   "metadata": {},
   "outputs": [
    {
     "data": {
      "text/plain": [
       "{'nombre': ['Juan', 'Ana', 'Pedro'],\n",
       " 'edad': [23, 34, 45],\n",
       " 'ciudad': ['Bogotá', 'Medellín', 'Cali']}"
      ]
     },
     "execution_count": 33,
     "metadata": {},
     "output_type": "execute_result"
    }
   ],
   "source": [
    "diccionario_1 = {\n",
    "    \"nombre\": [\"Juan\", \"Ana\", \"Pedro\"],\n",
    "    \"edad\": [23, 34, 45],\n",
    "    \"ciudad\": [\"Bogotá\", \"Medellín\", \"Cali\"]\n",
    "}\n",
    "diccionario_1"
   ]
  },
  {
   "cell_type": "code",
   "execution_count": 34,
   "metadata": {},
   "outputs": [
    {
     "data": {
      "text/html": [
       "<div>\n",
       "<style scoped>\n",
       "    .dataframe tbody tr th:only-of-type {\n",
       "        vertical-align: middle;\n",
       "    }\n",
       "\n",
       "    .dataframe tbody tr th {\n",
       "        vertical-align: top;\n",
       "    }\n",
       "\n",
       "    .dataframe thead th {\n",
       "        text-align: right;\n",
       "    }\n",
       "</style>\n",
       "<table border=\"1\" class=\"dataframe\">\n",
       "  <thead>\n",
       "    <tr style=\"text-align: right;\">\n",
       "      <th></th>\n",
       "      <th>nombre</th>\n",
       "      <th>edad</th>\n",
       "      <th>ciudad</th>\n",
       "    </tr>\n",
       "  </thead>\n",
       "  <tbody>\n",
       "    <tr>\n",
       "      <th>0</th>\n",
       "      <td>Juan</td>\n",
       "      <td>23</td>\n",
       "      <td>Bogotá</td>\n",
       "    </tr>\n",
       "    <tr>\n",
       "      <th>1</th>\n",
       "      <td>Ana</td>\n",
       "      <td>34</td>\n",
       "      <td>Medellín</td>\n",
       "    </tr>\n",
       "    <tr>\n",
       "      <th>2</th>\n",
       "      <td>Pedro</td>\n",
       "      <td>45</td>\n",
       "      <td>Cali</td>\n",
       "    </tr>\n",
       "  </tbody>\n",
       "</table>\n",
       "</div>"
      ],
      "text/plain": [
       "  nombre  edad    ciudad\n",
       "0   Juan    23    Bogotá\n",
       "1    Ana    34  Medellín\n",
       "2  Pedro    45      Cali"
      ]
     },
     "execution_count": 34,
     "metadata": {},
     "output_type": "execute_result"
    }
   ],
   "source": [
    "# cada una de las listas se convierte en una columna, deben tener la misma longitud\n",
    "pd.DataFrame(diccionario_1)"
   ]
  },
  {
   "cell_type": "code",
   "execution_count": 37,
   "metadata": {},
   "outputs": [
    {
     "data": {
      "text/plain": [
       "{'nombre': 0     Juan\n",
       " 1      Ana\n",
       " 2    Pedro\n",
       " 3    Sofía\n",
       " dtype: object,\n",
       " 'edad': 0    23\n",
       " 1    34\n",
       " 2    45\n",
       " dtype: int64,\n",
       " 'ciudad': 0      Bogotá\n",
       " 1    Medellín\n",
       " 2        Cali\n",
       " dtype: object}"
      ]
     },
     "execution_count": 37,
     "metadata": {},
     "output_type": "execute_result"
    }
   ],
   "source": [
    "# diccionario con Series\n",
    "diccionario_2 = {\n",
    "    \"nombre\": pd.Series([\"Juan\", \"Ana\", \"Pedro\", \"Sofía\"]),\n",
    "    \"edad\": pd.Series([23, 34, 45]),\n",
    "    \"ciudad\": pd.Series([\"Bogotá\", \"Medellín\", \"Cali\"])\n",
    "}\n",
    "diccionario_2"
   ]
  },
  {
   "cell_type": "code",
   "execution_count": 38,
   "metadata": {},
   "outputs": [
    {
     "data": {
      "text/html": [
       "<div>\n",
       "<style scoped>\n",
       "    .dataframe tbody tr th:only-of-type {\n",
       "        vertical-align: middle;\n",
       "    }\n",
       "\n",
       "    .dataframe tbody tr th {\n",
       "        vertical-align: top;\n",
       "    }\n",
       "\n",
       "    .dataframe thead th {\n",
       "        text-align: right;\n",
       "    }\n",
       "</style>\n",
       "<table border=\"1\" class=\"dataframe\">\n",
       "  <thead>\n",
       "    <tr style=\"text-align: right;\">\n",
       "      <th></th>\n",
       "      <th>nombre</th>\n",
       "      <th>edad</th>\n",
       "      <th>ciudad</th>\n",
       "    </tr>\n",
       "  </thead>\n",
       "  <tbody>\n",
       "    <tr>\n",
       "      <th>0</th>\n",
       "      <td>Juan</td>\n",
       "      <td>23.0</td>\n",
       "      <td>Bogotá</td>\n",
       "    </tr>\n",
       "    <tr>\n",
       "      <th>1</th>\n",
       "      <td>Ana</td>\n",
       "      <td>34.0</td>\n",
       "      <td>Medellín</td>\n",
       "    </tr>\n",
       "    <tr>\n",
       "      <th>2</th>\n",
       "      <td>Pedro</td>\n",
       "      <td>45.0</td>\n",
       "      <td>Cali</td>\n",
       "    </tr>\n",
       "    <tr>\n",
       "      <th>3</th>\n",
       "      <td>Sofía</td>\n",
       "      <td>NaN</td>\n",
       "      <td>NaN</td>\n",
       "    </tr>\n",
       "  </tbody>\n",
       "</table>\n",
       "</div>"
      ],
      "text/plain": [
       "  nombre  edad    ciudad\n",
       "0   Juan  23.0    Bogotá\n",
       "1    Ana  34.0  Medellín\n",
       "2  Pedro  45.0      Cali\n",
       "3  Sofía   NaN       NaN"
      ]
     },
     "execution_count": 38,
     "metadata": {},
     "output_type": "execute_result"
    }
   ],
   "source": [
    "pd.DataFrame(diccionario_2)"
   ]
  },
  {
   "cell_type": "code",
   "execution_count": 48,
   "metadata": {},
   "outputs": [
    {
     "data": {
      "text/plain": [
       "{'ciudad': ['Bogotá', 'Medellín', 'Cali'],\n",
       " 'nombre': 0     Juan\n",
       " 1      Ana\n",
       " 2    Pedro\n",
       " dtype: object,\n",
       " 'edad': 0    23\n",
       " 1    34\n",
       " 2    45\n",
       " dtype: int64}"
      ]
     },
     "execution_count": 48,
     "metadata": {},
     "output_type": "execute_result"
    }
   ],
   "source": [
    "# diccionario con Series y listas\n",
    "diccionario_3 = {\"ciudad\": [\"Bogotá\", \"Medellín\", \"Cali\"],\n",
    "    \"nombre\": pd.Series([\"Juan\", \"Ana\", \"Pedro\"]),\n",
    "    \"edad\": pd.Series([23, 34, 45]),\n",
    "    \n",
    "}\n",
    "diccionario_3\n"
   ]
  },
  {
   "cell_type": "code",
   "execution_count": 49,
   "metadata": {},
   "outputs": [
    {
     "data": {
      "text/html": [
       "<div>\n",
       "<style scoped>\n",
       "    .dataframe tbody tr th:only-of-type {\n",
       "        vertical-align: middle;\n",
       "    }\n",
       "\n",
       "    .dataframe tbody tr th {\n",
       "        vertical-align: top;\n",
       "    }\n",
       "\n",
       "    .dataframe thead th {\n",
       "        text-align: right;\n",
       "    }\n",
       "</style>\n",
       "<table border=\"1\" class=\"dataframe\">\n",
       "  <thead>\n",
       "    <tr style=\"text-align: right;\">\n",
       "      <th></th>\n",
       "      <th>ciudad</th>\n",
       "      <th>nombre</th>\n",
       "      <th>edad</th>\n",
       "    </tr>\n",
       "  </thead>\n",
       "  <tbody>\n",
       "    <tr>\n",
       "      <th>0</th>\n",
       "      <td>Bogotá</td>\n",
       "      <td>Juan</td>\n",
       "      <td>23</td>\n",
       "    </tr>\n",
       "    <tr>\n",
       "      <th>1</th>\n",
       "      <td>Medellín</td>\n",
       "      <td>Ana</td>\n",
       "      <td>34</td>\n",
       "    </tr>\n",
       "    <tr>\n",
       "      <th>2</th>\n",
       "      <td>Cali</td>\n",
       "      <td>Pedro</td>\n",
       "      <td>45</td>\n",
       "    </tr>\n",
       "  </tbody>\n",
       "</table>\n",
       "</div>"
      ],
      "text/plain": [
       "     ciudad nombre  edad\n",
       "0    Bogotá   Juan    23\n",
       "1  Medellín    Ana    34\n",
       "2      Cali  Pedro    45"
      ]
     },
     "execution_count": 49,
     "metadata": {},
     "output_type": "execute_result"
    }
   ],
   "source": [
    "# la lista debe tener la misma cantidad de elementos que la serie\n",
    "pd.DataFrame(diccionario_3)"
   ]
  },
  {
   "cell_type": "code",
   "execution_count": 50,
   "metadata": {},
   "outputs": [
    {
     "data": {
      "text/plain": [
       "{'uno': a    1.0\n",
       " b    2.0\n",
       " c    3.0\n",
       " dtype: float64,\n",
       " 'dos': a    1.0\n",
       " b    2.0\n",
       " c    3.0\n",
       " d    4.0\n",
       " dtype: float64,\n",
       " 'nombre': 0     Juan\n",
       " 1    Pedro\n",
       " 2     Luis\n",
       " dtype: object}"
      ]
     },
     "execution_count": 50,
     "metadata": {},
     "output_type": "execute_result"
    }
   ],
   "source": [
    "#diccionario\n",
    "diccionario = {\"clave\":\"valor\"}\n",
    "d = {\n",
    "    \"uno\": pd.Series([1.0, 2.0, 3.0], index=[\"a\", \"b\", \"c\"]),\n",
    "    \"dos\": pd.Series([1.0, 2.0, 3.0, 4.0], index=[\"a\", \"b\", \"c\", \"d\"]),\n",
    "    \"nombre\": pd.Series([\"Juan\", \"Pedro\", \"Luis\"]),\n",
    "}\n",
    "d"
   ]
  },
  {
   "cell_type": "code",
   "execution_count": 52,
   "metadata": {},
   "outputs": [
    {
     "data": {
      "text/html": [
       "<div>\n",
       "<style scoped>\n",
       "    .dataframe tbody tr th:only-of-type {\n",
       "        vertical-align: middle;\n",
       "    }\n",
       "\n",
       "    .dataframe tbody tr th {\n",
       "        vertical-align: top;\n",
       "    }\n",
       "\n",
       "    .dataframe thead th {\n",
       "        text-align: right;\n",
       "    }\n",
       "</style>\n",
       "<table border=\"1\" class=\"dataframe\">\n",
       "  <thead>\n",
       "    <tr style=\"text-align: right;\">\n",
       "      <th></th>\n",
       "      <th>uno</th>\n",
       "      <th>dos</th>\n",
       "      <th>nombre</th>\n",
       "    </tr>\n",
       "  </thead>\n",
       "  <tbody>\n",
       "    <tr>\n",
       "      <th>a</th>\n",
       "      <td>1.0</td>\n",
       "      <td>1.0</td>\n",
       "      <td>NaN</td>\n",
       "    </tr>\n",
       "    <tr>\n",
       "      <th>b</th>\n",
       "      <td>2.0</td>\n",
       "      <td>2.0</td>\n",
       "      <td>NaN</td>\n",
       "    </tr>\n",
       "    <tr>\n",
       "      <th>c</th>\n",
       "      <td>3.0</td>\n",
       "      <td>3.0</td>\n",
       "      <td>NaN</td>\n",
       "    </tr>\n",
       "    <tr>\n",
       "      <th>d</th>\n",
       "      <td>NaN</td>\n",
       "      <td>4.0</td>\n",
       "      <td>NaN</td>\n",
       "    </tr>\n",
       "    <tr>\n",
       "      <th>0</th>\n",
       "      <td>NaN</td>\n",
       "      <td>NaN</td>\n",
       "      <td>Juan</td>\n",
       "    </tr>\n",
       "    <tr>\n",
       "      <th>1</th>\n",
       "      <td>NaN</td>\n",
       "      <td>NaN</td>\n",
       "      <td>Pedro</td>\n",
       "    </tr>\n",
       "    <tr>\n",
       "      <th>2</th>\n",
       "      <td>NaN</td>\n",
       "      <td>NaN</td>\n",
       "      <td>Luis</td>\n",
       "    </tr>\n",
       "  </tbody>\n",
       "</table>\n",
       "</div>"
      ],
      "text/plain": [
       "   uno  dos nombre\n",
       "a  1.0  1.0    NaN\n",
       "b  2.0  2.0    NaN\n",
       "c  3.0  3.0    NaN\n",
       "d  NaN  4.0    NaN\n",
       "0  NaN  NaN   Juan\n",
       "1  NaN  NaN  Pedro\n",
       "2  NaN  NaN   Luis"
      ]
     },
     "execution_count": 52,
     "metadata": {},
     "output_type": "execute_result"
    }
   ],
   "source": [
    "# es recomendable que los valores de las series tengan los mismos indices\n",
    "df_2 = pd.DataFrame(d)\n",
    "df_2"
   ]
  },
  {
   "cell_type": "code",
   "execution_count": 19,
   "metadata": {},
   "outputs": [
    {
     "name": "stdout",
     "output_type": "stream",
     "text": [
      "   0   1  2\n",
      "0  1  10  3\n",
      "1  4   5  6\n",
      "2  7   8  9\n"
     ]
    }
   ],
   "source": [
    "# edit a single cell value in a DataFrame\n",
    "df.iloc[0, 1] = 10\n",
    "print(df)"
   ]
  },
  {
   "cell_type": "code",
   "execution_count": 54,
   "metadata": {},
   "outputs": [
    {
     "data": {
      "text/html": [
       "<div>\n",
       "<style scoped>\n",
       "    .dataframe tbody tr th:only-of-type {\n",
       "        vertical-align: middle;\n",
       "    }\n",
       "\n",
       "    .dataframe tbody tr th {\n",
       "        vertical-align: top;\n",
       "    }\n",
       "\n",
       "    .dataframe thead th {\n",
       "        text-align: right;\n",
       "    }\n",
       "</style>\n",
       "<table border=\"1\" class=\"dataframe\">\n",
       "  <thead>\n",
       "    <tr style=\"text-align: right;\">\n",
       "      <th></th>\n",
       "      <th>Cliente</th>\n",
       "      <th>Consumo</th>\n",
       "      <th>Fecha</th>\n",
       "    </tr>\n",
       "  </thead>\n",
       "  <tbody>\n",
       "    <tr>\n",
       "      <th>0</th>\n",
       "      <td>A</td>\n",
       "      <td>100</td>\n",
       "      <td>2020-01-01</td>\n",
       "    </tr>\n",
       "    <tr>\n",
       "      <th>1</th>\n",
       "      <td>B</td>\n",
       "      <td>200</td>\n",
       "      <td>2020-01-02</td>\n",
       "    </tr>\n",
       "    <tr>\n",
       "      <th>2</th>\n",
       "      <td>C</td>\n",
       "      <td>300</td>\n",
       "      <td>2020-01-03</td>\n",
       "    </tr>\n",
       "    <tr>\n",
       "      <th>3</th>\n",
       "      <td>D</td>\n",
       "      <td>400</td>\n",
       "      <td>2020-01-04</td>\n",
       "    </tr>\n",
       "  </tbody>\n",
       "</table>\n",
       "</div>"
      ],
      "text/plain": [
       "  Cliente  Consumo      Fecha\n",
       "0       A      100 2020-01-01\n",
       "1       B      200 2020-01-02\n",
       "2       C      300 2020-01-03\n",
       "3       D      400 2020-01-04"
      ]
     },
     "execution_count": 54,
     "metadata": {},
     "output_type": "execute_result"
    }
   ],
   "source": [
    "# un dataframe, lista de consumos, nombres de clientes y fechas\n",
    "df = pd.DataFrame({\n",
    "    'Cliente': ['A', 'B', 'C', 'D'],\n",
    "    'Consumo': [100, 200, 300, 400],\n",
    "    'Fecha': pd.date_range('20200101', periods=4)\n",
    "})\n",
    "df"
   ]
  },
  {
   "cell_type": "code",
   "execution_count": 55,
   "metadata": {},
   "outputs": [
    {
     "name": "stdout",
     "output_type": "stream",
     "text": [
      "0    10\n",
      "1    20\n",
      "2    30\n",
      "3    40\n",
      "Name: Energía (kWh), dtype: int64\n"
     ]
    }
   ],
   "source": [
    "data = [10, 20, 30, 40]\n",
    "series = pd.Series(data, name=\"Energía (kWh)\")\n",
    "print(series)\n"
   ]
  },
  {
   "cell_type": "code",
   "execution_count": 56,
   "metadata": {},
   "outputs": [
    {
     "name": "stdout",
     "output_type": "stream",
     "text": [
      "       Estado  Consumo (kWh)\n",
      "0       Texas            500\n",
      "1  California            700\n"
     ]
    }
   ],
   "source": [
    "data = {'Estado': ['Texas', 'California'], 'Consumo (kWh)': [500, 700]}\n",
    "df = pd.DataFrame(data)\n",
    "print(df)\n"
   ]
  },
  {
   "cell_type": "markdown",
   "metadata": {},
   "source": [
    "### Actividad Práctica Inicial:\n",
    "\n",
    "Crear una Series y un DataFrame simple con datos ficticios de electricidad:\n",
    "- Consumos mensuales.\n",
    "- Tarifas por kWh.\n"
   ]
  },
  {
   "cell_type": "markdown",
   "metadata": {},
   "source": [
    "## Cargar y Explorar el Dataset"
   ]
  },
  {
   "cell_type": "code",
   "execution_count": null,
   "metadata": {},
   "outputs": [],
   "source": [
    "# Cargar dataset en un DataFrame\n",
    "datos = pd.read_csv('datos\\clean_data.csv')"
   ]
  },
  {
   "cell_type": "code",
   "execution_count": null,
   "metadata": {},
   "outputs": [],
   "source": [
    "# Explorar el DataFrame:\n",
    "# Ver primeras filas\n",
    "print(datos.head())"
   ]
  },
  {
   "cell_type": "code",
   "execution_count": null,
   "metadata": {},
   "outputs": [],
   "source": [
    "#Información del dataset:\n",
    "print(datos.info())\n"
   ]
  },
  {
   "cell_type": "markdown",
   "metadata": {},
   "source": [
    "Los estudiantes cargan el dataset y realizan las siguientes tareas:\n",
    "- Contar las filas y columnas.\n",
    "- Identificar el tipo de datos en cada columna.\n",
    "- Verificar si hay valores nulos.\n"
   ]
  },
  {
   "cell_type": "markdown",
   "metadata": {},
   "source": [
    "## Aplicación de Ciclos para Operaciones Básicas\n",
    "\n",
    "- Calcular ingresos promedio por sector utilizando for\n",
    "- Crear un ciclo para encontrar el promedio del precio por estado (stateDescription).   "
   ]
  },
  {
   "cell_type": "code",
   "execution_count": null,
   "metadata": {},
   "outputs": [],
   "source": [
    "sectores = df['sectorName'].unique()\n"
   ]
  },
  {
   "cell_type": "code",
   "execution_count": null,
   "metadata": {},
   "outputs": [],
   "source": [
    "# Ejemplo: Calcular el total de ventas por sector.\n",
    "sectores = df['sectorName'].unique()\n",
    "for sector in sectores:\n",
    "    ventas = df[df['sectorName'] == sector]['sales'].sum()\n",
    "    print(f\"Sector: {sector}, Ventas Totales: {ventas}\")\n",
    "\n"
   ]
  },
  {
   "cell_type": "code",
   "execution_count": null,
   "metadata": {},
   "outputs": [],
   "source": [
    "#Promedio de ventas por estado:\n",
    "\n",
    "estados = df['stateDescription'].unique()\n",
    "for estado in estados:\n",
    "    promedio = df[df['stateDescription'] == estado]['sales'].mean()\n",
    "    print(f\"Estado: {estado}, Promedio de Ventas: {promedio} millones de kWh\")\n"
   ]
  },
  {
   "cell_type": "markdown",
   "metadata": {},
   "source": [
    "## Métodos de DataFrame para Simplificar"
   ]
  },
  {
   "cell_type": "markdown",
   "metadata": {},
   "source": [
    "- totales sin ciclos:\n"
   ]
  },
  {
   "cell_type": "code",
   "execution_count": null,
   "metadata": {},
   "outputs": [],
   "source": [
    "ventas_por_sector = df.groupby('sectorName')['sales'].sum()\n",
    "print(ventas_por_sector)\n"
   ]
  },
  {
   "cell_type": "markdown",
   "metadata": {},
   "source": [
    "GroupBy y Agregaciones:\n",
    "\n",
    "Simplificar operaciones usando métodos:"
   ]
  },
  {
   "cell_type": "code",
   "execution_count": null,
   "metadata": {},
   "outputs": [],
   "source": [
    "ventas_por_sector = df.groupby('sectorName')['sales'].sum()\n",
    "print(ventas_por_sector)\n"
   ]
  },
  {
   "cell_type": "markdown",
   "metadata": {},
   "source": [
    "Filtrar y ordenar:\n",
    "\n",
    "Filtros simples y compuestos:"
   ]
  },
  {
   "cell_type": "code",
   "execution_count": null,
   "metadata": {},
   "outputs": [],
   "source": [
    "df_filtrado = df[(df['sales'] > 50) & (df['stateDescription'] == 'California')]\n",
    "print(df_filtrado)\n"
   ]
  },
  {
   "cell_type": "code",
   "execution_count": null,
   "metadata": {},
   "outputs": [],
   "source": [
    "# Ordenar por columna:\n",
    "df_ordenado = df.sort_values(by='revenue', ascending=False)\n",
    "print(df_ordenado.head())\n",
    "\n"
   ]
  },
  {
   "cell_type": "markdown",
   "metadata": {},
   "source": [
    "Los estudiantes cargarán el archivo y explorarán:\n",
    "- Total de filas y columnas.\n",
    "- Tipos de datos.\n",
    "- Valores faltantes."
   ]
  },
  {
   "cell_type": "code",
   "execution_count": null,
   "metadata": {},
   "outputs": [],
   "source": []
  },
  {
   "cell_type": "code",
   "execution_count": null,
   "metadata": {},
   "outputs": [],
   "source": [
    "avg_revenue_per_sector = df.groupby('sectorName')['revenue'].mean()\n",
    "print(avg_revenue_per_sector)\n"
   ]
  },
  {
   "cell_type": "code",
   "execution_count": null,
   "metadata": {},
   "outputs": [],
   "source": [
    "#Filtro por sector:\n",
    "\n",
    "residential_data = df[df['sectorName'] == 'residential']\n",
    "print(residential_data.head())\n"
   ]
  },
  {
   "cell_type": "code",
   "execution_count": null,
   "metadata": {},
   "outputs": [],
   "source": [
    "#Usar métodos para encontrar el total de ventas (sales) por estado y año.\n"
   ]
  },
  {
   "cell_type": "markdown",
   "metadata": {},
   "source": [
    "# Ejercicio Final: Exploración de Datos (20 minutos)\n",
    "Problema: Los estudiantes deben responder estas preguntas usando Pandas:\n",
    "\n",
    "- ¿Cuál es el sector con el precio promedio más alto en 2023?\n",
    "- ¿Cuál fue el total de ingresos en 2024 para el sector industrial?\n",
    "- ¿Cuál es el estado con la mayor cantidad de clientes en 2024?\n",
    "- Sugerencia: Usar combinaciones de filtros, groupby, y métodos como mean() o sum()."
   ]
  },
  {
   "cell_type": "markdown",
   "metadata": {},
   "source": [
    "## Cuarta Parte: Taller de Práctica \n",
    "- Ejercicio 1: Análisis de Tarifas por Estado y Sector\n",
    "Filtrar los datos para encontrar el estado con la tarifa promedio más alta en el sector residencial.\n",
    "\n",
    "- Ejercicio 2: Clasificación de Ventas\n",
    "Recorrer la columna sales y clasificar las ventas como \"Bajas\", \"Medias\" o \"Altas\" según estos criterios:\n",
    "\n",
    "    - Baja: < 50 millones de kWh.\n",
    "    - Media: 50-100 millones de kWh.\n",
    "    - Alta: > 100 millones de kWh.\n",
    "Crear una nueva columna con la clasificación.\n",
    "- Ejercicio 3: Consumo y Clientes\n",
    "Calcular el consumo promedio por cliente en cada sector y mostrar los resultados.\n",
    "\n",
    "- Ejercicio 4: Tendencias Temporales\n",
    "Usar los datos de los años 2023 y 2024 para calcular el crecimiento porcentual del ingreso en cada estado."
   ]
  },
  {
   "cell_type": "markdown",
   "metadata": {},
   "source": [
    "Ejercicio 1: Resumen por Sector\n",
    "Calcular las ventas, ingresos totales y el precio promedio por sector usando métodos.\n",
    "\n",
    "Ejercicio 2: Top Estados con Mayor Ingreso\n",
    "Filtrar los 5 estados con mayores ingresos en 2024.\n",
    "\n",
    "Ejercicio 3: Tendencias Temporales\n",
    "Calcular el crecimiento porcentual de ventas entre 2020 y 2024 para cada estado.\n",
    "\n",
    "Ejercicio 4: Consumo por Cliente\n",
    "Crear una nueva columna que calcule el consumo promedio por cliente para observaciones donde esta información esté disponible.\n",
    "\n"
   ]
  }
 ],
 "metadata": {
  "kernelspec": {
   "display_name": "Python 3",
   "language": "python",
   "name": "python3"
  },
  "language_info": {
   "codemirror_mode": {
    "name": "ipython",
    "version": 3
   },
   "file_extension": ".py",
   "mimetype": "text/x-python",
   "name": "python",
   "nbconvert_exporter": "python",
   "pygments_lexer": "ipython3",
   "version": "3.10.11"
  }
 },
 "nbformat": 4,
 "nbformat_minor": 2
}
