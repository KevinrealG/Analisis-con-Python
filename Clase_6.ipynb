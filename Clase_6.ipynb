{
 "cells": [
  {
   "cell_type": "markdown",
   "metadata": {},
   "source": [
    "# Introducción a Pandas - Series y DataFrames\n",
    "## Profesor: Kevin Sossa\n",
    "## Estudiante: "
   ]
  },
  {
   "cell_type": "markdown",
   "metadata": {},
   "source": [
    "#### Objetivo\n",
    "> Iniciar a los estudiantes en el uso de Pandas para la manipulación de datos, mostrando cómo los DataFrames pueden facilitar operaciones repetitivas y análisis complejos."
   ]
  },
  {
   "cell_type": "markdown",
   "metadata": {},
   "source": []
  },
  {
   "cell_type": "markdown",
   "metadata": {},
   "source": [
    "## ¿Qué es Pandas?\n",
    "- Biblioteca para análisis de datos.\n",
    "- Herramienta clave en Data Science para manipulación y limpieza.\n"
   ]
  },
  {
   "cell_type": "markdown",
   "metadata": {},
   "source": [
    "### Conceptos Clave:\n",
    "\n",
    "- Series: Estructura unidimensional (similar a un vector o lista).\n",
    "- DataFrame: Tabla bidimensional con filas y columnas."
   ]
  },
  {
   "cell_type": "markdown",
   "metadata": {},
   "source": [
    "###  Instalación y Configuración\n",
    "    \n",
    "    ```bash\n",
    "    pip install pandas\n",
    "    ```\n",
    "    \n",
    "    ```python\n",
    "    import pandas as pd\n",
    "    ```\n"
   ]
  },
  {
   "cell_type": "markdown",
   "metadata": {},
   "source": [
    "pip no se reconoce como un comando interno o externo, programa o archivo por lotes ejecutable"
   ]
  },
  {
   "cell_type": "code",
   "execution_count": 3,
   "metadata": {},
   "outputs": [
    {
     "name": "stdout",
     "output_type": "stream",
     "text": [
      "Looking in links: c:\\Users\\HP\\AppData\\Local\\Temp\\tmp1iurs5c1\n",
      "Requirement already up-to-date: setuptools in c:\\users\\hp\\appdata\\local\\programs\\python\\python39\\lib\\site-packages (74.1.1)\n",
      "Requirement already up-to-date: pip in c:\\users\\hp\\appdata\\local\\programs\\python\\python39\\lib\\site-packages (23.2.1)\n"
     ]
    }
   ],
   "source": [
    "!py -m ensurepip --upgrade"
   ]
  },
  {
   "cell_type": "code",
   "execution_count": 1,
   "metadata": {},
   "outputs": [
    {
     "name": "stdout",
     "output_type": "stream",
     "text": [
      "Collecting pandas\n",
      "  Downloading pandas-2.2.3-cp310-cp310-win_amd64.whl (11.6 MB)\n",
      "     ---------------------------------------- 0.0/11.6 MB ? eta -:--:--\n",
      "     ---------------------------------------- 0.0/11.6 MB ? eta -:--:--\n",
      "     --------------------------------------- 0.0/11.6 MB 660.6 kB/s eta 0:00:18\n",
      "     --------------------------------------- 0.0/11.6 MB 660.6 kB/s eta 0:00:18\n",
      "     --------------------------------------- 0.1/11.6 MB 508.4 kB/s eta 0:00:23\n",
      "     --------------------------------------- 0.1/11.6 MB 547.6 kB/s eta 0:00:21\n",
      "     --------------------------------------- 0.1/11.6 MB 532.5 kB/s eta 0:00:22\n",
      "      -------------------------------------- 0.2/11.6 MB 692.4 kB/s eta 0:00:17\n",
      "      -------------------------------------- 0.2/11.6 MB 754.9 kB/s eta 0:00:16\n",
      "      -------------------------------------- 0.3/11.6 MB 737.3 kB/s eta 0:00:16\n",
      "     - ------------------------------------- 0.4/11.6 MB 849.3 kB/s eta 0:00:14\n",
      "     - ------------------------------------- 0.4/11.6 MB 849.3 kB/s eta 0:00:14\n",
      "     - ------------------------------------- 0.5/11.6 MB 829.2 kB/s eta 0:00:14\n",
      "     -- ------------------------------------- 0.6/11.6 MB 1.0 MB/s eta 0:00:11\n",
      "     -- ------------------------------------- 0.7/11.6 MB 1.1 MB/s eta 0:00:10\n",
      "     --- ------------------------------------ 1.0/11.6 MB 1.4 MB/s eta 0:00:08\n",
      "     ---- ----------------------------------- 1.2/11.6 MB 1.7 MB/s eta 0:00:07\n",
      "     ---- ----------------------------------- 1.3/11.6 MB 1.7 MB/s eta 0:00:07\n",
      "     ------ --------------------------------- 1.8/11.6 MB 2.2 MB/s eta 0:00:05\n",
      "     -------- ------------------------------- 2.3/11.6 MB 2.7 MB/s eta 0:00:04\n",
      "     --------- ------------------------------ 2.8/11.6 MB 3.1 MB/s eta 0:00:03\n",
      "     ----------- ---------------------------- 3.3/11.6 MB 3.4 MB/s eta 0:00:03\n",
      "     ------------- -------------------------- 3.9/11.6 MB 3.9 MB/s eta 0:00:02\n",
      "     ---------------- ----------------------- 4.8/11.6 MB 4.6 MB/s eta 0:00:02\n",
      "     ------------------- -------------------- 5.7/11.6 MB 5.2 MB/s eta 0:00:02\n",
      "     --------------------- ------------------ 6.2/11.6 MB 5.5 MB/s eta 0:00:01\n",
      "     ------------------------ --------------- 7.0/11.6 MB 5.8 MB/s eta 0:00:01\n",
      "     ------------------------ --------------- 7.2/11.6 MB 5.9 MB/s eta 0:00:01\n",
      "     ------------------------ --------------- 7.2/11.6 MB 5.9 MB/s eta 0:00:01\n",
      "     ------------------------ --------------- 7.2/11.6 MB 5.9 MB/s eta 0:00:01\n",
      "     ------------------------- -------------- 7.3/11.6 MB 5.2 MB/s eta 0:00:01\n",
      "     --------------------------- ------------ 8.0/11.6 MB 5.6 MB/s eta 0:00:01\n",
      "     -------------------------------- ------- 9.5/11.6 MB 6.4 MB/s eta 0:00:01\n",
      "     --------------------------------------  11.6/11.6 MB 13.9 MB/s eta 0:00:01\n",
      "     --------------------------------------- 11.6/11.6 MB 13.1 MB/s eta 0:00:00\n",
      "Collecting tzdata>=2022.7\n",
      "  Using cached tzdata-2024.2-py2.py3-none-any.whl (346 kB)\n",
      "Collecting numpy>=1.22.4\n",
      "  Downloading numpy-2.1.3-cp310-cp310-win_amd64.whl (12.9 MB)\n",
      "     ---------------------------------------- 0.0/12.9 MB ? eta -:--:--\n",
      "     -- ------------------------------------- 0.7/12.9 MB 22.7 MB/s eta 0:00:01\n",
      "     ---- ----------------------------------- 1.5/12.9 MB 18.9 MB/s eta 0:00:01\n",
      "     ------- -------------------------------- 2.3/12.9 MB 18.3 MB/s eta 0:00:01\n",
      "     -------- ------------------------------- 2.9/12.9 MB 15.2 MB/s eta 0:00:01\n",
      "     ---------- ----------------------------- 3.4/12.9 MB 14.6 MB/s eta 0:00:01\n",
      "     ------------ --------------------------- 3.9/12.9 MB 14.7 MB/s eta 0:00:01\n",
      "     ------------ --------------------------- 4.1/12.9 MB 13.9 MB/s eta 0:00:01\n",
      "     ------------ --------------------------- 4.1/12.9 MB 13.9 MB/s eta 0:00:01\n",
      "     ------------ --------------------------- 4.1/12.9 MB 13.9 MB/s eta 0:00:01\n",
      "     ------------ --------------------------- 4.1/12.9 MB 13.9 MB/s eta 0:00:01\n",
      "     ------------ --------------------------- 4.1/12.9 MB 13.9 MB/s eta 0:00:01\n",
      "     ------------- -------------------------- 4.4/12.9 MB 8.3 MB/s eta 0:00:02\n",
      "     ------------- -------------------------- 4.4/12.9 MB 8.3 MB/s eta 0:00:02\n",
      "     ------------- -------------------------- 4.4/12.9 MB 8.3 MB/s eta 0:00:02\n",
      "     -------------- ------------------------- 4.7/12.9 MB 6.7 MB/s eta 0:00:02\n",
      "     --------------------------- ------------ 8.9/12.9 MB 11.8 MB/s eta 0:00:01\n",
      "     -------------------------------- ------ 10.6/12.9 MB 13.1 MB/s eta 0:00:01\n",
      "     ---------------------------------- ---- 11.3/12.9 MB 13.1 MB/s eta 0:00:01\n",
      "     ----------------------------------- --- 11.8/12.9 MB 12.6 MB/s eta 0:00:01\n",
      "     ------------------------------------- - 12.4/12.9 MB 12.6 MB/s eta 0:00:01\n",
      "     --------------------------------------  12.9/12.9 MB 12.8 MB/s eta 0:00:01\n",
      "     --------------------------------------- 12.9/12.9 MB 11.9 MB/s eta 0:00:00\n",
      "Requirement already satisfied: python-dateutil>=2.8.2 in c:\\users\\hp\\appdata\\local\\packages\\pythonsoftwarefoundation.python.3.10_qbz5n2kfra8p0\\localcache\\local-packages\\python310\\site-packages (from pandas) (2.9.0.post0)\n",
      "Collecting pytz>=2020.1\n",
      "  Downloading pytz-2024.2-py2.py3-none-any.whl (508 kB)\n",
      "     ---------------------------------------- 0.0/508.0 kB ? eta -:--:--\n",
      "     ------------------------------------- 508.0/508.0 kB 10.6 MB/s eta 0:00:00\n",
      "Requirement already satisfied: six>=1.5 in c:\\users\\hp\\appdata\\local\\packages\\pythonsoftwarefoundation.python.3.10_qbz5n2kfra8p0\\localcache\\local-packages\\python310\\site-packages (from python-dateutil>=2.8.2->pandas) (1.16.0)\n",
      "Installing collected packages: pytz, tzdata, numpy, pandas\n",
      "Successfully installed numpy-2.1.3 pandas-2.2.3 pytz-2024.2 tzdata-2024.2\n"
     ]
    },
    {
     "name": "stderr",
     "output_type": "stream",
     "text": [
      "\n",
      "[notice] A new release of pip is available: 23.0.1 -> 24.3.1\n",
      "[notice] To update, run: C:\\Users\\HP\\AppData\\Local\\Microsoft\\WindowsApps\\PythonSoftwareFoundation.Python.3.10_qbz5n2kfra8p0\\python.exe -m pip install --upgrade pip\n"
     ]
    }
   ],
   "source": [
    "!pip install pandas"
   ]
  },
  {
   "cell_type": "code",
   "execution_count": 3,
   "metadata": {},
   "outputs": [],
   "source": [
    "# importar pandas y numpy\n",
    "import numpy as np\n",
    "import pandas  as pd\n"
   ]
  },
  {
   "cell_type": "code",
   "execution_count": null,
   "metadata": {},
   "outputs": [],
   "source": []
  },
  {
   "cell_type": "code",
   "execution_count": 5,
   "metadata": {},
   "outputs": [
    {
     "name": "stdout",
     "output_type": "stream",
     "text": [
      "0    1\n",
      "1    3\n",
      "2    5\n",
      "3    6\n",
      "4    8\n",
      "dtype: int64\n"
     ]
    }
   ],
   "source": [
    "# una serie\n",
    "s = pd.Series([1, 3, 5, 6, 8])\n",
    "print(s)"
   ]
  },
  {
   "cell_type": "code",
   "execution_count": 7,
   "metadata": {},
   "outputs": [
    {
     "ename": "TypeError",
     "evalue": "unsupported operand type(s) for /: 'list' and 'int'",
     "output_type": "error",
     "traceback": [
      "\u001b[1;31m---------------------------------------------------------------------------\u001b[0m",
      "\u001b[1;31mTypeError\u001b[0m                                 Traceback (most recent call last)",
      "Cell \u001b[1;32mIn[7], line 1\u001b[0m\n\u001b[1;32m----> 1\u001b[0m \u001b[43mlista\u001b[49m\u001b[38;5;241;43m/\u001b[39;49m\u001b[43m \u001b[49m\u001b[38;5;241;43m2\u001b[39;49m\n",
      "\u001b[1;31mTypeError\u001b[0m: unsupported operand type(s) for /: 'list' and 'int'"
     ]
    }
   ],
   "source": [
    "lista/ 2"
   ]
  },
  {
   "cell_type": "code",
   "execution_count": 6,
   "metadata": {},
   "outputs": [
    {
     "data": {
      "text/plain": [
       "0    1.0\n",
       "1    3.0\n",
       "2    5.0\n",
       "3    NaN\n",
       "4    6.0\n",
       "5    8.0\n",
       "dtype: float64"
      ]
     },
     "execution_count": 6,
     "metadata": {},
     "output_type": "execute_result"
    }
   ],
   "source": [
    "lista = [1, 3, 5, np.nan, 6, 8]\n",
    "serie_2 = pd.Series(lista)\n",
    "serie_2"
   ]
  },
  {
   "cell_type": "code",
   "execution_count": 9,
   "metadata": {},
   "outputs": [
    {
     "data": {
      "text/plain": [
       "0     2.0\n",
       "1     6.0\n",
       "2    10.0\n",
       "3     NaN\n",
       "4    12.0\n",
       "5    16.0\n",
       "dtype: float64"
      ]
     },
     "execution_count": 9,
     "metadata": {},
     "output_type": "execute_result"
    }
   ],
   "source": [
    "serie_2*2"
   ]
  },
  {
   "cell_type": "code",
   "execution_count": 11,
   "metadata": {},
   "outputs": [
    {
     "data": {
      "text/plain": [
       "array([-0.34365064,  0.71123156,  0.83649164, -1.077659  ,  1.62972885])"
      ]
     },
     "execution_count": 11,
     "metadata": {},
     "output_type": "execute_result"
    }
   ],
   "source": [
    "np.random.randn(5)"
   ]
  },
  {
   "cell_type": "code",
   "execution_count": 12,
   "metadata": {},
   "outputs": [
    {
     "data": {
      "text/plain": [
       "a   -0.534335\n",
       "b    1.017500\n",
       "c   -0.473023\n",
       "d   -1.277361\n",
       "e    1.066959\n",
       "dtype: float64"
      ]
     },
     "execution_count": 12,
     "metadata": {},
     "output_type": "execute_result"
    }
   ],
   "source": [
    "s = pd.Series(np.random.randn(5), index=[\"a\", \"b\", \"c\", \"d\", \"e\"])\n",
    "s"
   ]
  },
  {
   "cell_type": "code",
   "execution_count": null,
   "metadata": {},
   "outputs": [
    {
     "data": {
      "text/plain": [
       "Index(['a', 'b', 'c', 'd', 'e'], dtype='object')"
      ]
     },
     "execution_count": 13,
     "metadata": {},
     "output_type": "execute_result"
    }
   ],
   "source": [
    "#indice\n",
    "s.index"
   ]
  },
  {
   "cell_type": "code",
   "execution_count": null,
   "metadata": {},
   "outputs": [],
   "source": []
  },
  {
   "cell_type": "code",
   "execution_count": 16,
   "metadata": {},
   "outputs": [],
   "source": [
    "# editar un valor \n",
    "s[\"c\"] = 12"
   ]
  },
  {
   "cell_type": "code",
   "execution_count": 17,
   "metadata": {},
   "outputs": [
    {
     "data": {
      "text/plain": [
       "a    -0.534335\n",
       "b     1.017500\n",
       "c    12.000000\n",
       "d    -1.277361\n",
       "e     1.066959\n",
       "dtype: float64"
      ]
     },
     "execution_count": 17,
     "metadata": {},
     "output_type": "execute_result"
    }
   ],
   "source": [
    "s"
   ]
  },
  {
   "cell_type": "code",
   "execution_count": 14,
   "metadata": {},
   "outputs": [
    {
     "name": "stdout",
     "output_type": "stream",
     "text": [
      "a\n",
      "b\n",
      "c\n",
      "d\n",
      "e\n"
     ]
    }
   ],
   "source": [
    "# iterar sobre los indices de una serie\n",
    "for i in s.index:\n",
    "    print(i)"
   ]
  },
  {
   "cell_type": "code",
   "execution_count": null,
   "metadata": {},
   "outputs": [
    {
     "name": "stdout",
     "output_type": "stream",
     "text": [
      "1.0\n",
      "3.0\n",
      "5.0\n",
      "nan\n",
      "6.0\n",
      "8.0\n"
     ]
    }
   ],
   "source": [
    "for i in serie_2:\n",
    "    print(i)\n",
    "    # si i es mayor que "
   ]
  },
  {
   "cell_type": "code",
   "execution_count": 20,
   "metadata": {},
   "outputs": [
    {
     "data": {
      "text/plain": [
       "[[1, 2, 3], [4, 5, 6], [7, 8, 9]]"
      ]
     },
     "execution_count": 20,
     "metadata": {},
     "output_type": "execute_result"
    }
   ],
   "source": [
    "[[1, 2, 3], [4, 5, 6], [7, 8, 9]]"
   ]
  },
  {
   "cell_type": "code",
   "execution_count": 18,
   "metadata": {},
   "outputs": [
    {
     "name": "stdout",
     "output_type": "stream",
     "text": [
      "   0  1  2\n",
      "0  1  2  3\n",
      "1  4  5  6\n",
      "2  7  8  9\n"
     ]
    }
   ],
   "source": [
    "# un DataFrame con listas\n",
    "df = pd.DataFrame([[1, 2, 3], [4, 5, 6], [7, 8, 9]])\n",
    "print(df)\n"
   ]
  },
  {
   "cell_type": "code",
   "execution_count": 33,
   "metadata": {},
   "outputs": [
    {
     "data": {
      "text/plain": [
       "{'nombre': ['Juan', 'Ana', 'Pedro'],\n",
       " 'edad': [23, 34, 45],\n",
       " 'ciudad': ['Bogotá', 'Medellín', 'Cali']}"
      ]
     },
     "execution_count": 33,
     "metadata": {},
     "output_type": "execute_result"
    }
   ],
   "source": [
    "diccionario_1 = {\n",
    "    \"nombre\": [\"Juan\", \"Ana\", \"Pedro\"],\n",
    "    \"edad\": [23, 34, 45],\n",
    "    \"ciudad\": [\"Bogotá\", \"Medellín\", \"Cali\"]\n",
    "}\n",
    "diccionario_1"
   ]
  },
  {
   "cell_type": "code",
   "execution_count": 34,
   "metadata": {},
   "outputs": [
    {
     "data": {
      "text/html": [
       "<div>\n",
       "<style scoped>\n",
       "    .dataframe tbody tr th:only-of-type {\n",
       "        vertical-align: middle;\n",
       "    }\n",
       "\n",
       "    .dataframe tbody tr th {\n",
       "        vertical-align: top;\n",
       "    }\n",
       "\n",
       "    .dataframe thead th {\n",
       "        text-align: right;\n",
       "    }\n",
       "</style>\n",
       "<table border=\"1\" class=\"dataframe\">\n",
       "  <thead>\n",
       "    <tr style=\"text-align: right;\">\n",
       "      <th></th>\n",
       "      <th>nombre</th>\n",
       "      <th>edad</th>\n",
       "      <th>ciudad</th>\n",
       "    </tr>\n",
       "  </thead>\n",
       "  <tbody>\n",
       "    <tr>\n",
       "      <th>0</th>\n",
       "      <td>Juan</td>\n",
       "      <td>23</td>\n",
       "      <td>Bogotá</td>\n",
       "    </tr>\n",
       "    <tr>\n",
       "      <th>1</th>\n",
       "      <td>Ana</td>\n",
       "      <td>34</td>\n",
       "      <td>Medellín</td>\n",
       "    </tr>\n",
       "    <tr>\n",
       "      <th>2</th>\n",
       "      <td>Pedro</td>\n",
       "      <td>45</td>\n",
       "      <td>Cali</td>\n",
       "    </tr>\n",
       "  </tbody>\n",
       "</table>\n",
       "</div>"
      ],
      "text/plain": [
       "  nombre  edad    ciudad\n",
       "0   Juan    23    Bogotá\n",
       "1    Ana    34  Medellín\n",
       "2  Pedro    45      Cali"
      ]
     },
     "execution_count": 34,
     "metadata": {},
     "output_type": "execute_result"
    }
   ],
   "source": [
    "# cada una de las listas se convierte en una columna, deben tener la misma longitud\n",
    "pd.DataFrame(diccionario_1)"
   ]
  },
  {
   "cell_type": "code",
   "execution_count": 37,
   "metadata": {},
   "outputs": [
    {
     "data": {
      "text/plain": [
       "{'nombre': 0     Juan\n",
       " 1      Ana\n",
       " 2    Pedro\n",
       " 3    Sofía\n",
       " dtype: object,\n",
       " 'edad': 0    23\n",
       " 1    34\n",
       " 2    45\n",
       " dtype: int64,\n",
       " 'ciudad': 0      Bogotá\n",
       " 1    Medellín\n",
       " 2        Cali\n",
       " dtype: object}"
      ]
     },
     "execution_count": 37,
     "metadata": {},
     "output_type": "execute_result"
    }
   ],
   "source": [
    "# diccionario con Series\n",
    "diccionario_2 = {\n",
    "    \"nombre\": pd.Series([\"Juan\", \"Ana\", \"Pedro\", \"Sofía\"]),\n",
    "    \"edad\": pd.Series([23, 34, 45]),\n",
    "    \"ciudad\": pd.Series([\"Bogotá\", \"Medellín\", \"Cali\"])\n",
    "}\n",
    "diccionario_2"
   ]
  },
  {
   "cell_type": "code",
   "execution_count": 38,
   "metadata": {},
   "outputs": [
    {
     "data": {
      "text/html": [
       "<div>\n",
       "<style scoped>\n",
       "    .dataframe tbody tr th:only-of-type {\n",
       "        vertical-align: middle;\n",
       "    }\n",
       "\n",
       "    .dataframe tbody tr th {\n",
       "        vertical-align: top;\n",
       "    }\n",
       "\n",
       "    .dataframe thead th {\n",
       "        text-align: right;\n",
       "    }\n",
       "</style>\n",
       "<table border=\"1\" class=\"dataframe\">\n",
       "  <thead>\n",
       "    <tr style=\"text-align: right;\">\n",
       "      <th></th>\n",
       "      <th>nombre</th>\n",
       "      <th>edad</th>\n",
       "      <th>ciudad</th>\n",
       "    </tr>\n",
       "  </thead>\n",
       "  <tbody>\n",
       "    <tr>\n",
       "      <th>0</th>\n",
       "      <td>Juan</td>\n",
       "      <td>23.0</td>\n",
       "      <td>Bogotá</td>\n",
       "    </tr>\n",
       "    <tr>\n",
       "      <th>1</th>\n",
       "      <td>Ana</td>\n",
       "      <td>34.0</td>\n",
       "      <td>Medellín</td>\n",
       "    </tr>\n",
       "    <tr>\n",
       "      <th>2</th>\n",
       "      <td>Pedro</td>\n",
       "      <td>45.0</td>\n",
       "      <td>Cali</td>\n",
       "    </tr>\n",
       "    <tr>\n",
       "      <th>3</th>\n",
       "      <td>Sofía</td>\n",
       "      <td>NaN</td>\n",
       "      <td>NaN</td>\n",
       "    </tr>\n",
       "  </tbody>\n",
       "</table>\n",
       "</div>"
      ],
      "text/plain": [
       "  nombre  edad    ciudad\n",
       "0   Juan  23.0    Bogotá\n",
       "1    Ana  34.0  Medellín\n",
       "2  Pedro  45.0      Cali\n",
       "3  Sofía   NaN       NaN"
      ]
     },
     "execution_count": 38,
     "metadata": {},
     "output_type": "execute_result"
    }
   ],
   "source": [
    "pd.DataFrame(diccionario_2)"
   ]
  },
  {
   "cell_type": "code",
   "execution_count": 48,
   "metadata": {},
   "outputs": [
    {
     "data": {
      "text/plain": [
       "{'ciudad': ['Bogotá', 'Medellín', 'Cali'],\n",
       " 'nombre': 0     Juan\n",
       " 1      Ana\n",
       " 2    Pedro\n",
       " dtype: object,\n",
       " 'edad': 0    23\n",
       " 1    34\n",
       " 2    45\n",
       " dtype: int64}"
      ]
     },
     "execution_count": 48,
     "metadata": {},
     "output_type": "execute_result"
    }
   ],
   "source": [
    "# diccionario con Series y listas\n",
    "diccionario_3 = {\"ciudad\": [\"Bogotá\", \"Medellín\", \"Cali\"],\n",
    "    \"nombre\": pd.Series([\"Juan\", \"Ana\", \"Pedro\"]),\n",
    "    \"edad\": pd.Series([23, 34, 45]),\n",
    "    \n",
    "}\n",
    "diccionario_3\n"
   ]
  },
  {
   "cell_type": "code",
   "execution_count": 49,
   "metadata": {},
   "outputs": [
    {
     "data": {
      "text/html": [
       "<div>\n",
       "<style scoped>\n",
       "    .dataframe tbody tr th:only-of-type {\n",
       "        vertical-align: middle;\n",
       "    }\n",
       "\n",
       "    .dataframe tbody tr th {\n",
       "        vertical-align: top;\n",
       "    }\n",
       "\n",
       "    .dataframe thead th {\n",
       "        text-align: right;\n",
       "    }\n",
       "</style>\n",
       "<table border=\"1\" class=\"dataframe\">\n",
       "  <thead>\n",
       "    <tr style=\"text-align: right;\">\n",
       "      <th></th>\n",
       "      <th>ciudad</th>\n",
       "      <th>nombre</th>\n",
       "      <th>edad</th>\n",
       "    </tr>\n",
       "  </thead>\n",
       "  <tbody>\n",
       "    <tr>\n",
       "      <th>0</th>\n",
       "      <td>Bogotá</td>\n",
       "      <td>Juan</td>\n",
       "      <td>23</td>\n",
       "    </tr>\n",
       "    <tr>\n",
       "      <th>1</th>\n",
       "      <td>Medellín</td>\n",
       "      <td>Ana</td>\n",
       "      <td>34</td>\n",
       "    </tr>\n",
       "    <tr>\n",
       "      <th>2</th>\n",
       "      <td>Cali</td>\n",
       "      <td>Pedro</td>\n",
       "      <td>45</td>\n",
       "    </tr>\n",
       "  </tbody>\n",
       "</table>\n",
       "</div>"
      ],
      "text/plain": [
       "     ciudad nombre  edad\n",
       "0    Bogotá   Juan    23\n",
       "1  Medellín    Ana    34\n",
       "2      Cali  Pedro    45"
      ]
     },
     "execution_count": 49,
     "metadata": {},
     "output_type": "execute_result"
    }
   ],
   "source": [
    "# la lista debe tener la misma cantidad de elementos que la serie\n",
    "pd.DataFrame(diccionario_3)"
   ]
  },
  {
   "cell_type": "code",
   "execution_count": 50,
   "metadata": {},
   "outputs": [
    {
     "data": {
      "text/plain": [
       "{'uno': a    1.0\n",
       " b    2.0\n",
       " c    3.0\n",
       " dtype: float64,\n",
       " 'dos': a    1.0\n",
       " b    2.0\n",
       " c    3.0\n",
       " d    4.0\n",
       " dtype: float64,\n",
       " 'nombre': 0     Juan\n",
       " 1    Pedro\n",
       " 2     Luis\n",
       " dtype: object}"
      ]
     },
     "execution_count": 50,
     "metadata": {},
     "output_type": "execute_result"
    }
   ],
   "source": [
    "#diccionario\n",
    "diccionario = {\"clave\":\"valor\"}\n",
    "d = {\n",
    "    \"uno\": pd.Series([1.0, 2.0, 3.0], index=[\"a\", \"b\", \"c\"]),\n",
    "    \"dos\": pd.Series([1.0, 2.0, 3.0, 4.0], index=[\"a\", \"b\", \"c\", \"d\"]),\n",
    "    \"nombre\": pd.Series([\"Juan\", \"Pedro\", \"Luis\"]),\n",
    "}\n",
    "d"
   ]
  },
  {
   "cell_type": "code",
   "execution_count": 52,
   "metadata": {},
   "outputs": [
    {
     "data": {
      "text/html": [
       "<div>\n",
       "<style scoped>\n",
       "    .dataframe tbody tr th:only-of-type {\n",
       "        vertical-align: middle;\n",
       "    }\n",
       "\n",
       "    .dataframe tbody tr th {\n",
       "        vertical-align: top;\n",
       "    }\n",
       "\n",
       "    .dataframe thead th {\n",
       "        text-align: right;\n",
       "    }\n",
       "</style>\n",
       "<table border=\"1\" class=\"dataframe\">\n",
       "  <thead>\n",
       "    <tr style=\"text-align: right;\">\n",
       "      <th></th>\n",
       "      <th>uno</th>\n",
       "      <th>dos</th>\n",
       "      <th>nombre</th>\n",
       "    </tr>\n",
       "  </thead>\n",
       "  <tbody>\n",
       "    <tr>\n",
       "      <th>a</th>\n",
       "      <td>1.0</td>\n",
       "      <td>1.0</td>\n",
       "      <td>NaN</td>\n",
       "    </tr>\n",
       "    <tr>\n",
       "      <th>b</th>\n",
       "      <td>2.0</td>\n",
       "      <td>2.0</td>\n",
       "      <td>NaN</td>\n",
       "    </tr>\n",
       "    <tr>\n",
       "      <th>c</th>\n",
       "      <td>3.0</td>\n",
       "      <td>3.0</td>\n",
       "      <td>NaN</td>\n",
       "    </tr>\n",
       "    <tr>\n",
       "      <th>d</th>\n",
       "      <td>NaN</td>\n",
       "      <td>4.0</td>\n",
       "      <td>NaN</td>\n",
       "    </tr>\n",
       "    <tr>\n",
       "      <th>0</th>\n",
       "      <td>NaN</td>\n",
       "      <td>NaN</td>\n",
       "      <td>Juan</td>\n",
       "    </tr>\n",
       "    <tr>\n",
       "      <th>1</th>\n",
       "      <td>NaN</td>\n",
       "      <td>NaN</td>\n",
       "      <td>Pedro</td>\n",
       "    </tr>\n",
       "    <tr>\n",
       "      <th>2</th>\n",
       "      <td>NaN</td>\n",
       "      <td>NaN</td>\n",
       "      <td>Luis</td>\n",
       "    </tr>\n",
       "  </tbody>\n",
       "</table>\n",
       "</div>"
      ],
      "text/plain": [
       "   uno  dos nombre\n",
       "a  1.0  1.0    NaN\n",
       "b  2.0  2.0    NaN\n",
       "c  3.0  3.0    NaN\n",
       "d  NaN  4.0    NaN\n",
       "0  NaN  NaN   Juan\n",
       "1  NaN  NaN  Pedro\n",
       "2  NaN  NaN   Luis"
      ]
     },
     "execution_count": 52,
     "metadata": {},
     "output_type": "execute_result"
    }
   ],
   "source": [
    "# es recomendable que los valores de las series tengan los mismos indices\n",
    "df_2 = pd.DataFrame(d)\n",
    "df_2"
   ]
  },
  {
   "cell_type": "code",
   "execution_count": 19,
   "metadata": {},
   "outputs": [
    {
     "name": "stdout",
     "output_type": "stream",
     "text": [
      "   0   1  2\n",
      "0  1  10  3\n",
      "1  4   5  6\n",
      "2  7   8  9\n"
     ]
    }
   ],
   "source": [
    "# edit a single cell value in a DataFrame\n",
    "df.iloc[0, 1] = 10\n",
    "print(df)"
   ]
  },
  {
   "cell_type": "code",
   "execution_count": 54,
   "metadata": {},
   "outputs": [
    {
     "data": {
      "text/html": [
       "<div>\n",
       "<style scoped>\n",
       "    .dataframe tbody tr th:only-of-type {\n",
       "        vertical-align: middle;\n",
       "    }\n",
       "\n",
       "    .dataframe tbody tr th {\n",
       "        vertical-align: top;\n",
       "    }\n",
       "\n",
       "    .dataframe thead th {\n",
       "        text-align: right;\n",
       "    }\n",
       "</style>\n",
       "<table border=\"1\" class=\"dataframe\">\n",
       "  <thead>\n",
       "    <tr style=\"text-align: right;\">\n",
       "      <th></th>\n",
       "      <th>Cliente</th>\n",
       "      <th>Consumo</th>\n",
       "      <th>Fecha</th>\n",
       "    </tr>\n",
       "  </thead>\n",
       "  <tbody>\n",
       "    <tr>\n",
       "      <th>0</th>\n",
       "      <td>A</td>\n",
       "      <td>100</td>\n",
       "      <td>2020-01-01</td>\n",
       "    </tr>\n",
       "    <tr>\n",
       "      <th>1</th>\n",
       "      <td>B</td>\n",
       "      <td>200</td>\n",
       "      <td>2020-01-02</td>\n",
       "    </tr>\n",
       "    <tr>\n",
       "      <th>2</th>\n",
       "      <td>C</td>\n",
       "      <td>300</td>\n",
       "      <td>2020-01-03</td>\n",
       "    </tr>\n",
       "    <tr>\n",
       "      <th>3</th>\n",
       "      <td>D</td>\n",
       "      <td>400</td>\n",
       "      <td>2020-01-04</td>\n",
       "    </tr>\n",
       "  </tbody>\n",
       "</table>\n",
       "</div>"
      ],
      "text/plain": [
       "  Cliente  Consumo      Fecha\n",
       "0       A      100 2020-01-01\n",
       "1       B      200 2020-01-02\n",
       "2       C      300 2020-01-03\n",
       "3       D      400 2020-01-04"
      ]
     },
     "execution_count": 54,
     "metadata": {},
     "output_type": "execute_result"
    }
   ],
   "source": [
    "# un dataframe, lista de consumos, nombres de clientes y fechas\n",
    "df = pd.DataFrame({\n",
    "    'Cliente': ['A', 'B', 'C', 'D'],\n",
    "    'Consumo': [100, 200, 300, 400],\n",
    "    'Fecha': pd.date_range('20200101', periods=4)\n",
    "})\n",
    "df"
   ]
  },
  {
   "cell_type": "code",
   "execution_count": 55,
   "metadata": {},
   "outputs": [
    {
     "name": "stdout",
     "output_type": "stream",
     "text": [
      "0    10\n",
      "1    20\n",
      "2    30\n",
      "3    40\n",
      "Name: Energía (kWh), dtype: int64\n"
     ]
    }
   ],
   "source": [
    "data = [10, 20, 30, 40]\n",
    "series = pd.Series(data, name=\"Energía (kWh)\")\n",
    "print(series)\n"
   ]
  },
  {
   "cell_type": "code",
   "execution_count": 56,
   "metadata": {},
   "outputs": [
    {
     "name": "stdout",
     "output_type": "stream",
     "text": [
      "       Estado  Consumo (kWh)\n",
      "0       Texas            500\n",
      "1  California            700\n"
     ]
    }
   ],
   "source": [
    "data = {'Estado': ['Texas', 'California'], 'Consumo (kWh)': [500, 700]}\n",
    "df = pd.DataFrame(data)\n",
    "print(df)\n"
   ]
  },
  {
   "cell_type": "markdown",
   "metadata": {},
   "source": [
    "### Actividad Práctica Inicial:\n",
    "\n",
    "Crear una Series y un DataFrame simple con datos ficticios de electricidad:\n",
    "- Consumos mensuales.\n",
    "- Tarifas por kWh.\n"
   ]
  },
  {
   "cell_type": "markdown",
   "metadata": {},
   "source": [
    "## Cargar y Explorar el Dataset"
   ]
  },
  {
   "cell_type": "code",
   "execution_count": null,
   "metadata": {},
   "outputs": [],
   "source": [
    "# Definir las posiciones de inicio y fin de cada campo\n",
    "colspecs = [(0, 14), (20, 34)]\n",
    "\n",
    "# Definir los nombres de las columnas\n",
    "names = ['N1', 'N2']\n",
    "\n",
    "# Leer el archivo\n",
    "df = pd.read_fwf(\"datos\\ejemplo.txt\", colspecs=colspecs, names=names, encoding='latin-1')\n",
    "df\n"
   ]
  },
  {
   "cell_type": "code",
   "execution_count": null,
   "metadata": {},
   "outputs": [],
   "source": [
    "# Cargar dataset en un DataFrame\n",
    "ruta = r'C:\\Users\\HP\\Desktop\\Analisis con Python\\datos\\clean_data.csv'\n",
    "datos = pd.read_csv(ruta )"
   ]
  },
  {
   "cell_type": "code",
   "execution_count": 11,
   "metadata": {},
   "outputs": [],
   "source": [
    "datos_1 = pd.read_csv(ruta)"
   ]
  },
  {
   "cell_type": "code",
   "execution_count": 7,
   "metadata": {},
   "outputs": [
    {
     "data": {
      "text/html": [
       "<div>\n",
       "<style scoped>\n",
       "    .dataframe tbody tr th:only-of-type {\n",
       "        vertical-align: middle;\n",
       "    }\n",
       "\n",
       "    .dataframe tbody tr th {\n",
       "        vertical-align: top;\n",
       "    }\n",
       "\n",
       "    .dataframe thead th {\n",
       "        text-align: right;\n",
       "    }\n",
       "</style>\n",
       "<table border=\"1\" class=\"dataframe\">\n",
       "  <thead>\n",
       "    <tr style=\"text-align: right;\">\n",
       "      <th></th>\n",
       "      <th>year</th>\n",
       "      <th>mes</th>\n",
       "      <th>estado</th>\n",
       "      <th>sectorName</th>\n",
       "      <th>clientes</th>\n",
       "      <th>precio</th>\n",
       "      <th>ingresos</th>\n",
       "      <th>ventas</th>\n",
       "    </tr>\n",
       "  </thead>\n",
       "  <tbody>\n",
       "    <tr>\n",
       "      <th>0</th>\n",
       "      <td>2001</td>\n",
       "      <td>1</td>\n",
       "      <td>Wyoming</td>\n",
       "      <td>all sectors</td>\n",
       "      <td>NaN</td>\n",
       "      <td>4.31</td>\n",
       "      <td>48.12840</td>\n",
       "      <td>1116.17208</td>\n",
       "    </tr>\n",
       "    <tr>\n",
       "      <th>1</th>\n",
       "      <td>2001</td>\n",
       "      <td>1</td>\n",
       "      <td>Wyoming</td>\n",
       "      <td>commercial</td>\n",
       "      <td>NaN</td>\n",
       "      <td>5.13</td>\n",
       "      <td>12.67978</td>\n",
       "      <td>247.08691</td>\n",
       "    </tr>\n",
       "    <tr>\n",
       "      <th>2</th>\n",
       "      <td>2001</td>\n",
       "      <td>1</td>\n",
       "      <td>Wyoming</td>\n",
       "      <td>industrial</td>\n",
       "      <td>NaN</td>\n",
       "      <td>3.26</td>\n",
       "      <td>19.60858</td>\n",
       "      <td>602.30484</td>\n",
       "    </tr>\n",
       "    <tr>\n",
       "      <th>3</th>\n",
       "      <td>2001</td>\n",
       "      <td>1</td>\n",
       "      <td>Wyoming</td>\n",
       "      <td>other</td>\n",
       "      <td>NaN</td>\n",
       "      <td>4.75</td>\n",
       "      <td>0.76868</td>\n",
       "      <td>16.17442</td>\n",
       "    </tr>\n",
       "    <tr>\n",
       "      <th>4</th>\n",
       "      <td>2001</td>\n",
       "      <td>1</td>\n",
       "      <td>Wyoming</td>\n",
       "      <td>residential</td>\n",
       "      <td>NaN</td>\n",
       "      <td>6.01</td>\n",
       "      <td>15.07136</td>\n",
       "      <td>250.60591</td>\n",
       "    </tr>\n",
       "    <tr>\n",
       "      <th>5</th>\n",
       "      <td>2001</td>\n",
       "      <td>1</td>\n",
       "      <td>New England</td>\n",
       "      <td>all sectors</td>\n",
       "      <td>NaN</td>\n",
       "      <td>10.73</td>\n",
       "      <td>1139.89520</td>\n",
       "      <td>10622.88375</td>\n",
       "    </tr>\n",
       "    <tr>\n",
       "      <th>6</th>\n",
       "      <td>2001</td>\n",
       "      <td>1</td>\n",
       "      <td>South Carolina</td>\n",
       "      <td>other</td>\n",
       "      <td>NaN</td>\n",
       "      <td>6.57</td>\n",
       "      <td>5.28332</td>\n",
       "      <td>80.41336</td>\n",
       "    </tr>\n",
       "    <tr>\n",
       "      <th>7</th>\n",
       "      <td>2001</td>\n",
       "      <td>1</td>\n",
       "      <td>South Carolina</td>\n",
       "      <td>residential</td>\n",
       "      <td>NaN</td>\n",
       "      <td>7.36</td>\n",
       "      <td>225.81673</td>\n",
       "      <td>3066.25911</td>\n",
       "    </tr>\n",
       "    <tr>\n",
       "      <th>8</th>\n",
       "      <td>2001</td>\n",
       "      <td>1</td>\n",
       "      <td>South Dakota</td>\n",
       "      <td>all sectors</td>\n",
       "      <td>NaN</td>\n",
       "      <td>5.85</td>\n",
       "      <td>46.98518</td>\n",
       "      <td>803.24177</td>\n",
       "    </tr>\n",
       "    <tr>\n",
       "      <th>9</th>\n",
       "      <td>2001</td>\n",
       "      <td>1</td>\n",
       "      <td>South Dakota</td>\n",
       "      <td>commercial</td>\n",
       "      <td>NaN</td>\n",
       "      <td>5.95</td>\n",
       "      <td>15.92044</td>\n",
       "      <td>267.66283</td>\n",
       "    </tr>\n",
       "    <tr>\n",
       "      <th>10</th>\n",
       "      <td>2001</td>\n",
       "      <td>1</td>\n",
       "      <td>South Dakota</td>\n",
       "      <td>industrial</td>\n",
       "      <td>NaN</td>\n",
       "      <td>4.31</td>\n",
       "      <td>5.16366</td>\n",
       "      <td>119.68236</td>\n",
       "    </tr>\n",
       "    <tr>\n",
       "      <th>11</th>\n",
       "      <td>2001</td>\n",
       "      <td>1</td>\n",
       "      <td>South Dakota</td>\n",
       "      <td>other</td>\n",
       "      <td>NaN</td>\n",
       "      <td>3.47</td>\n",
       "      <td>1.38114</td>\n",
       "      <td>39.74549</td>\n",
       "    </tr>\n",
       "    <tr>\n",
       "      <th>12</th>\n",
       "      <td>2001</td>\n",
       "      <td>1</td>\n",
       "      <td>South Dakota</td>\n",
       "      <td>residential</td>\n",
       "      <td>NaN</td>\n",
       "      <td>6.52</td>\n",
       "      <td>24.51994</td>\n",
       "      <td>376.15108</td>\n",
       "    </tr>\n",
       "    <tr>\n",
       "      <th>13</th>\n",
       "      <td>2001</td>\n",
       "      <td>1</td>\n",
       "      <td>Tennessee</td>\n",
       "      <td>all sectors</td>\n",
       "      <td>NaN</td>\n",
       "      <td>5.59</td>\n",
       "      <td>539.11548</td>\n",
       "      <td>9648.54559</td>\n",
       "    </tr>\n",
       "    <tr>\n",
       "      <th>14</th>\n",
       "      <td>2001</td>\n",
       "      <td>1</td>\n",
       "      <td>Tennessee</td>\n",
       "      <td>commercial</td>\n",
       "      <td>NaN</td>\n",
       "      <td>6.16</td>\n",
       "      <td>122.55831</td>\n",
       "      <td>1990.33357</td>\n",
       "    </tr>\n",
       "  </tbody>\n",
       "</table>\n",
       "</div>"
      ],
      "text/plain": [
       "    year  mes          estado   sectorName  clientes  precio    ingresos  \\\n",
       "0   2001    1         Wyoming  all sectors       NaN    4.31    48.12840   \n",
       "1   2001    1         Wyoming   commercial       NaN    5.13    12.67978   \n",
       "2   2001    1         Wyoming   industrial       NaN    3.26    19.60858   \n",
       "3   2001    1         Wyoming        other       NaN    4.75     0.76868   \n",
       "4   2001    1         Wyoming  residential       NaN    6.01    15.07136   \n",
       "5   2001    1     New England  all sectors       NaN   10.73  1139.89520   \n",
       "6   2001    1  South Carolina        other       NaN    6.57     5.28332   \n",
       "7   2001    1  South Carolina  residential       NaN    7.36   225.81673   \n",
       "8   2001    1    South Dakota  all sectors       NaN    5.85    46.98518   \n",
       "9   2001    1    South Dakota   commercial       NaN    5.95    15.92044   \n",
       "10  2001    1    South Dakota   industrial       NaN    4.31     5.16366   \n",
       "11  2001    1    South Dakota        other       NaN    3.47     1.38114   \n",
       "12  2001    1    South Dakota  residential       NaN    6.52    24.51994   \n",
       "13  2001    1       Tennessee  all sectors       NaN    5.59   539.11548   \n",
       "14  2001    1       Tennessee   commercial       NaN    6.16   122.55831   \n",
       "\n",
       "         ventas  \n",
       "0    1116.17208  \n",
       "1     247.08691  \n",
       "2     602.30484  \n",
       "3      16.17442  \n",
       "4     250.60591  \n",
       "5   10622.88375  \n",
       "6      80.41336  \n",
       "7    3066.25911  \n",
       "8     803.24177  \n",
       "9     267.66283  \n",
       "10    119.68236  \n",
       "11     39.74549  \n",
       "12    376.15108  \n",
       "13   9648.54559  \n",
       "14   1990.33357  "
      ]
     },
     "execution_count": 7,
     "metadata": {},
     "output_type": "execute_result"
    }
   ],
   "source": [
    "# Explorar el DataFrame:\n",
    "# Ver primeras filas\n",
    "datos.head(15\n",
    "           )"
   ]
  },
  {
   "cell_type": "code",
   "execution_count": 8,
   "metadata": {},
   "outputs": [
    {
     "data": {
      "text/html": [
       "<div>\n",
       "<style scoped>\n",
       "    .dataframe tbody tr th:only-of-type {\n",
       "        vertical-align: middle;\n",
       "    }\n",
       "\n",
       "    .dataframe tbody tr th {\n",
       "        vertical-align: top;\n",
       "    }\n",
       "\n",
       "    .dataframe thead th {\n",
       "        text-align: right;\n",
       "    }\n",
       "</style>\n",
       "<table border=\"1\" class=\"dataframe\">\n",
       "  <thead>\n",
       "    <tr style=\"text-align: right;\">\n",
       "      <th></th>\n",
       "      <th>year</th>\n",
       "      <th>mes</th>\n",
       "      <th>estado</th>\n",
       "      <th>sectorName</th>\n",
       "      <th>clientes</th>\n",
       "      <th>precio</th>\n",
       "      <th>ingresos</th>\n",
       "      <th>ventas</th>\n",
       "    </tr>\n",
       "  </thead>\n",
       "  <tbody>\n",
       "    <tr>\n",
       "      <th>85865</th>\n",
       "      <td>2024</td>\n",
       "      <td>1</td>\n",
       "      <td>Arkansas</td>\n",
       "      <td>all sectors</td>\n",
       "      <td>1717720.0</td>\n",
       "      <td>9.63</td>\n",
       "      <td>442.98773</td>\n",
       "      <td>4598.63147</td>\n",
       "    </tr>\n",
       "    <tr>\n",
       "      <th>85866</th>\n",
       "      <td>2024</td>\n",
       "      <td>1</td>\n",
       "      <td>Arkansas</td>\n",
       "      <td>commercial</td>\n",
       "      <td>208669.0</td>\n",
       "      <td>10.26</td>\n",
       "      <td>97.79467</td>\n",
       "      <td>953.02154</td>\n",
       "    </tr>\n",
       "    <tr>\n",
       "      <th>85867</th>\n",
       "      <td>2024</td>\n",
       "      <td>1</td>\n",
       "      <td>Arkansas</td>\n",
       "      <td>industrial</td>\n",
       "      <td>34951.0</td>\n",
       "      <td>7.08</td>\n",
       "      <td>109.92656</td>\n",
       "      <td>1553.02838</td>\n",
       "    </tr>\n",
       "    <tr>\n",
       "      <th>85868</th>\n",
       "      <td>2024</td>\n",
       "      <td>1</td>\n",
       "      <td>Arkansas</td>\n",
       "      <td>residential</td>\n",
       "      <td>1474098.0</td>\n",
       "      <td>11.24</td>\n",
       "      <td>235.26399</td>\n",
       "      <td>2092.56172</td>\n",
       "    </tr>\n",
       "    <tr>\n",
       "      <th>85869</th>\n",
       "      <td>2024</td>\n",
       "      <td>1</td>\n",
       "      <td>Arkansas</td>\n",
       "      <td>transportation</td>\n",
       "      <td>2.0</td>\n",
       "      <td>12.70</td>\n",
       "      <td>0.00252</td>\n",
       "      <td>0.01984</td>\n",
       "    </tr>\n",
       "  </tbody>\n",
       "</table>\n",
       "</div>"
      ],
      "text/plain": [
       "       year  mes    estado      sectorName   clientes  precio   ingresos  \\\n",
       "85865  2024    1  Arkansas     all sectors  1717720.0    9.63  442.98773   \n",
       "85866  2024    1  Arkansas      commercial   208669.0   10.26   97.79467   \n",
       "85867  2024    1  Arkansas      industrial    34951.0    7.08  109.92656   \n",
       "85868  2024    1  Arkansas     residential  1474098.0   11.24  235.26399   \n",
       "85869  2024    1  Arkansas  transportation        2.0   12.70    0.00252   \n",
       "\n",
       "           ventas  \n",
       "85865  4598.63147  \n",
       "85866   953.02154  \n",
       "85867  1553.02838  \n",
       "85868  2092.56172  \n",
       "85869     0.01984  "
      ]
     },
     "execution_count": 8,
     "metadata": {},
     "output_type": "execute_result"
    }
   ],
   "source": [
    "datos.tail(5)"
   ]
  },
  {
   "cell_type": "code",
   "execution_count": 10,
   "metadata": {},
   "outputs": [
    {
     "name": "stdout",
     "output_type": "stream",
     "text": [
      "<class 'pandas.core.frame.DataFrame'>\n",
      "RangeIndex: 85870 entries, 0 to 85869\n",
      "Data columns (total 8 columns):\n",
      " #   Column      Non-Null Count  Dtype  \n",
      "---  ------      --------------  -----  \n",
      " 0   year        85870 non-null  int64  \n",
      " 1   mes         85870 non-null  int64  \n",
      " 2   estado      85870 non-null  object \n",
      " 3   sectorName  85870 non-null  object \n",
      " 4   clientes    59830 non-null  float64\n",
      " 5   precio      85870 non-null  float64\n",
      " 6   ingresos    85870 non-null  float64\n",
      " 7   ventas      85870 non-null  float64\n",
      "dtypes: float64(4), int64(2), object(2)\n",
      "memory usage: 5.2+ MB\n"
     ]
    }
   ],
   "source": [
    "#Información del dataset:\n",
    "datos.info()\n"
   ]
  },
  {
   "cell_type": "code",
   "execution_count": 4,
   "metadata": {},
   "outputs": [
    {
     "data": {
      "text/html": [
       "<div>\n",
       "<style scoped>\n",
       "    .dataframe tbody tr th:only-of-type {\n",
       "        vertical-align: middle;\n",
       "    }\n",
       "\n",
       "    .dataframe tbody tr th {\n",
       "        vertical-align: top;\n",
       "    }\n",
       "\n",
       "    .dataframe thead th {\n",
       "        text-align: right;\n",
       "    }\n",
       "</style>\n",
       "<table border=\"1\" class=\"dataframe\">\n",
       "  <thead>\n",
       "    <tr style=\"text-align: right;\">\n",
       "      <th></th>\n",
       "      <th>year</th>\n",
       "      <th>mes</th>\n",
       "      <th>estado</th>\n",
       "      <th>sectorName</th>\n",
       "      <th>clientes</th>\n",
       "      <th>precio</th>\n",
       "      <th>ingresos</th>\n",
       "      <th>ventas</th>\n",
       "    </tr>\n",
       "  </thead>\n",
       "  <tbody>\n",
       "    <tr>\n",
       "      <th>0</th>\n",
       "      <td>2001</td>\n",
       "      <td>1</td>\n",
       "      <td>Wyoming</td>\n",
       "      <td>all sectors</td>\n",
       "      <td>NaN</td>\n",
       "      <td>4.31</td>\n",
       "      <td>4.812840e+05</td>\n",
       "      <td>111617208.0</td>\n",
       "    </tr>\n",
       "    <tr>\n",
       "      <th>1</th>\n",
       "      <td>2001</td>\n",
       "      <td>1</td>\n",
       "      <td>Wyoming</td>\n",
       "      <td>commercial</td>\n",
       "      <td>NaN</td>\n",
       "      <td>5.13</td>\n",
       "      <td>1.267978e+06</td>\n",
       "      <td>24708691.0</td>\n",
       "    </tr>\n",
       "    <tr>\n",
       "      <th>2</th>\n",
       "      <td>2001</td>\n",
       "      <td>1</td>\n",
       "      <td>Wyoming</td>\n",
       "      <td>industrial</td>\n",
       "      <td>NaN</td>\n",
       "      <td>3.26</td>\n",
       "      <td>1.960858e+06</td>\n",
       "      <td>60230484.0</td>\n",
       "    </tr>\n",
       "    <tr>\n",
       "      <th>3</th>\n",
       "      <td>2001</td>\n",
       "      <td>1</td>\n",
       "      <td>Wyoming</td>\n",
       "      <td>other</td>\n",
       "      <td>NaN</td>\n",
       "      <td>4.75</td>\n",
       "      <td>7.686800e-01</td>\n",
       "      <td>1617442.0</td>\n",
       "    </tr>\n",
       "    <tr>\n",
       "      <th>4</th>\n",
       "      <td>2001</td>\n",
       "      <td>1</td>\n",
       "      <td>Wyoming</td>\n",
       "      <td>residential</td>\n",
       "      <td>NaN</td>\n",
       "      <td>6.01</td>\n",
       "      <td>1.507136e+06</td>\n",
       "      <td>25060591.0</td>\n",
       "    </tr>\n",
       "  </tbody>\n",
       "</table>\n",
       "</div>"
      ],
      "text/plain": [
       "   year  mes   estado   sectorName  clientes  precio      ingresos  \\\n",
       "0  2001    1  Wyoming  all sectors       NaN    4.31  4.812840e+05   \n",
       "1  2001    1  Wyoming   commercial       NaN    5.13  1.267978e+06   \n",
       "2  2001    1  Wyoming   industrial       NaN    3.26  1.960858e+06   \n",
       "3  2001    1  Wyoming        other       NaN    4.75  7.686800e-01   \n",
       "4  2001    1  Wyoming  residential       NaN    6.01  1.507136e+06   \n",
       "\n",
       "        ventas  \n",
       "0  111617208.0  \n",
       "1   24708691.0  \n",
       "2   60230484.0  \n",
       "3    1617442.0  \n",
       "4   25060591.0  "
      ]
     },
     "execution_count": 4,
     "metadata": {},
     "output_type": "execute_result"
    }
   ],
   "source": [
    "ruta = r'C:\\Users\\HP\\Desktop\\Analisis con Python\\datos\\clean_data.xlsx'\n",
    "datos_excel = pd.read_excel(ruta)\n",
    "datos_excel.head(5)"
   ]
  },
  {
   "cell_type": "code",
   "execution_count": 10,
   "metadata": {},
   "outputs": [
    {
     "data": {
      "text/plain": [
       "(85870, 8)"
      ]
     },
     "execution_count": 10,
     "metadata": {},
     "output_type": "execute_result"
    }
   ],
   "source": [
    "datos_excel.shape \n"
   ]
  },
  {
   "cell_type": "code",
   "execution_count": 6,
   "metadata": {},
   "outputs": [
    {
     "name": "stdout",
     "output_type": "stream",
     "text": [
      "El número de filas es :  85870\n",
      "El número de columnas es :  8\n"
     ]
    }
   ],
   "source": [
    "datos_excel.shape\n",
    "print(\"El número de filas es : \", datos_excel.shape[0])\n",
    "print(\"El número de columnas es : \", datos_excel.shape[1])"
   ]
  },
  {
   "cell_type": "code",
   "execution_count": 9,
   "metadata": {},
   "outputs": [
    {
     "data": {
      "text/plain": [
       "Index(['year', 'mes', 'estado', 'sectorName', 'clientes', 'precio', 'ingresos',\n",
       "       'ventas'],\n",
       "      dtype='object')"
      ]
     },
     "execution_count": 9,
     "metadata": {},
     "output_type": "execute_result"
    }
   ],
   "source": [
    "datos_excel.columns"
   ]
  },
  {
   "cell_type": "code",
   "execution_count": 11,
   "metadata": {},
   "outputs": [
    {
     "data": {
      "text/plain": [
       "'year'"
      ]
     },
     "execution_count": 11,
     "metadata": {},
     "output_type": "execute_result"
    }
   ],
   "source": [
    "datos_excel.columns[0]"
   ]
  },
  {
   "cell_type": "code",
   "execution_count": 12,
   "metadata": {},
   "outputs": [
    {
     "name": "stdout",
     "output_type": "stream",
     "text": [
      "<class 'pandas.core.frame.DataFrame'>\n",
      "RangeIndex: 85870 entries, 0 to 85869\n",
      "Data columns (total 8 columns):\n",
      " #   Column      Non-Null Count  Dtype  \n",
      "---  ------      --------------  -----  \n",
      " 0   year        85870 non-null  int64  \n",
      " 1   mes         85870 non-null  int64  \n",
      " 2   estado      85870 non-null  object \n",
      " 3   sectorName  85870 non-null  object \n",
      " 4   clientes    59830 non-null  float64\n",
      " 5   precio      85870 non-null  float64\n",
      " 6   ingresos    85870 non-null  float64\n",
      " 7   ventas      85870 non-null  float64\n",
      "dtypes: float64(4), int64(2), object(2)\n",
      "memory usage: 5.2+ MB\n"
     ]
    }
   ],
   "source": [
    "datos_excel.info()"
   ]
  },
  {
   "cell_type": "code",
   "execution_count": null,
   "metadata": {},
   "outputs": [
    {
     "data": {
      "text/plain": [
       "year              0\n",
       "mes               0\n",
       "estado            0\n",
       "sectorName        0\n",
       "clientes      26040\n",
       "precio            0\n",
       "ingresos          0\n",
       "ventas            0\n",
       "dtype: int64"
      ]
     },
     "execution_count": 14,
     "metadata": {},
     "output_type": "execute_result"
    }
   ],
   "source": [
    "datos_excel.isnull().sum() # Cantidad de valores nulos por columna"
   ]
  },
  {
   "cell_type": "markdown",
   "metadata": {},
   "source": [
    "Los estudiantes cargan el dataset y realizan las siguientes tareas:\n",
    "- Contar las filas y columnas.\n",
    "- Identificar el tipo de datos en cada columna.\n",
    "- Verificar si hay valores nulos.\n"
   ]
  },
  {
   "cell_type": "markdown",
   "metadata": {},
   "source": [
    "## Aplicación de Ciclos para Operaciones Básicas\n",
    "\n",
    "- Calcular ingresos promedio por sector utilizando for\n",
    "- Crear un ciclo para encontrar el promedio del precio por estado (stateDescription).   "
   ]
  },
  {
   "cell_type": "code",
   "execution_count": 16,
   "metadata": {},
   "outputs": [
    {
     "data": {
      "text/plain": [
       "array([ 1,  2,  3,  4,  5,  6,  7,  8,  9, 10, 11, 12])"
      ]
     },
     "execution_count": 16,
     "metadata": {},
     "output_type": "execute_result"
    }
   ],
   "source": [
    "# acceder a una sola columna del DataFrame\n",
    "datos_excel[\"mes\"].unique()"
   ]
  },
  {
   "cell_type": "code",
   "execution_count": 18,
   "metadata": {},
   "outputs": [
    {
     "data": {
      "text/plain": [
       "array(['all sectors', 'commercial', 'industrial', 'other', 'residential',\n",
       "       'transportation'], dtype=object)"
      ]
     },
     "execution_count": 18,
     "metadata": {},
     "output_type": "execute_result"
    }
   ],
   "source": [
    "sectores = datos_excel['sectorName'].unique()\n",
    "sectores"
   ]
  },
  {
   "cell_type": "code",
   "execution_count": null,
   "metadata": {},
   "outputs": [
    {
     "data": {
      "text/plain": [
       "0        False\n",
       "1        False\n",
       "2        False\n",
       "3        False\n",
       "4        False\n",
       "         ...  \n",
       "85865    False\n",
       "85866    False\n",
       "85867    False\n",
       "85868    False\n",
       "85869    False\n",
       "Name: sectorName, Length: 85870, dtype: bool"
      ]
     },
     "execution_count": 22,
     "metadata": {},
     "output_type": "execute_result"
    }
   ],
   "source": [
    "datos_excel['sectorName'] == 1  "
   ]
  },
  {
   "cell_type": "code",
   "execution_count": null,
   "metadata": {},
   "outputs": [
    {
     "data": {
      "text/html": [
       "<div>\n",
       "<style scoped>\n",
       "    .dataframe tbody tr th:only-of-type {\n",
       "        vertical-align: middle;\n",
       "    }\n",
       "\n",
       "    .dataframe tbody tr th {\n",
       "        vertical-align: top;\n",
       "    }\n",
       "\n",
       "    .dataframe thead th {\n",
       "        text-align: right;\n",
       "    }\n",
       "</style>\n",
       "<table border=\"1\" class=\"dataframe\">\n",
       "  <thead>\n",
       "    <tr style=\"text-align: right;\">\n",
       "      <th></th>\n",
       "      <th>year</th>\n",
       "      <th>mes</th>\n",
       "      <th>estado</th>\n",
       "      <th>sectorName</th>\n",
       "      <th>clientes</th>\n",
       "      <th>precio</th>\n",
       "      <th>ingresos</th>\n",
       "      <th>ventas</th>\n",
       "    </tr>\n",
       "  </thead>\n",
       "  <tbody>\n",
       "    <tr>\n",
       "      <th>2</th>\n",
       "      <td>2001</td>\n",
       "      <td>1</td>\n",
       "      <td>Wyoming</td>\n",
       "      <td>industrial</td>\n",
       "      <td>NaN</td>\n",
       "      <td>3.26</td>\n",
       "      <td>1960858.0</td>\n",
       "      <td>60230484.0</td>\n",
       "    </tr>\n",
       "    <tr>\n",
       "      <th>10</th>\n",
       "      <td>2001</td>\n",
       "      <td>1</td>\n",
       "      <td>South Dakota</td>\n",
       "      <td>industrial</td>\n",
       "      <td>NaN</td>\n",
       "      <td>4.31</td>\n",
       "      <td>516366.0</td>\n",
       "      <td>11968236.0</td>\n",
       "    </tr>\n",
       "    <tr>\n",
       "      <th>15</th>\n",
       "      <td>2001</td>\n",
       "      <td>1</td>\n",
       "      <td>Tennessee</td>\n",
       "      <td>industrial</td>\n",
       "      <td>NaN</td>\n",
       "      <td>4.29</td>\n",
       "      <td>12591353.0</td>\n",
       "      <td>293715583.0</td>\n",
       "    </tr>\n",
       "    <tr>\n",
       "      <th>20</th>\n",
       "      <td>2001</td>\n",
       "      <td>1</td>\n",
       "      <td>Texas</td>\n",
       "      <td>industrial</td>\n",
       "      <td>NaN</td>\n",
       "      <td>5.12</td>\n",
       "      <td>40775797.0</td>\n",
       "      <td>796900543.0</td>\n",
       "    </tr>\n",
       "    <tr>\n",
       "      <th>25</th>\n",
       "      <td>2001</td>\n",
       "      <td>1</td>\n",
       "      <td>Utah</td>\n",
       "      <td>industrial</td>\n",
       "      <td>NaN</td>\n",
       "      <td>3.31</td>\n",
       "      <td>2392237.0</td>\n",
       "      <td>72316958.0</td>\n",
       "    </tr>\n",
       "    <tr>\n",
       "      <th>...</th>\n",
       "      <td>...</td>\n",
       "      <td>...</td>\n",
       "      <td>...</td>\n",
       "      <td>...</td>\n",
       "      <td>...</td>\n",
       "      <td>...</td>\n",
       "      <td>...</td>\n",
       "      <td>...</td>\n",
       "    </tr>\n",
       "    <tr>\n",
       "      <th>85849</th>\n",
       "      <td>2024</td>\n",
       "      <td>1</td>\n",
       "      <td>Connecticut</td>\n",
       "      <td>industrial</td>\n",
       "      <td>3868.0</td>\n",
       "      <td>16.53</td>\n",
       "      <td>3290823.0</td>\n",
       "      <td>19904943.0</td>\n",
       "    </tr>\n",
       "    <tr>\n",
       "      <th>85852</th>\n",
       "      <td>2024</td>\n",
       "      <td>1</td>\n",
       "      <td>Alabama</td>\n",
       "      <td>industrial</td>\n",
       "      <td>7187.0</td>\n",
       "      <td>7.14</td>\n",
       "      <td>18664002.0</td>\n",
       "      <td>26138163.0</td>\n",
       "    </tr>\n",
       "    <tr>\n",
       "      <th>85857</th>\n",
       "      <td>2024</td>\n",
       "      <td>1</td>\n",
       "      <td>Alaska</td>\n",
       "      <td>industrial</td>\n",
       "      <td>1176.0</td>\n",
       "      <td>19.13</td>\n",
       "      <td>2325631.0</td>\n",
       "      <td>12156123.0</td>\n",
       "    </tr>\n",
       "    <tr>\n",
       "      <th>85862</th>\n",
       "      <td>2024</td>\n",
       "      <td>1</td>\n",
       "      <td>Arizona</td>\n",
       "      <td>industrial</td>\n",
       "      <td>7061.0</td>\n",
       "      <td>7.68</td>\n",
       "      <td>8825543.0</td>\n",
       "      <td>114957951.0</td>\n",
       "    </tr>\n",
       "    <tr>\n",
       "      <th>85867</th>\n",
       "      <td>2024</td>\n",
       "      <td>1</td>\n",
       "      <td>Arkansas</td>\n",
       "      <td>industrial</td>\n",
       "      <td>34951.0</td>\n",
       "      <td>7.08</td>\n",
       "      <td>10992656.0</td>\n",
       "      <td>155302838.0</td>\n",
       "    </tr>\n",
       "  </tbody>\n",
       "</table>\n",
       "<p>17174 rows × 8 columns</p>\n",
       "</div>"
      ],
      "text/plain": [
       "       year  mes        estado  sectorName  clientes  precio    ingresos  \\\n",
       "2      2001    1       Wyoming  industrial       NaN    3.26   1960858.0   \n",
       "10     2001    1  South Dakota  industrial       NaN    4.31    516366.0   \n",
       "15     2001    1     Tennessee  industrial       NaN    4.29  12591353.0   \n",
       "20     2001    1         Texas  industrial       NaN    5.12  40775797.0   \n",
       "25     2001    1          Utah  industrial       NaN    3.31   2392237.0   \n",
       "...     ...  ...           ...         ...       ...     ...         ...   \n",
       "85849  2024    1   Connecticut  industrial    3868.0   16.53   3290823.0   \n",
       "85852  2024    1       Alabama  industrial    7187.0    7.14  18664002.0   \n",
       "85857  2024    1        Alaska  industrial    1176.0   19.13   2325631.0   \n",
       "85862  2024    1       Arizona  industrial    7061.0    7.68   8825543.0   \n",
       "85867  2024    1      Arkansas  industrial   34951.0    7.08  10992656.0   \n",
       "\n",
       "            ventas  \n",
       "2       60230484.0  \n",
       "10      11968236.0  \n",
       "15     293715583.0  \n",
       "20     796900543.0  \n",
       "25      72316958.0  \n",
       "...            ...  \n",
       "85849   19904943.0  \n",
       "85852   26138163.0  \n",
       "85857   12156123.0  \n",
       "85862  114957951.0  \n",
       "85867  155302838.0  \n",
       "\n",
       "[17174 rows x 8 columns]"
      ]
     },
     "execution_count": 20,
     "metadata": {},
     "output_type": "execute_result"
    }
   ],
   "source": [
    "# filtrar el DataFrame por un sector\n",
    "filtro_sector = datos_excel['sectorName'] == 'Agriculture'  \n",
    "filtro_estado = datos_excel['estado'] == 'Texas' \n",
    "filtro_anual = datos_excel['year'] == 2001\n",
    "\n",
    "datos_excel[filtro_sector & filtro_estado & filtro_anual]"
   ]
  },
  {
   "cell_type": "code",
   "execution_count": null,
   "metadata": {},
   "outputs": [],
   "source": [
    "# Ejemplo: Calcular el total de ventas por sector.\n",
    "sectores = datos_excel['sectorName'].unique()\n",
    "for sector in sectores:\n",
    "\n",
    "    ventas = df[df['sectorName'] == sector]['sales'].sum()\n",
    "    print(f\"Sector: {sector}, Ventas Totales: {ventas}\")\n",
    "\n"
   ]
  },
  {
   "cell_type": "code",
   "execution_count": null,
   "metadata": {},
   "outputs": [],
   "source": [
    "#Promedio de ventas por estado:\n",
    "\n",
    "estados = df['stateDescription'].unique()\n",
    "for estado in estados:\n",
    "    promedio = df[df['stateDescription'] == estado]['sales'].mean()\n",
    "    print(f\"Estado: {estado}, Promedio de Ventas: {promedio} millones de kWh\")\n"
   ]
  },
  {
   "cell_type": "markdown",
   "metadata": {},
   "source": [
    "## Métodos de DataFrame para Simplificar"
   ]
  },
  {
   "cell_type": "markdown",
   "metadata": {},
   "source": [
    "- totales sin ciclos:\n"
   ]
  },
  {
   "cell_type": "code",
   "execution_count": null,
   "metadata": {},
   "outputs": [],
   "source": [
    "ventas_por_sector = df.groupby('sectorName')['sales'].sum()\n",
    "print(ventas_por_sector)\n"
   ]
  },
  {
   "cell_type": "markdown",
   "metadata": {},
   "source": [
    "GroupBy y Agregaciones:\n",
    "\n",
    "Simplificar operaciones usando métodos:"
   ]
  },
  {
   "cell_type": "code",
   "execution_count": null,
   "metadata": {},
   "outputs": [],
   "source": [
    "ventas_por_sector = df.groupby('sectorName')['sales'].sum()\n",
    "print(ventas_por_sector)\n"
   ]
  },
  {
   "cell_type": "markdown",
   "metadata": {},
   "source": [
    "Filtrar y ordenar:\n",
    "\n",
    "Filtros simples y compuestos:"
   ]
  },
  {
   "cell_type": "code",
   "execution_count": null,
   "metadata": {},
   "outputs": [],
   "source": [
    "df_filtrado = df[(df['sales'] > 50) & (df['stateDescription'] == 'California')]\n",
    "print(df_filtrado)\n"
   ]
  },
  {
   "cell_type": "code",
   "execution_count": null,
   "metadata": {},
   "outputs": [],
   "source": [
    "# Ordenar por columna:\n",
    "df_ordenado = df.sort_values(by='revenue', ascending=False)\n",
    "print(df_ordenado.head())\n",
    "\n"
   ]
  },
  {
   "cell_type": "markdown",
   "metadata": {},
   "source": [
    "Los estudiantes cargarán el archivo y explorarán:\n",
    "- Total de filas y columnas.\n",
    "- Tipos de datos.\n",
    "- Valores faltantes."
   ]
  },
  {
   "cell_type": "code",
   "execution_count": null,
   "metadata": {},
   "outputs": [],
   "source": []
  },
  {
   "cell_type": "code",
   "execution_count": null,
   "metadata": {},
   "outputs": [],
   "source": [
    "avg_revenue_per_sector = df.groupby('sectorName')['revenue'].mean()\n",
    "print(avg_revenue_per_sector)\n"
   ]
  },
  {
   "cell_type": "code",
   "execution_count": null,
   "metadata": {},
   "outputs": [],
   "source": [
    "#Filtro por sector:\n",
    "\n",
    "residential_data = df[df['sectorName'] == 'residential']\n",
    "print(residential_data.head())\n"
   ]
  },
  {
   "cell_type": "code",
   "execution_count": null,
   "metadata": {},
   "outputs": [],
   "source": [
    "#Usar métodos para encontrar el total de ventas (sales) por estado y año.\n"
   ]
  },
  {
   "cell_type": "markdown",
   "metadata": {},
   "source": [
    "# Ejercicio Final: Exploración de Datos (20 minutos)\n",
    "Problema: Los estudiantes deben responder estas preguntas usando Pandas:\n",
    "\n",
    "- ¿Cuál es el sector con el precio promedio más alto en 2023?\n",
    "- ¿Cuál fue el total de ingresos en 2024 para el sector industrial?\n",
    "- ¿Cuál es el estado con la mayor cantidad de clientes en 2024?\n",
    "- Sugerencia: Usar combinaciones de filtros, groupby, y métodos como mean() o sum()."
   ]
  },
  {
   "cell_type": "markdown",
   "metadata": {},
   "source": [
    "## Cuarta Parte: Taller de Práctica \n",
    "- Ejercicio 1: Análisis de Tarifas por Estado y Sector\n",
    "Filtrar los datos para encontrar el estado con la tarifa promedio más alta en el sector residencial.\n",
    "\n",
    "- Ejercicio 2: Clasificación de Ventas\n",
    "Recorrer la columna sales y clasificar las ventas como \"Bajas\", \"Medias\" o \"Altas\" según estos criterios:\n",
    "\n",
    "    - Baja: < 50 millones de kWh.\n",
    "    - Media: 50-100 millones de kWh.\n",
    "    - Alta: > 100 millones de kWh.\n",
    "Crear una nueva columna con la clasificación.\n",
    "- Ejercicio 3: Consumo y Clientes\n",
    "Calcular el consumo promedio por cliente en cada sector y mostrar los resultados.\n",
    "\n",
    "- Ejercicio 4: Tendencias Temporales\n",
    "Usar los datos de los años 2023 y 2024 para calcular el crecimiento porcentual del ingreso en cada estado."
   ]
  },
  {
   "cell_type": "markdown",
   "metadata": {},
   "source": [
    "Ejercicio 1: Resumen por Sector\n",
    "Calcular las ventas, ingresos totales y el precio promedio por sector usando métodos.\n",
    "\n",
    "Ejercicio 2: Top Estados con Mayor Ingreso\n",
    "Filtrar los 5 estados con mayores ingresos en 2024.\n",
    "\n",
    "Ejercicio 3: Tendencias Temporales\n",
    "Calcular el crecimiento porcentual de ventas entre 2020 y 2024 para cada estado.\n",
    "\n",
    "Ejercicio 4: Consumo por Cliente\n",
    "Crear una nueva columna que calcule el consumo promedio por cliente para observaciones donde esta información esté disponible.\n",
    "\n"
   ]
  },
  {
   "cell_type": "markdown",
   "metadata": {},
   "source": [
    "### **Clase 5: Introducción a Pandas - Series y DataFrames**  \n",
    "\n",
    "#### **Duración:**  \n",
    "4 horas  \n",
    "\n",
    "---\n",
    "\n",
    "### **Objetivo:**  \n",
    "Iniciar a los estudiantes en el uso de Pandas para la manipulación de datos, aprendiendo a crear, importar, manipular y exportar datos usando Series y DataFrames.\n",
    "\n",
    "---\n",
    "\n",
    "### **Estructura de la Clase**  \n",
    "\n",
    "---\n",
    "\n",
    "### **Primera Parte: Introducción a Pandas (40 minutos)**  \n",
    "\n",
    "**1. ¿Qué es Pandas?**  \n",
    "   - Librería de Python para la manipulación y análisis de datos.  \n",
    "   - Ideal para trabajar con datos tabulares (estructurados).  \n",
    "\n",
    "**2. Configuración del entorno:**  \n",
    "   - Instalar Pandas:  \n",
    "     ```bash\n",
    "     !pip install pandas\n",
    "     ```  \n",
    "   - Importar Pandas:  \n",
    "     ```python\n",
    "     import pandas as pd\n",
    "     ```  \n",
    "\n",
    "**3. Creación de objetos básicos:**  \n",
    "   - **Series**:  \n",
    "     ```python\n",
    "     datos = [10, 20, 30, 40]\n",
    "     serie = pd.Series(datos, name=\"Ejemplo de Serie\")\n",
    "     print(serie)\n",
    "     ```  \n",
    "   - **DataFrames**:  \n",
    "     ```python\n",
    "     datos = {\n",
    "         \"Nombre\": [\"Ana\", \"Luis\", \"María\"],\n",
    "         \"Edad\": [23, 45, 34],\n",
    "         \"Ciudad\": [\"Bogotá\", \"Cali\", \"Medellín\"]\n",
    "     }\n",
    "     df = pd.DataFrame(datos)\n",
    "     print(df)\n",
    "     ```  \n",
    "\n",
    "**Actividad práctica inicial:**  \n",
    "   - Crear una Serie con los precios de electricidad y un DataFrame con las ventas por estado.  \n",
    "\n",
    "---\n",
    "\n",
    "### **Segunda Parte: Importación y Exportación de Datos (40 minutos)**  \n",
    "\n",
    "**1. Importación de datos:**  \n",
    "   - Cargar datos desde un archivo CSV:  \n",
    "     ```python\n",
    "     df = pd.read_csv(\"us_electricity_data.csv\")\n",
    "     print(df.head())\n",
    "     ```  \n",
    "   - Inspección inicial:  \n",
    "     ```python\n",
    "     print(df.info())\n",
    "     print(df.describe())\n",
    "     ```  \n",
    "\n",
    "**2. Exportación de datos:**  \n",
    "   - Guardar un DataFrame en un archivo CSV:  \n",
    "     ```python\n",
    "     df.to_csv(\"salida.csv\", index=False)\n",
    "     ```  \n",
    "\n",
    "**Actividad práctica:**  \n",
    "   - Importar el archivo `us_electricity_data.csv` y guardar una versión filtrada solo con datos del sector residencial (`sectorName == 'Residential'`).  \n",
    "\n",
    "---\n",
    "\n",
    "### **Tercera Parte: Acceso y Manipulación de Datos (1 hora)**  \n",
    "\n",
    "**1. Selección de datos:**  \n",
    "   - Acceso a columnas:  \n",
    "     ```python\n",
    "     print(df['stateDescription'])\n",
    "     ```  \n",
    "   - Selección por filas:  \n",
    "     ```python\n",
    "     print(df.loc[0])  # Primera fila\n",
    "     ```  \n",
    "   - Filtros básicos:  \n",
    "     ```python\n",
    "     df_residencial = df[df['sectorName'] == 'Residential']\n",
    "     print(df_residencial.head())\n",
    "     ```  \n",
    "\n",
    "**2. Operaciones comunes:**  \n",
    "   - Creación de columnas:  \n",
    "     ```python\n",
    "     df['ingreso_por_kwh'] = df['revenue'] / df['sales']\n",
    "     print(df.head())\n",
    "     ```  \n",
    "   - Ordenamiento:  \n",
    "     ```python\n",
    "     df_sorted = df.sort_values(by='price', ascending=False)\n",
    "     print(df_sorted.head())\n",
    "     ```  \n",
    "\n",
    "**Actividad práctica:**  \n",
    "   - Filtrar datos por estado, crear una nueva columna con el consumo promedio por cliente (`sales/customers`), y ordenar por el promedio más alto.  \n",
    "\n",
    "---\n",
    "\n",
    "### **Cuarta Parte: Taller de Práctica (1 hora)**  \n",
    "\n",
    "**Ejercicio 1:**  \n",
    "Crear un DataFrame que contenga los datos de consumo (`sales`), ingresos (`revenue`) y precios (`price`) para los cinco estados con más ventas.  \n",
    "\n",
    "**Ejercicio 2:**  \n",
    "Calcular el ingreso promedio (`revenue`) por sector y exportar el resultado a un archivo CSV.  \n",
    "\n",
    "**Ejercicio 3:**  \n",
    "Filtrar datos de los años 2020 a 2024, calcular el promedio de consumo por año, y crear un DataFrame con los resultados.  \n",
    "\n",
    "**Ejercicio 4:**  \n",
    "Añadir una columna que clasifique los precios (`price`) en \"Alto\", \"Medio\" y \"Bajo\", según el percentil en el que se encuentren.  \n",
    "\n",
    "---\n",
    "\n",
    "### **Cierre y Reflexión (20 minutos)**  \n",
    "\n",
    "**1. Repaso:**  \n",
    "   - ¿Qué aprendieron sobre Series y DataFrames?  \n",
    "   - ¿Cómo Pandas facilita la manipulación de datos comparado con otros métodos?  \n",
    "\n",
    "**2. Preparación para la próxima clase:**  \n",
    "   - Introducción a operaciones avanzadas con Pandas: agrupaciones, pivotes y manejo de datos faltantes.  \n",
    "\n",
    "**¡Esta clase les dará una base sólida para empezar a trabajar con datos tabulares en Python!**  "
   ]
  }
 ],
 "metadata": {
  "kernelspec": {
   "display_name": "mi_ambiente",
   "language": "python",
   "name": "python3"
  },
  "language_info": {
   "codemirror_mode": {
    "name": "ipython",
    "version": 3
   },
   "file_extension": ".py",
   "mimetype": "text/x-python",
   "name": "python",
   "nbconvert_exporter": "python",
   "pygments_lexer": "ipython3",
   "version": "3.9.4"
  }
 },
 "nbformat": 4,
 "nbformat_minor": 2
}
