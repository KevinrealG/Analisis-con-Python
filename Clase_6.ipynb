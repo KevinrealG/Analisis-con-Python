{
 "cells": [
  {
   "cell_type": "markdown",
   "metadata": {},
   "source": [
    "# Introducción a Pandas - Series y DataFrames\n",
    "## Profesor: Kevin Sossa\n",
    "## Estudiante: "
   ]
  },
  {
   "cell_type": "markdown",
   "metadata": {},
   "source": [
    "#### Objetivo\n",
    "> Iniciar a los estudiantes en el uso de Pandas para la manipulación de datos, mostrando cómo los DataFrames pueden facilitar operaciones repetitivas y análisis complejos."
   ]
  },
  {
   "cell_type": "markdown",
   "metadata": {},
   "source": []
  },
  {
   "cell_type": "markdown",
   "metadata": {},
   "source": [
    "## ¿Qué es Pandas?\n",
    "- Biblioteca para análisis de datos.\n",
    "- Herramienta clave en Data Science para manipulación y limpieza.\n"
   ]
  },
  {
   "cell_type": "markdown",
   "metadata": {},
   "source": [
    "### Conceptos Clave:\n",
    "\n",
    "- Series: Estructura unidimensional (similar a un vector o lista).\n",
    "- DataFrame: Tabla bidimensional con filas y columnas."
   ]
  },
  {
   "cell_type": "markdown",
   "metadata": {},
   "source": [
    "###  Instalación y Configuración\n",
    "    \n",
    "    ```bash\n",
    "    pip install pandas\n",
    "    ```\n",
    "    \n",
    "    ```python\n",
    "    import pandas as pd\n",
    "    ```\n"
   ]
  },
  {
   "cell_type": "code",
   "execution_count": null,
   "metadata": {},
   "outputs": [],
   "source": [
    "# importar pandas y numpy\n",
    "import numpy as np\n",
    "import pandas as pd\n"
   ]
  },
  {
   "cell_type": "code",
   "execution_count": null,
   "metadata": {},
   "outputs": [],
   "source": [
    "# una serie\n",
    "s = pd.Series([1, 3, 5, np.nan, 6, 8])\n",
    "print(s)"
   ]
  },
  {
   "cell_type": "code",
   "execution_count": null,
   "metadata": {},
   "outputs": [],
   "source": [
    "# un DataFrame con listas\n",
    "df = pd.DataFrame([[1, 2, 3], [4, 5, 6], [7, 8, 9]])\n",
    "print(df)\n"
   ]
  },
  {
   "cell_type": "code",
   "execution_count": null,
   "metadata": {},
   "outputs": [],
   "source": [
    "# un dataframe, lista de consumos, nombres de clientes y fechas\n",
    "df = pd.DataFrame({\n",
    "    'Cliente': ['A', 'B', 'C', 'D'],\n",
    "    'Consumo': [100, 200, 300, 400],\n",
    "    'Fecha': pd.date_range('20200101', periods=4)\n",
    "})"
   ]
  },
  {
   "cell_type": "code",
   "execution_count": null,
   "metadata": {},
   "outputs": [],
   "source": [
    "data = [10, 20, 30, 40]\n",
    "series = pd.Series(data, name=\"Energía (kWh)\")\n",
    "print(series)\n"
   ]
  },
  {
   "cell_type": "code",
   "execution_count": null,
   "metadata": {},
   "outputs": [],
   "source": [
    "data = {'Estado': ['Texas', 'California'], 'Consumo (kWh)': [500, 700]}\n",
    "df = pd.DataFrame(data)\n",
    "print(df)\n"
   ]
  },
  {
   "cell_type": "markdown",
   "metadata": {},
   "source": [
    "### Actividad Práctica Inicial:\n",
    "\n",
    "Crear una Series y un DataFrame simple con datos ficticios de electricidad:\n",
    "- Consumos mensuales.\n",
    "- Tarifas por kWh.\n"
   ]
  },
  {
   "cell_type": "markdown",
   "metadata": {},
   "source": [
    "## Cargar y Explorar el Dataset"
   ]
  },
  {
   "cell_type": "code",
   "execution_count": null,
   "metadata": {},
   "outputs": [],
   "source": [
    "# Cargar dataset en un DataFrame\n",
    "datos = pd.read_csv('datos\\clean_data.csv')"
   ]
  },
  {
   "cell_type": "code",
   "execution_count": null,
   "metadata": {},
   "outputs": [],
   "source": [
    "# Explorar el DataFrame:\n",
    "# Ver primeras filas\n",
    "print(datos.head())"
   ]
  },
  {
   "cell_type": "code",
   "execution_count": null,
   "metadata": {},
   "outputs": [],
   "source": [
    "#Información del dataset:\n",
    "print(datos.info())\n"
   ]
  },
  {
   "cell_type": "markdown",
   "metadata": {},
   "source": [
    "Los estudiantes cargan el dataset y realizan las siguientes tareas:\n",
    "- Contar las filas y columnas.\n",
    "- Identificar el tipo de datos en cada columna.\n",
    "- Verificar si hay valores nulos.\n"
   ]
  },
  {
   "cell_type": "markdown",
   "metadata": {},
   "source": [
    "## Aplicación de Ciclos para Operaciones Básicas\n",
    "\n",
    "- Calcular ingresos promedio por sector utilizando for\n",
    "- Crear un ciclo para encontrar el promedio del precio por estado (stateDescription).   "
   ]
  },
  {
   "cell_type": "code",
   "execution_count": null,
   "metadata": {},
   "outputs": [],
   "source": [
    "sectores = df['sectorName'].unique()\n"
   ]
  },
  {
   "cell_type": "code",
   "execution_count": null,
   "metadata": {},
   "outputs": [],
   "source": [
    "# Ejemplo: Calcular el total de ventas por sector.\n",
    "sectores = df['sectorName'].unique()\n",
    "for sector in sectores:\n",
    "    ventas = df[df['sectorName'] == sector]['sales'].sum()\n",
    "    print(f\"Sector: {sector}, Ventas Totales: {ventas}\")\n",
    "\n"
   ]
  },
  {
   "cell_type": "code",
   "execution_count": null,
   "metadata": {},
   "outputs": [],
   "source": [
    "#Promedio de ventas por estado:\n",
    "\n",
    "estados = df['stateDescription'].unique()\n",
    "for estado in estados:\n",
    "    promedio = df[df['stateDescription'] == estado]['sales'].mean()\n",
    "    print(f\"Estado: {estado}, Promedio de Ventas: {promedio} millones de kWh\")\n"
   ]
  },
  {
   "cell_type": "markdown",
   "metadata": {},
   "source": [
    "## Métodos de DataFrame para Simplificar"
   ]
  },
  {
   "cell_type": "markdown",
   "metadata": {},
   "source": [
    "- totales sin ciclos:\n"
   ]
  },
  {
   "cell_type": "code",
   "execution_count": null,
   "metadata": {},
   "outputs": [],
   "source": [
    "ventas_por_sector = df.groupby('sectorName')['sales'].sum()\n",
    "print(ventas_por_sector)\n"
   ]
  },
  {
   "cell_type": "markdown",
   "metadata": {},
   "source": [
    "GroupBy y Agregaciones:\n",
    "\n",
    "Simplificar operaciones usando métodos:"
   ]
  },
  {
   "cell_type": "code",
   "execution_count": null,
   "metadata": {},
   "outputs": [],
   "source": [
    "ventas_por_sector = df.groupby('sectorName')['sales'].sum()\n",
    "print(ventas_por_sector)\n"
   ]
  },
  {
   "cell_type": "markdown",
   "metadata": {},
   "source": [
    "Filtrar y ordenar:\n",
    "\n",
    "Filtros simples y compuestos:"
   ]
  },
  {
   "cell_type": "code",
   "execution_count": null,
   "metadata": {},
   "outputs": [],
   "source": [
    "df_filtrado = df[(df['sales'] > 50) & (df['stateDescription'] == 'California')]\n",
    "print(df_filtrado)\n"
   ]
  },
  {
   "cell_type": "code",
   "execution_count": null,
   "metadata": {},
   "outputs": [],
   "source": [
    "# Ordenar por columna:\n",
    "df_ordenado = df.sort_values(by='revenue', ascending=False)\n",
    "print(df_ordenado.head())\n",
    "\n"
   ]
  },
  {
   "cell_type": "markdown",
   "metadata": {},
   "source": [
    "Los estudiantes cargarán el archivo y explorarán:\n",
    "- Total de filas y columnas.\n",
    "- Tipos de datos.\n",
    "- Valores faltantes."
   ]
  },
  {
   "cell_type": "code",
   "execution_count": null,
   "metadata": {},
   "outputs": [],
   "source": []
  },
  {
   "cell_type": "code",
   "execution_count": null,
   "metadata": {},
   "outputs": [],
   "source": [
    "avg_revenue_per_sector = df.groupby('sectorName')['revenue'].mean()\n",
    "print(avg_revenue_per_sector)\n"
   ]
  },
  {
   "cell_type": "code",
   "execution_count": null,
   "metadata": {},
   "outputs": [],
   "source": [
    "#Filtro por sector:\n",
    "\n",
    "residential_data = df[df['sectorName'] == 'residential']\n",
    "print(residential_data.head())\n"
   ]
  },
  {
   "cell_type": "code",
   "execution_count": null,
   "metadata": {},
   "outputs": [],
   "source": [
    "#Usar métodos para encontrar el total de ventas (sales) por estado y año.\n"
   ]
  },
  {
   "cell_type": "markdown",
   "metadata": {},
   "source": [
    "# Ejercicio Final: Exploración de Datos (20 minutos)\n",
    "Problema: Los estudiantes deben responder estas preguntas usando Pandas:\n",
    "\n",
    "- ¿Cuál es el sector con el precio promedio más alto en 2023?\n",
    "- ¿Cuál fue el total de ingresos en 2024 para el sector industrial?\n",
    "- ¿Cuál es el estado con la mayor cantidad de clientes en 2024?\n",
    "- Sugerencia: Usar combinaciones de filtros, groupby, y métodos como mean() o sum()."
   ]
  },
  {
   "cell_type": "markdown",
   "metadata": {},
   "source": [
    "## Cuarta Parte: Taller de Práctica \n",
    "- Ejercicio 1: Análisis de Tarifas por Estado y Sector\n",
    "Filtrar los datos para encontrar el estado con la tarifa promedio más alta en el sector residencial.\n",
    "\n",
    "- Ejercicio 2: Clasificación de Ventas\n",
    "Recorrer la columna sales y clasificar las ventas como \"Bajas\", \"Medias\" o \"Altas\" según estos criterios:\n",
    "\n",
    "    - Baja: < 50 millones de kWh.\n",
    "    - Media: 50-100 millones de kWh.\n",
    "    - Alta: > 100 millones de kWh.\n",
    "Crear una nueva columna con la clasificación.\n",
    "- Ejercicio 3: Consumo y Clientes\n",
    "Calcular el consumo promedio por cliente en cada sector y mostrar los resultados.\n",
    "\n",
    "- Ejercicio 4: Tendencias Temporales\n",
    "Usar los datos de los años 2023 y 2024 para calcular el crecimiento porcentual del ingreso en cada estado."
   ]
  },
  {
   "cell_type": "markdown",
   "metadata": {},
   "source": [
    "Ejercicio 1: Resumen por Sector\n",
    "Calcular las ventas, ingresos totales y el precio promedio por sector usando métodos.\n",
    "\n",
    "Ejercicio 2: Top Estados con Mayor Ingreso\n",
    "Filtrar los 5 estados con mayores ingresos en 2024.\n",
    "\n",
    "Ejercicio 3: Tendencias Temporales\n",
    "Calcular el crecimiento porcentual de ventas entre 2020 y 2024 para cada estado.\n",
    "\n",
    "Ejercicio 4: Consumo por Cliente\n",
    "Crear una nueva columna que calcule el consumo promedio por cliente para observaciones donde esta información esté disponible.\n",
    "\n"
   ]
  }
 ],
 "metadata": {
  "language_info": {
   "name": "python"
  }
 },
 "nbformat": 4,
 "nbformat_minor": 2
}
