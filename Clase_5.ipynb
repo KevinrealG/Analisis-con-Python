{
 "cells": [
  {
   "cell_type": "markdown",
   "metadata": {},
   "source": [
    "# Funciones y Modularización de Código\n",
    ">Objetivo: Introducir el diseño modular mediante funciones, promoviendo la programación limpia y buenas prácticas.>"
   ]
  },
  {
   "cell_type": "markdown",
   "metadata": {},
   "source": [
    "## ¿Qué es una función?\n",
    "Una función es un bloque de código que se ejecuta cuando es llamado. Puede recibir parámetros y devolver un resultado. Las funciones permiten modularizar el código, es decir, dividirlo en partes más pequeñas y fáciles de entender.\n",
    "\n",
    "Son esenciales porque:\n",
    "- Permite reutilizar código.\n",
    "- Organiza el código.\n",
    "- Facilita la lectura y comprensión del código.\n",
    "- Mantenimiento más sencillo."
   ]
  },
  {
   "cell_type": "markdown",
   "metadata": {},
   "source": []
  },
  {
   "cell_type": "markdown",
   "metadata": {},
   "source": []
  },
  {
   "cell_type": "code",
   "execution_count": null,
   "metadata": {},
   "outputs": [],
   "source": [
    "def saludo():\n",
    "    print(\"¡Hola, bienvenidos a la UTB !\")\n",
    "saludo()"
   ]
  },
  {
   "cell_type": "markdown",
   "metadata": {},
   "source": [
    "## Creación y Uso de Funciones \n",
    "Para crear una función en Python se utiliza la palabra reservada `def` seguida del nombre de la función y paréntesis `()`. Si la función recibe parámetros, estos se colocan dentro de los paréntesis. \n",
    "\n",
    "Y se regresa el valor con la palabra reservada `return`.\n",
    "\n",
    "Para llamar a la función se escribe el nombre de la función seguido de paréntesis `()`.\n",
    "\n"
   ]
  },
  {
   "cell_type": "code",
   "execution_count": null,
   "metadata": {},
   "outputs": [],
   "source": [
    "def calcular_costo(consumo, tarifa):\n",
    "    return consumo * tarifa\n",
    "# Uso\n",
    "consumo = 150\n",
    "tarifa = 0.25\n",
    "print(\"Costo total:\", calcular_costo(consumo, tarifa))"
   ]
  },
  {
   "cell_type": "markdown",
   "metadata": {},
   "source": [
    "## Argumentos, Retorno de Valores y Alcance de Variables \n",
    "\n",
    "Los parametros de una función son los valores que recibe la función para realizar una operación. Estos pueden ser de dos tipos:\n",
    "- Parámetros posicionales: Son aquellos que se pasan a la función en el orden en que se definen.\n",
    "- Parámetros nombrados: Son aquellos que se pasan a la función indicando el nombre del parámetro al que se le asigna un valor.\n",
    "\n",
    "\n",
    "Los argumentos son los valores que se pasan a la función al llamarla.\n"
   ]
  },
  {
   "cell_type": "code",
   "execution_count": null,
   "metadata": {},
   "outputs": [],
   "source": [
    "#ejemplo de parametros posicionales\n",
    "def resta(a, b):\n",
    "    return a - b\n",
    "# Uso\n",
    "print(\"Resta:\", resta(5, 3))\n"
   ]
  },
  {
   "cell_type": "code",
   "execution_count": null,
   "metadata": {},
   "outputs": [],
   "source": [
    "# ejemplo de parametros nombrados\n",
    "def resta(a, b):\n",
    "    return a - b\n",
    "# Uso\n",
    "print(\"Resta:\", resta(a=5, b=3))"
   ]
  },
  {
   "cell_type": "markdown",
   "metadata": {},
   "source": [
    "Los argumentos opcionales son aquellos que tienen un valor por defecto y no es necesario pasarlos al llamar la función.\n"
   ]
  },
  {
   "cell_type": "code",
   "execution_count": null,
   "metadata": {},
   "outputs": [],
   "source": [
    "def calcular_descuento(consumo, tarifa, descuento=0.1):\n",
    "    costo = consumo * tarifa\n",
    "    return costo - (costo * descuento)\n",
    "\n",
    "consumo = 200\n",
    "tarifa = 0.3\n",
    "print(\"Costo con descuento:\", calcular_descuento(consumo, tarifa))\n"
   ]
  },
  {
   "cell_type": "markdown",
   "metadata": {},
   "source": [
    "> :) El alcance de una variable es el contexto en el que se puede acceder a una variable. En Python, las variables pueden ser locales o globales. Las variables locales son aquellas que se definen dentro de una función y solo se pueden acceder dentro de la función. Las variables globales son aquellas que se definen fuera de una función y se pueden acceder desde cualquier parte del código."
   ]
  },
  {
   "cell_type": "code",
   "execution_count": null,
   "metadata": {},
   "outputs": [],
   "source": [
    "# variable local\n",
    "def calcular_costo(consumo, tarifa):\n",
    "    costo = consumo * tarifa\n",
    "    return costo\n",
    "\n",
    "# variable global\n",
    "costo = 0\n",
    "consumo = 150\n",
    "tarifa = 0.25\n",
    "print(\"Costo total:\", calcular_costo(consumo, tarifa))\n",
    "print(\"Costo global:\", costo)\n",
    "\n"
   ]
  },
  {
   "cell_type": "code",
   "execution_count": null,
   "metadata": {},
   "outputs": [],
   "source": [
    "# variable global\n",
    "costo = 0\n",
    "def calcular_costo(consumo, tarifa):\n",
    "    global costo\n",
    "    costo = consumo * tarifa\n",
    "    return costo\n",
    "\n",
    "consumo = 150\n",
    "tarifa = 0.25\n",
    "print(\"Costo total:\", calcular_costo(consumo, tarifa))\n",
    "print(\"Costo global:\", costo)"
   ]
  },
  {
   "cell_type": "markdown",
   "metadata": {},
   "source": [
    "## Ejercicio\n",
    "\n",
    "Crear un programa modular que:\n",
    "\n",
    "- Solicite el consumo de electricidad y la tarifa por kWh.\n",
    "- Calcule el costo total, incluyendo un descuento opcional.\n",
    "- Clasifique el costo como “Bajo”, “Medio” o “Alto”.\n",
    "    - Bajo: Menor a 1000.\n",
    "    - Medio: Entre 1000 y 2000.\n",
    "    - Alto: Mayor a 2000.\n",
    "- Divida el programa en al menos 3 funciones."
   ]
  },
  {
   "cell_type": "markdown",
   "metadata": {},
   "source": []
  },
  {
   "cell_type": "markdown",
   "metadata": {},
   "source": [
    "## Principios de Programación Limpia y Buenas Prácticas"
   ]
  },
  {
   "cell_type": "code",
   "execution_count": null,
   "metadata": {},
   "outputs": [],
   "source": []
  },
  {
   "cell_type": "markdown",
   "metadata": {},
   "source": [
    "## Modulos y Paquetes\n",
    "Un módulo es un archivo que contiene definiciones y declaraciones de Python. El nombre del archivo es el nombre del módulo con la extensión `.py`. Un módulo puede contener funciones, clases y variables.\n",
    "Para nombrar un módulo se recomienda utilizar un nombre corto y en minúsculas, ejemplo: `mimodulo.py`. Otros ejemplos:\n",
    "- `calculos.py`\n",
    "- `operaciones.py`\n",
    "Si es largo se puede utilizar guión bajo `_`, ejemplo: `mi_modulo.py`.\n"
   ]
  },
  {
   "cell_type": "code",
   "execution_count": null,
   "metadata": {},
   "outputs": [],
   "source": [
    "# usar modulo moduloejemplo.py\n",
    "import modulo_ejemplo\n",
    "\n",
    "consumo = 150\n",
    "tarifa = 0.25\n",
    "print(\"Costo total:\", modulo_ejemplo.calcular_costo(consumo, tarifa))"
   ]
  },
  {
   "cell_type": "code",
   "execution_count": null,
   "metadata": {},
   "outputs": [],
   "source": [
    "from modulo_ejemplo import calcular_costo"
   ]
  },
  {
   "cell_type": "markdown",
   "metadata": {},
   "source": [
    "## Modulos de Python\n",
    "\n",
    "\n",
    "\n",
    "Ejemplos de modulos nativos de Python:\n",
    "- `math`: Contiene funciones matemáticas.\n",
    "- `random`: Contiene funciones para generar números aleatorios.\n",
    "- `os`: Contiene funciones para interactuar con el sistema operativo.\n",
    "- `datetime`: Contiene funciones para trabajar con fechas y horas.\n",
    "- `json`: Contiene funciones para trabajar con archivos JSON.\n",
    "- `time`: Contiene funciones para trabajar con el tiempo."
   ]
  },
  {
   "cell_type": "code",
   "execution_count": null,
   "metadata": {},
   "outputs": [],
   "source": [
    "# Uso\n",
    "import math\n",
    "print(\"Valor de pi:\", math.pi)\n",
    "print(\"Seno de 90:\", math.sin(math.radians(90)))\n"
   ]
  },
  {
   "cell_type": "code",
   "execution_count": null,
   "metadata": {},
   "outputs": [],
   "source": [
    "# time\n",
    "import time\n",
    "print(\"Hora actual:\", time.time())\n"
   ]
  },
  {
   "cell_type": "code",
   "execution_count": null,
   "metadata": {},
   "outputs": [],
   "source": [
    "import random\n",
    "print(\"Número aleatorio entre 1 y 100:\", random.randint(1, 100))"
   ]
  },
  {
   "cell_type": "markdown",
   "metadata": {},
   "source": [
    "### Paquete\n",
    "Un paquete es un conjunto de módulos que se pueden importar en un programa. Python tiene una gran cantidad de paquetes que facilitan el desarrollo de programas. Algunas librerías populares son:\n",
    "- `numpy`\n",
    "- `pandas`\n",
    "- `matplotlib`\n",
    "- `tkinter`\n",
    "- `flask`\n",
    "- `django`\n",
    "- `requests`"
   ]
  },
  {
   "cell_type": "markdown",
   "metadata": {},
   "source": []
  },
  {
   "cell_type": "code",
   "execution_count": null,
   "metadata": {},
   "outputs": [],
   "source": [
    "# cargar datos de un archivo csv\n",
    "import csv\n",
    "with open('datos.csv', newline='') as archivo:\n",
    "    lector = csv.reader(archivo)\n",
    "    for fila in lector:\n",
    "        print(fila)"
   ]
  },
  {
   "cell_type": "markdown",
   "metadata": {},
   "source": [
    "Por otro lado, un paquete es un conjunto de módulos. Para crear un paquete se debe crear un directorio con un archivo `__init__.py` dentro. Este archivo puede estar vacío o contener código de inicialización del paquete.\n",
    "\n",
    "Para importar un módulo se utiliza la palabra reservada `import` seguida del nombre del módulo. Si el módulo está en un paquete, se utiliza la notación de punto `.` para indicar la ruta del módulo."
   ]
  },
  {
   "cell_type": "code",
   "execution_count": null,
   "metadata": {},
   "outputs": [],
   "source": []
  }
 ],
 "metadata": {
  "language_info": {
   "name": "python"
  }
 },
 "nbformat": 4,
 "nbformat_minor": 2
}
