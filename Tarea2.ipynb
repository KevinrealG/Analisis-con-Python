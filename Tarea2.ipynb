{
 "cells": [
  {
   "cell_type": "markdown",
   "metadata": {
    "vscode": {
     "languageId": "plaintext"
    }
   },
   "source": [
    "# Taller de Práctica: Estructuras de Control y Operaciones Matemáticas Básicas en Python\n",
    "> **Objetivo**: Este taller está diseñado para reforzar los conceptos básicos de programación en Python, incluyendo el uso de estructuras de control y operaciones matemáticas básicas. Cada ejercicio se enfoca en problemas relevantes para el contexto de una empresa de servicio público de electricidad.\n",
    "\n",
    "---\n",
    "Instrucciones Finales:\n",
    "\n",
    "Completa cada ejercicio de manera individual.\n",
    "Al finalizar cada sección, revisa tus respuestas y busca optimizar el código si es posible.\n",
    "\n",
    "\n"
   ]
  },
  {
   "cell_type": "code",
   "execution_count": null,
   "metadata": {
    "vscode": {
     "languageId": "plaintext"
    }
   },
   "outputs": [],
   "source": []
  },
  {
   "cell_type": "markdown",
   "metadata": {},
   "source": [
    "## Ejercicio 1: Captura de Información y Validación de Datos\n",
    "\n",
    "### Descripción\n",
    "- Ejercicio: Crear un programa que pida al usuario ingresar los consumos eléctricos mensuales de un cliente durante el último año (12 meses). El programa debe validar que cada consumo ingresado sea un valor positivo.\n",
    "- Instrucciones:\n",
    "   - Utilizar un ciclo for para pedir los consumos de cada mes.\n",
    "   - Validar que el consumo ingresado sea positivo. Si el valor ingresado no es válido, volver a solicitar el dato.\n",
    "\n"
   ]
  },
  {
   "cell_type": "code",
   "execution_count": null,
   "metadata": {},
   "outputs": [],
   "source": []
  },
  {
   "cell_type": "markdown",
   "metadata": {},
   "source": [
    "## Ejercicio 2: Recorrer una Lista para Procesar Cada Elemento\n",
    "### Descripción\n",
    "\n",
    "- Ejercicio: Crear una lista de consumos eléctricos (en kWh) y clasificar cada consumo en “Bajo” (menor de 100 kWh), “Medio” (entre 100 y 500 kWh) o “Alto” (mayor a 500 kWh).\n",
    "- Instrucciones:\n",
    "    - Dada una lista de consumos, utilizar un ciclo for para recorrerla.\n",
    "    - Usar condiciones para clasificar y contar cuántos consumos caen en cada categoría.\n",
    "\n"
   ]
  },
  {
   "cell_type": "code",
   "execution_count": null,
   "metadata": {},
   "outputs": [],
   "source": []
  },
  {
   "cell_type": "markdown",
   "metadata": {},
   "source": [
    "## Ejercicio 3: Encuesta de Satisfacción\n",
    "### Descripción\n",
    "- Ejercicio: Realizar una encuesta de satisfacción con n clientes. El programa debe pedir una calificación entre 1 y 5 (1: muy insatisfecho, 5: muy satisfecho) y validar que sea un número dentro de este rango. Al final, calcular el promedio de satisfacción.\n",
    "- Instrucciones:\n",
    "    - Preguntar al usuario cuántos clientes participaron.\n",
    "    - Utilizar un ciclo for para capturar la calificación de cada cliente.\n",
    "    - Asegurarse de que la calificación sea entre 1 y 5; si no, solicitar de nuevo la entrada.\n",
    "    - Calcular el promedio al final del ciclo."
   ]
  },
  {
   "cell_type": "markdown",
   "metadata": {},
   "source": []
  },
  {
   "cell_type": "code",
   "execution_count": null,
   "metadata": {},
   "outputs": [],
   "source": []
  },
  {
   "cell_type": "markdown",
   "metadata": {
    "vscode": {
     "languageId": "plaintext"
    }
   },
   "source": [
    "## Ejercicio 4: Captura de Información y Validación de Datos\n",
    "- Ejercicio: Crear un programa que pida al usuario ingresar los consumos eléctricos mensuales de un cliente durante el último año (12 meses). El programa debe validar que cada consumo ingresado sea un valor positivo.\n",
    "- Instrucciones:\n",
    "    \n",
    "    - Utilizar un ciclo for para pedir los consumos de cada mes.\n",
    "\n",
    "\n",
    "    - Validar que el consumo ingresado sea positivo. Si el valor ingresado no es     válido, volver a solicitar el dato."
   ]
  },
  {
   "cell_type": "markdown",
   "metadata": {},
   "source": []
  }
 ],
 "metadata": {
  "language_info": {
   "name": "python"
  }
 },
 "nbformat": 4,
 "nbformat_minor": 2
}
