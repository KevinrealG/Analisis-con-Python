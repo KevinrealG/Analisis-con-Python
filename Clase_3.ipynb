{
 "cells": [
  {
   "cell_type": "markdown",
   "metadata": {},
   "source": [
    "# Introducción a Iteraciones y Ciclos"
   ]
  },
  {
   "cell_type": "markdown",
   "metadata": {},
   "source": [
    "### Ejercicio de Repaso: Cálculo del Bono de Ahorro Energético\n",
    "Descripción: Un cliente de la empresa de electricidad podría recibir un pequeño bono de ahorro si su consumo de este mes es menor que el del mes pasado. El objetivo de este ejercicio es verificar si un cliente califica para el bono de ahorro y, en caso afirmativo, calcular el monto del bono.\n",
    "\n",
    "#### Instrucciones:\n",
    "\n",
    "- Solicita al usuario que ingrese su consumo del mes pasado y el consumo de este mes (en kWh).\n",
    "- Calcula el porcentaje de ahorro comparando el consumo de ambos meses.\n",
    "- Si el porcentaje de ahorro es mayor o igual a 5%, el cliente califica para un bono de $50. Si no alcanza el 5%, no recibe bono.\n",
    "- Muestra el mensaje indicando si el cliente es elegible para el bono, el porcentaje de ahorro, y el monto total a pagar con el bono incluido."
   ]
  },
  {
   "cell_type": "markdown",
   "metadata": {},
   "source": [
    "## 1. Variables y Tipos de Datos\n",
    "## 2. Entrada y Salida de Datos\n",
    "## 3. Operadores Aritméticos, comparación y lógicos\n",
    "## 4. Estructuras de Control, Condicionales "
   ]
  },
  {
   "cell_type": "code",
   "execution_count": null,
   "metadata": {},
   "outputs": [],
   "source": [
    "# código aqui\n"
   ]
  },
  {
   "cell_type": "markdown",
   "metadata": {},
   "source": [
    "## Concepto de Iteración:\n",
    "\n",
    "Una iteración es un proceso que repite una serie de instrucciones o bloques de código. Esto permite automatizar tareas repetitivas, ahorrando tiempo y reduciendo errores.\n",
    "### Casos de Uso Comunes:\n",
    "\n",
    "- Recorrer listas o secuencias para procesar cada elemento.\n",
    "- Realizar cálculos acumulativos, como sumar o contar elementos.\n",
    "- Ejecutar tareas repetitivas hasta que se cumpla una condición específica."
   ]
  },
  {
   "cell_type": "markdown",
   "metadata": {},
   "source": [
    "## Introducción a los ciclos for"
   ]
  },
  {
   "cell_type": "markdown",
   "metadata": {},
   "source": [
    "- El ciclo for se utiliza para repetir un bloque de código un número específico de veces o iterar a través de elementos en una colección, como una lista o un rango de números.\n",
    "- La sintaxis básica de for en Python es for elemento in iterable:, donde elemento representa cada valor en iterable.\n",
    "- Este ciclo es ideal cuando conocemos de antemano el número de veces que queremos repetir el bloque de código.\n",
    "- Ejemplo sencillo: `for i in range(5): print(i)` imprimirá los números del 0 al 4. "
   ]
  },
  {
   "cell_type": "code",
   "execution_count": 5,
   "metadata": {},
   "outputs": [
    {
     "name": "stdout",
     "output_type": "stream",
     "text": [
      "0\n",
      "1\n",
      "2\n",
      "3\n",
      "4\n"
     ]
    },
    {
     "data": {
      "text/plain": [
       "4"
      ]
     },
     "execution_count": 5,
     "metadata": {},
     "output_type": "execute_result"
    }
   ],
   "source": [
    "for i in range(5):\n",
    "    print(i)\n",
    "\n",
    "i"
   ]
  },
  {
   "cell_type": "markdown",
   "metadata": {},
   "source": [
    "## Introducción a los ciclos while:\n",
    "\n",
    "- El ciclo while permite ejecutar un bloque de código mientras una condición sea verdadera, sin un límite específico de iteraciones.\n",
    "-La sintaxis básica es while condición:, donde condición se evalúa antes de cada iteración; si es True, se ejecuta el bloque de código, y si es False, el ciclo se detiene.\n",
    "- Este ciclo es útil cuando la cantidad de iteraciones no es conocida previamente y depende de una condición que podría cambiar durante la ejecución.\n",
    "- Ejemplo sencillo: `while contador < 5: print(contador)`; contador += 1 imprimirá los valores de contador mientras sea menor que 5."
   ]
  },
  {
   "cell_type": "code",
   "execution_count": 6,
   "metadata": {},
   "outputs": [
    {
     "name": "stdout",
     "output_type": "stream",
     "text": [
      "0\n",
      "1\n",
      "2\n",
      "3\n",
      "4\n"
     ]
    },
    {
     "data": {
      "text/plain": [
       "5"
      ]
     },
     "execution_count": 6,
     "metadata": {},
     "output_type": "execute_result"
    }
   ],
   "source": [
    "contador = 0\n",
    "while contador < 5:\n",
    "     print(contador)\n",
    "     contador += 1\n",
    "\n",
    "contador\n",
    "     #contador = contador + 1 # actualizar el contador"
   ]
  },
  {
   "cell_type": "markdown",
   "metadata": {},
   "source": [
    "## Ejemplos\n",
    "#### Contar el total de consumo en una lista de datos\n",
    "\n",
    "Supongamos que tenemos una lista que representa el consumo eléctrico mensual (en kWh) de una serie de clientes. Queremos calcular el total de consumo utilizando un ciclo."
   ]
  },
  {
   "cell_type": "code",
   "execution_count": 7,
   "metadata": {},
   "outputs": [
    {
     "name": "stdout",
     "output_type": "stream",
     "text": [
      "El total de kWh consumidos es 760\n"
     ]
    }
   ],
   "source": [
    "# Lista de consumos de electricidad en kWh para varios clientes\n",
    "consumos = [120, 150, 90, 130, 160, 110]\n",
    "\n",
    "# Calcular el total de kWh consumidos\n",
    "total = 0 # Inicializar el total\n",
    "\n",
    "i = 0 # Inicializar el contador\n",
    "\n",
    "while i < 6:\n",
    "    total = total + consumos[i]\n",
    "    i = i + 1 # Actualizar el contador\n",
    "\n",
    "print(\"El total de kWh consumidos es\", total)\n",
    "\n"
   ]
  },
  {
   "cell_type": "code",
   "execution_count": 8,
   "metadata": {},
   "outputs": [
    {
     "name": "stdout",
     "output_type": "stream",
     "text": [
      "El total de kWh consumidos es 760\n"
     ]
    }
   ],
   "source": [
    "\n",
    "consumos = [120, 150, 90, 130, 160, 110]\n",
    "total = 0\n",
    "for consumo in consumos:\n",
    "    total = total + consumo\n",
    "print(\"El total de kWh consumidos es\", total)"
   ]
  },
  {
   "cell_type": "markdown",
   "metadata": {},
   "source": [
    "#### Calcular el Consumo Promedio de Electricidad\n",
    "\n",
    "Imagina que trabajas en la empresa de servicio público de electricidad, y te han pedido calcular el consumo promedio mensual de electricidad de un grupo de clientes. Tienes una lista con los consumos mensuales de electricidad (en kWh) para cada cliente y necesitas calcular el promedio para poder identificar patrones de consumo.\n",
    "\n",
    "##### Instrucciones:\n",
    "- Define una lista llamada consumos que contenga los valores de consumo mensual en kWh de varios clientes, por ejemplo: [200, 250, 300, 150, 180, 220, 270].\n",
    "- Inicializa una variable llamada total_consumo en 0, que usaremos para almacenar la suma total de los consumos.\n",
    "- Utiliza un ciclo for para recorrer cada valor en la lista consumos y sumarlos a total_consumo.\n",
    "- Calcula el consumo promedio dividiendo total_consumo por la cantidad de elementos en la lista consumos.\n",
    "- Imprime el consumo promedio de electricidad en kWh."
   ]
  },
  {
   "cell_type": "code",
   "execution_count": null,
   "metadata": {},
   "outputs": [],
   "source": [
    "# Lista de consumos mensuales de electricidad en kWh\n",
    "consumos = [200, 250, 300, 150, 180, 220, 270]"
   ]
  },
  {
   "cell_type": "markdown",
   "metadata": {},
   "source": [
    "¿Qué podrías hacer si quisieras filtrar los consumos que superan un cierto valor antes de calcular el promedio?"
   ]
  },
  {
   "cell_type": "markdown",
   "metadata": {},
   "source": [
    "### Clasificación de Consumos Eléctricos\n",
    "\n",
    "En esta actividad, los estudiantes trabajarán en equipos para desarrollar un script en Python que recorra una lista de consumos eléctricos de diferentes clientes y clasifique cada consumo en una de las siguientes categorías:\n",
    "\n",
    "- \"Bajo\": si el consumo es menor a 200 kWh.\n",
    "- \"Medio\": si el consumo está entre 200 y 400 kWh.\n",
    "- \"Alto\": si el consumo es mayor a 400 kWh."
   ]
  },
  {
   "cell_type": "code",
   "execution_count": null,
   "metadata": {},
   "outputs": [],
   "source": [
    "# Lista de consumos eléctricos en kWh\n",
    "consumos = [150, 220, 450, 380, 180, 300, 410, 250]\n"
   ]
  },
  {
   "cell_type": "markdown",
   "metadata": {},
   "source": [
    "## Buenas prácticas:\n",
    "\n",
    "- Evitar los ciclos infinitos al usar while asegurando que la condición cambiará a False en algún momento.\n",
    "- Usar break para salir de un ciclo si se cumple una condición particular, y continue para omitir una iteración y continuar con la siguiente.\n",
    "#### Diferencias clave entre for y while:\n",
    "\n",
    "- for se usa cuando conocemos el número de iteraciones o necesitamos recorrer una estructura de datos.\n",
    "- while es más adecuado cuando la iteración depende de una condición que puede cambiar en el transcurso del ciclo, no de un número fijo de repeticiones."
   ]
  },
  {
   "cell_type": "markdown",
   "metadata": {},
   "source": [
    "## Análisis de Consumo Mensual\n",
    "\n",
    "Imagina que tienes un sistema que recibe datos de consumo eléctrico mensual (en kilovatios-hora, kWh) de diferentes clientes de una empresa de electricidad. Estos datos están almacenados en una lista llamada consumo_mensual, donde cada elemento de la lista representa el consumo de un cliente en un mes.\n",
    "\n",
    "Objetivo: Crear un script que recorra la lista consumo_mensual y realice las siguientes tareas:\n",
    "\n",
    "Calcule el consumo total del mes para todos los clientes.\n",
    "Cuente cuántos clientes tuvieron un consumo bajo (menos de 100 kWh), medio (entre 100 y 200 kWh), y alto (más de 200 kWh).\n",
    "Determine cuál fue el consumo máximo y mínimo del mes y los imprima al final."
   ]
  },
  {
   "cell_type": "markdown",
   "metadata": {},
   "source": [
    "Pasos sugeridos:\n",
    "\n",
    "Inicializa variables para almacenar el consumo total y los contadores de cada categoría de consumo.\n",
    "Usa un ciclo for para recorrer la lista consumo_mensual y actualiza las variables según cada consumo.\n",
    "Al final del ciclo, imprime los resultados."
   ]
  },
  {
   "cell_type": "code",
   "execution_count": null,
   "metadata": {},
   "outputs": [],
   "source": [
    "consumo_mensual = [120, 80, 150, 200, 90, 300, 60, 180, 250, 110, 90, 130]\n"
   ]
  },
  {
   "cell_type": "markdown",
   "metadata": {},
   "source": []
  },
  {
   "cell_type": "markdown",
   "metadata": {},
   "source": []
  },
  {
   "cell_type": "markdown",
   "metadata": {},
   "source": [
    "\n",
    "\n",
    "\n"
   ]
  },
  {
   "cell_type": "markdown",
   "metadata": {},
   "source": []
  }
 ],
 "metadata": {
  "kernelspec": {
   "display_name": "Python 3",
   "language": "python",
   "name": "python3"
  },
  "language_info": {
   "codemirror_mode": {
    "name": "ipython",
    "version": 3
   },
   "file_extension": ".py",
   "mimetype": "text/x-python",
   "name": "python",
   "nbconvert_exporter": "python",
   "pygments_lexer": "ipython3",
   "version": "3.10.11"
  }
 },
 "nbformat": 4,
 "nbformat_minor": 2
}
