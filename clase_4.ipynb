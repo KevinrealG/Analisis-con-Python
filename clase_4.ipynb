{
 "cells": [
  {
   "cell_type": "markdown",
   "metadata": {},
   "source": [
    "# Más de Ciclos y Estructuras de Datos con Listas\n",
    "## Profesor: Kevin Sossa\n",
    "## Estudiante: "
   ]
  },
  {
   "cell_type": "markdown",
   "metadata": {},
   "source": [
    "### Ejercicio: Análisis de Consumo Mensual\n",
    "\n",
    "Imagina que tienes un sistema que recibe datos de consumo eléctrico mensual (en kilovatios-hora, kWh) de diferentes clientes de una empresa de electricidad. Estos datos están almacenados en una lista llamada consumo_mensual, donde cada elemento de la lista representa el consumo de un cliente en un mes.\n",
    "\n",
    "\n",
    "Objetivo: Crear un script que recorra la lista consumo_mensual y realice las siguientes tareas:\n",
    "\n",
    "- Calcule el consumo total del mes para todos los clientes.\n",
    "- Cuente cuántos clientes tuvieron un consumo bajo (menos de 100 kWh), medio (entre 100 y 200 kWh), y alto (más de 200 kWh).\n",
    "- Determine cuál fue el consumo máximo y mínimo del mes y los imprima al final."
   ]
  },
  {
   "cell_type": "markdown",
   "metadata": {},
   "source": []
  },
  {
   "cell_type": "markdown",
   "metadata": {},
   "source": [
    "- Consumo total del mes: 1800 kWh\n",
    "- Clientes con consumo bajo: 4\n",
    "- Clientes con consumo medio: 5\n",
    "- Clientes con consumo alto: 3\n",
    "- Consumo máximo: 250 kWh\n",
    "- Consumo mínimo: 50 kWh\n"
   ]
  },
  {
   "cell_type": "markdown",
   "metadata": {},
   "source": [
    "> **Nota:**\n",
    "> \n",
    "> Casos de Uso Comunes de Ciclos:\n",
    "\n",
    "> - Recorrer listas o secuencias para procesar cada elemento.\n",
    "> - Realizar cálculos acumulativos, como sumar o contar elementos.\n",
    "> - Ejecutar tareas repetitivas hasta que se cumpla una condición específica."
   ]
  },
  {
   "cell_type": "code",
   "execution_count": null,
   "metadata": {},
   "outputs": [],
   "source": [
    "consumo_mensual = [120, 80, 150, 200, 90, 300, 60, 180, 250, 110, 90, 130]\n"
   ]
  },
  {
   "cell_type": "markdown",
   "metadata": {
    "tags": [
     "parameters"
    ]
   },
   "source": [
    "# Fundamentos de Estructuras de Datos: Listas\n",
    "**Definición de Listas:**\n",
    "\n",
    "\n",
    "> \n",
    "> - Las listas en Python son estructuras de datos que permiten almacenar múltiples elementos en un solo lugar, como números, cadenas o incluso otras listas.\n",
    "> - Son mutables, lo que significa que se pueden modificar después de ser creadas (se pueden agregar, eliminar o cambiar elementos).\n",
    "\n",
    "**Creación de Listas:**\n",
    "Las listas se definen usando corchetes [] y pueden contener cualquier tipo de dato.\n",
    "\n",
    " Ejemplo: mi_lista = [10, \"Hola\", 3.5, True].\n",
    "```python\n",
    "mi_lista = [10, \"Hola\", 3.5, True]\n",
    "```\n",
    "\n",
    "**Acceso a Elementos:**\n",
    "\n",
    "Los elementos de una lista se acceden mediante índices, comenzando desde 0 para el primer elemento.\n",
    " Ejemplo: mi_lista[0] devuelve 10.\n",
    "```python\n",
    "mi_lista[0]\n",
    "```\n",
    "También se puede acceder a los elementos desde el final de la lista usando índices negativos. Ejemplo:\n",
    " mi_lista[-1] devuelve True.\n",
    "Operaciones Comunes:"
   ]
  },
  {
   "cell_type": "markdown",
   "metadata": {},
   "source": [
    "**Un vistazo a los diferentes métodos**.\n",
    "Puedes utilizar los siguientes métodos en tu lista de Python. Probablemente ya conozcas algunos de ellos si leíste el tutorial para aprender Python.\n",
    "\n",
    "|Método\t|Descripción|\n",
    "|:--:|:--:|\n",
    "|Append|\tAñade un elemento al final de la lista.|\n",
    "|Clear|\tElimina todos los elementos de la lista de Python.|\n",
    "|Copy\t|Realiza una copia de tu lista.|\n",
    "|Count\t|Cuenta todos los elementos con un determinado valor en la lista de Python.|\n",
    "|Extend\t|Añade todos los elementos de otra lista a la lista actual.|\n",
    "|Index\t|Busca un elemento específico dentro de la lista de Python y retorna su número de índice.|\n",
    "|Insert|\tInserta un elemento en una posición determinada.|\n",
    "|Pop\t|Elimina un elemento de una posición concreta y lo utiliza como valor de retorno.|\n",
    "|Remove\t|Elimina el primer elemento que tiene un valor específico.|\n",
    "|Reverse|\tInvierte el orden de la lista de Python.|\n",
    "|Sort|\tOrdena la lista.|"
   ]
  },
  {
   "cell_type": "markdown",
   "metadata": {},
   "source": []
  },
  {
   "cell_type": "markdown",
   "metadata": {},
   "source": []
  },
  {
   "cell_type": "code",
   "execution_count": null,
   "metadata": {},
   "outputs": [],
   "source": []
  },
  {
   "cell_type": "markdown",
   "metadata": {},
   "source": [
    "Concatenar listas: Se pueden combinar listas usando el operador +.\n",
    "Recorrer una Lista:\n",
    "\n",
    "Los ciclos for permiten iterar por cada elemento en una lista, útil para realizar operaciones en cada elemento. Ejemplo: for elemento in mi_lista.\n",
    "Aplicaciones Comunes:\n",
    "\n",
    "Las listas se usan para almacenar secuencias de datos, como registros de consumo eléctrico, listas de nombres, resultados de operaciones, y más, especialmente útiles en el análisis y manipulación de datos."
   ]
  },
  {
   "cell_type": "markdown",
   "metadata": {},
   "source": []
  },
  {
   "cell_type": "code",
   "execution_count": null,
   "metadata": {},
   "outputs": [],
   "source": []
  },
  {
   "cell_type": "markdown",
   "metadata": {},
   "source": [
    "## Actividad Práctica: Análisis de Consumo por Cliente\n",
    "### Instrucciones:\n",
    "\n",
    "- Crear una lista de clientes y sus consumos:\n",
    "\n",
    "- En equipos de dos, los estudiantes crearán una lista de clientes donde cada elemento es un número que representa el consumo mensual (en kWh) de un cliente específico.\n",
    "- Los estudiantes pueden inventar datos o utilizar una lista de muestra proporcionada, como por ejemplo:\n"
   ]
  },
  {
   "cell_type": "code",
   "execution_count": null,
   "metadata": {},
   "outputs": [],
   "source": [
    "consumos_clientes = [120, 80, 150, 200, 90, 300, 60, 180, 250, 110, 90, 130]"
   ]
  },
  {
   "cell_type": "code",
   "execution_count": null,
   "metadata": {},
   "outputs": [],
   "source": []
  },
  {
   "cell_type": "markdown",
   "metadata": {},
   "source": [
    "#### Ordenar la lista de consumos:\n",
    "\n",
    "- Usando Python, deben ordenar la lista consumos_clientes de menor a mayor consumo.\n",
    "- Luego, deben imprimir la lista ordenada para observar los consumos de los clientes en orden creciente.\n",
    "- Calcular el consumo promedio:\n",
    "\n",
    "    - Calcular el consumo promedio de los clientes sumando todos los elementos de la lista y dividiendo el total entre el número de clientes.\n",
    "    - Imprimir el resultado del consumo promedio."
   ]
  },
  {
   "cell_type": "code",
   "execution_count": null,
   "metadata": {},
   "outputs": [],
   "source": []
  }
 ],
 "metadata": {
  "language_info": {
   "name": "python"
  }
 },
 "nbformat": 4,
 "nbformat_minor": 2
}
