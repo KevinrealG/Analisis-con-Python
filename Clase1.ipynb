{
 "cells": [
  {
   "cell_type": "markdown",
   "metadata": {},
   "source": [
    "# Clase Introductoria\n",
    "## Profesor: Kevin Sossa\n",
    "### Estudiante: "
   ]
  },
  {
   "cell_type": "code",
   "execution_count": 1,
   "metadata": {},
   "outputs": [
    {
     "name": "stdout",
     "output_type": "stream",
     "text": [
      "Hola Mundo\n",
      "Saludos\n"
     ]
    },
    {
     "data": {
      "text/plain": [
       "'Andres'"
      ]
     },
     "execution_count": 1,
     "metadata": {},
     "output_type": "execute_result"
    }
   ],
   "source": [
    "print(\"Hola Mundo\")\n",
    "\n",
    "print(\"Saludos\")\n",
    "\n",
    "# Ejemplos de datos de texto o string (str)\n",
    "Nombre_1 = input(\"Ingrese su nombre: \")\n",
    "nombre_1 = \"Andres\"\n",
    "#ejemplo de datos entero (int)\n",
    "nombre_1"
   ]
  },
  {
   "cell_type": "code",
   "execution_count": 9,
   "metadata": {},
   "outputs": [
    {
     "name": "stdout",
     "output_type": "stream",
     "text": [
      "La estatura de Andres es 22.0metros\n"
     ]
    }
   ],
   "source": [
    "edad = int(input(\"Ingrese su edad: \"))\n",
    "#ejemplo de datos flotante (float)\n",
    "estatura = float(input(\"Ingrese su estatura: \"))\n",
    "# convertir a string\n",
    "estatura = str(estatura)\n",
    "\n",
    "# imprimir los nombre\n",
    "# se puede comentar con triples comillas\n",
    "print(\"La estatura de \" + nombre_1 + \" es \" + estatura + \"metros\")"
   ]
  }
 ],
 "metadata": {
  "kernelspec": {
   "display_name": "Python 3",
   "language": "python",
   "name": "python3"
  },
  "language_info": {
   "codemirror_mode": {
    "name": "ipython",
    "version": 3
   },
   "file_extension": ".py",
   "mimetype": "text/x-python",
   "name": "python",
   "nbconvert_exporter": "python",
   "pygments_lexer": "ipython3",
   "version": "3.10.11"
  }
 },
 "nbformat": 4,
 "nbformat_minor": 2
}
