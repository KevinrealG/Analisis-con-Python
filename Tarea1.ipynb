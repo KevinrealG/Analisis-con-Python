{
 "cells": [
  {
   "cell_type": "markdown",
   "metadata": {
    "vscode": {
     "languageId": "plaintext"
    }
   },
   "source": [
    "# Taller de Práctica: Introducción a Python \n",
    "\n",
    "**Objetivo**: Este taller está diseñado para reforzar los conceptos básicos de programación en Python, incluyendo el uso de estructuras de control y operaciones matemáticas básicas. Cada ejercicio se enfoca en problemas relevantes para el contexto de una empresa de servicio público de electricidad.\n",
    "\n",
    "---\n",
    "Instrucciones Finales:\n",
    "\n",
    "Completa cada ejercicio de manera individual.\n",
    "Al finalizar cada sección, revisa tus respuestas y busca optimizar el código si es posible.\n",
    "\n",
    "\n"
   ]
  },
  {
   "cell_type": "code",
   "execution_count": null,
   "metadata": {
    "vscode": {
     "languageId": "plaintext"
    }
   },
   "outputs": [],
   "source": []
  },
  {
   "cell_type": "markdown",
   "metadata": {},
   "source": [
    "## Ejercicio 1: Clasificación de Consumo Energético\n",
    "\n",
    "### Descripción\n",
    "Una empresa de electricidad quiere clasificar el nivel de consumo de sus clientes para ofrecer recomendaciones personalizadas.\n",
    "\n",
    "### Instrucciones\n",
    "1. Solicita al usuario el consumo mensual en kWh.\n",
    "2. Clasifica el consumo en:\n",
    "   - **Consumo bajo**: Menos de 200 kWh.\n",
    "   - **Consumo medio**: Entre 200 y 500 kWh.\n",
    "   - **Consumo alto**: Más de 500 kWh.\n",
    "3. Muestra el nivel de consumo con un mensaje."
   ]
  },
  {
   "cell_type": "markdown",
   "metadata": {},
   "source": []
  },
  {
   "cell_type": "markdown",
   "metadata": {},
   "source": [
    "## Ejercicio 2: Calculadora de Ahorro Energético\n",
    "### Descripción\n",
    "Crea una \"calculadora de ahorro energético\" que permita estimar el ahorro potencial de un cliente si reduce su consumo de electricidad.\n",
    "\n",
    "### Instrucciones\n",
    "Solicita al usuario ingresar:\n",
    "- Su consumo actual en kWh.\n",
    "- El porcentaje de reducción deseado.\n",
    "- La tarifa por kWh.\n",
    "- Calcula y muestra:\n",
    "- El consumo reducido en kWh.\n",
    "- El monto original.\n",
    "- El monto con la reducción.\n",
    "- El ahorro en dinero."
   ]
  },
  {
   "cell_type": "code",
   "execution_count": null,
   "metadata": {
    "vscode": {
     "languageId": "plaintext"
    }
   },
   "outputs": [],
   "source": []
  },
  {
   "cell_type": "markdown",
   "metadata": {},
   "source": [
    "## Ejercicio 3: Elegibilidad para Descuento\n",
    "### Descripción\n",
    "Determina si un cliente es elegible para un descuento en su factura de electricidad.\n",
    "\n",
    "### Instrucciones\n",
    "- Solicita al usuario:\n",
    "    - Su consumo mensual en kWh.\n",
    "    - La temperatura promedio de su región en °C.\n",
    "    - La tarifa por kWh.\n",
    "- Si el consumo es menor de 400 kWh y la temperatura promedio es mayor a 30°C, aplica un descuento del 10%.\n",
    "- Calcula y muestra:\n",
    "    - El monto original.\n",
    "    - El monto con descuento, si aplica.\n",
    "- Informa al cliente si es elegible para el descuento."
   ]
  },
  {
   "cell_type": "markdown",
   "metadata": {},
   "source": []
  },
  {
   "cell_type": "markdown",
   "metadata": {
    "vscode": {
     "languageId": "plaintext"
    }
   },
   "source": [
    "## Ejercicio 4: Reducción de Consumo y Plan de Energía Sostenible\n",
    "### Descripción\n",
    "Evalúa si un cliente califica para un plan de energía sostenible con descuento.\n",
    "\n",
    "### Instrucciones\n",
    "- Solicita al usuario:\n",
    "    - El consumo del mes actual y del mes anterior en kWh.\n",
    "    - Participación en el programa de eficiencia energética (responder \"Sí\" o \"No\").\n",
    "    - Tarifa por kWh.\n",
    "- Si el consumo del mes actual es menor de 300 kWh, ha reducido el consumo en al menos 15% y participa en el programa, aplica un 12% de descuento.\n",
    "- Calcula y muestra:\n",
    "    - El monto original y el monto con descuento si es elegible.\n",
    "    - El porcentaje de reducción del consumo."
   ]
  },
  {
   "cell_type": "markdown",
   "metadata": {},
   "source": []
  }
 ],
 "metadata": {
  "language_info": {
   "name": "python"
  }
 },
 "nbformat": 4,
 "nbformat_minor": 2
}
