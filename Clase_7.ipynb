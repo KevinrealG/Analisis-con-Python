{
 "cells": [
  {
   "cell_type": "markdown",
   "metadata": {
    "vscode": {
     "languageId": "plaintext"
    }
   },
   "source": [
    "# Clase: Introducción a Estadística Descriptiva y Visualización de Datos con Plotly y Pandas\n",
    "## Profesor: Kevin Sossa\n",
    "## Estudiante: "
   ]
  },
  {
   "cell_type": "markdown",
   "metadata": {},
   "source": [
    "> **Objetivo** : Proveer a los estudiantes herramientas para calcular estadísticas descriptivas y crear visualizaciones interactivas con Plotly y Pandas."
   ]
  },
  {
   "cell_type": "markdown",
   "metadata": {},
   "source": [
    "# Estadística descriptiva:\n",
    "- Medidas de tendencia central (media, mediana, moda)\n",
    "- y dispersión (varianza, desviación estándar)."
   ]
  },
  {
   "cell_type": "code",
   "execution_count": 4,
   "metadata": {},
   "outputs": [
    {
     "name": "stdout",
     "output_type": "stream",
     "text": [
      "<class 'pandas.core.frame.DataFrame'>\n",
      "RangeIndex: 85870 entries, 0 to 85869\n",
      "Data columns (total 8 columns):\n",
      " #   Column      Non-Null Count  Dtype  \n",
      "---  ------      --------------  -----  \n",
      " 0   year        85870 non-null  int64  \n",
      " 1   mes         85870 non-null  int64  \n",
      " 2   estado      85870 non-null  object \n",
      " 3   sectorName  85870 non-null  object \n",
      " 4   clientes    59830 non-null  float64\n",
      " 5   precio      85870 non-null  float64\n",
      " 6   ingresos    85870 non-null  float64\n",
      " 7   ventas      85870 non-null  float64\n",
      "dtypes: float64(4), int64(2), object(2)\n",
      "memory usage: 5.2+ MB\n"
     ]
    }
   ],
   "source": [
    "import pandas as pd\n",
    "import numpy as np\n",
    "\n",
    "# Cargar datos\n",
    "ruta = r'C:\\Users\\HP\\Desktop\\Analisis con Python\\datos\\clean_data_excel.csv'\n",
    "df = pd.read_csv(ruta)\n",
    "# Ver los primeros registros\n",
    "df.info()\n"
   ]
  },
  {
   "cell_type": "markdown",
   "metadata": {},
   "source": [
    "-Calcular estadísticas básicas:\n",
    "\n"
   ]
  },
  {
   "cell_type": "markdown",
   "metadata": {},
   "source": [
    "- Medidas de Tenencia Central:\n",
    "    - Media\n",
    "    - Mediana\n",
    "    - Moda\n",
    "- Medidas de Dispersión:\n",
    "    - Varianza\n",
    "    - Desviación Estándar\n",
    "    - Rango\n",
    "    - Rango Intercuartílico\n",
    "    - Coeficiente de Variación\n",
    "- Medidas de ¨Posición:\n",
    "    - Cuartiles\n",
    "    - Deciles\n",
    "    - Percentiles\n",
    "- Medidas de Forma:\n",
    "    - Asimetría\n",
    "    - Curtosis"
   ]
  },
  {
   "cell_type": "code",
   "execution_count": null,
   "metadata": {},
   "outputs": [
    {
     "data": {
      "text/plain": [
       "np.float64(0.0)"
      ]
     },
     "execution_count": 10,
     "metadata": {},
     "output_type": "execute_result"
    }
   ],
   "source": [
    "# calcular la media de una variable\n",
    "media = df['ventas'].mean()\n",
    "mediana = df['ventas'].median()\n",
    "moda = df['ventas'].mode()[0]\n",
    "\n",
    "# Calcular la varianza\n",
    "varianza = df['ventas'].var()\n",
    "desv_est = df['ventas'].std()"
   ]
  },
  {
   "cell_type": "code",
   "execution_count": 7,
   "metadata": {},
   "outputs": [
    {
     "name": "stdout",
     "output_type": "stream",
     "text": [
      "Media de ventas: 5980.048970081286\n",
      "Mediana de ingresos: 121.64150000000001\n",
      "Desviación estándar de precios: 5.010381570306953\n"
     ]
    }
   ],
   "source": [
    "print(\"Media de ventas:\", df['ventas'].mean())\n",
    "print(\"Mediana de ingresos:\", df['ingresos'].median())\n",
    "print(\"Desviación estándar de precios:\", df['precio'].std())\n"
   ]
  },
  {
   "cell_type": "code",
   "execution_count": 8,
   "metadata": {},
   "outputs": [
    {
     "data": {
      "text/html": [
       "<div>\n",
       "<style scoped>\n",
       "    .dataframe tbody tr th:only-of-type {\n",
       "        vertical-align: middle;\n",
       "    }\n",
       "\n",
       "    .dataframe tbody tr th {\n",
       "        vertical-align: top;\n",
       "    }\n",
       "\n",
       "    .dataframe thead th {\n",
       "        text-align: right;\n",
       "    }\n",
       "</style>\n",
       "<table border=\"1\" class=\"dataframe\">\n",
       "  <thead>\n",
       "    <tr style=\"text-align: right;\">\n",
       "      <th></th>\n",
       "      <th>year</th>\n",
       "      <th>mes</th>\n",
       "      <th>clientes</th>\n",
       "      <th>precio</th>\n",
       "      <th>ingresos</th>\n",
       "      <th>ventas</th>\n",
       "    </tr>\n",
       "  </thead>\n",
       "  <tbody>\n",
       "    <tr>\n",
       "      <th>count</th>\n",
       "      <td>85870.000000</td>\n",
       "      <td>85870.000000</td>\n",
       "      <td>5.983000e+04</td>\n",
       "      <td>85870.000000</td>\n",
       "      <td>85870.000000</td>\n",
       "      <td>85870.000000</td>\n",
       "    </tr>\n",
       "    <tr>\n",
       "      <th>mean</th>\n",
       "      <td>2012.043321</td>\n",
       "      <td>6.480144</td>\n",
       "      <td>2.916013e+06</td>\n",
       "      <td>9.300193</td>\n",
       "      <td>586.627155</td>\n",
       "      <td>5980.048970</td>\n",
       "    </tr>\n",
       "    <tr>\n",
       "      <th>std</th>\n",
       "      <td>6.660304</td>\n",
       "      <td>3.461589</td>\n",
       "      <td>1.200567e+07</td>\n",
       "      <td>5.010382</td>\n",
       "      <td>2161.047702</td>\n",
       "      <td>21302.453181</td>\n",
       "    </tr>\n",
       "    <tr>\n",
       "      <th>min</th>\n",
       "      <td>2001.000000</td>\n",
       "      <td>1.000000</td>\n",
       "      <td>0.000000e+00</td>\n",
       "      <td>0.000000</td>\n",
       "      <td>-0.000010</td>\n",
       "      <td>0.000000</td>\n",
       "    </tr>\n",
       "    <tr>\n",
       "      <th>25%</th>\n",
       "      <td>2006.000000</td>\n",
       "      <td>3.000000</td>\n",
       "      <td>4.998000e+03</td>\n",
       "      <td>6.650000</td>\n",
       "      <td>29.475195</td>\n",
       "      <td>289.144572</td>\n",
       "    </tr>\n",
       "    <tr>\n",
       "      <th>50%</th>\n",
       "      <td>2012.000000</td>\n",
       "      <td>6.000000</td>\n",
       "      <td>2.997540e+05</td>\n",
       "      <td>8.840000</td>\n",
       "      <td>121.641500</td>\n",
       "      <td>1447.518085</td>\n",
       "    </tr>\n",
       "    <tr>\n",
       "      <th>75%</th>\n",
       "      <td>2018.000000</td>\n",
       "      <td>9.000000</td>\n",
       "      <td>2.028716e+06</td>\n",
       "      <td>11.380000</td>\n",
       "      <td>421.320628</td>\n",
       "      <td>4339.950965</td>\n",
       "    </tr>\n",
       "    <tr>\n",
       "      <th>max</th>\n",
       "      <td>2024.000000</td>\n",
       "      <td>12.000000</td>\n",
       "      <td>1.625050e+08</td>\n",
       "      <td>116.670000</td>\n",
       "      <td>52361.450970</td>\n",
       "      <td>391900.008970</td>\n",
       "    </tr>\n",
       "  </tbody>\n",
       "</table>\n",
       "</div>"
      ],
      "text/plain": [
       "               year           mes      clientes        precio      ingresos  \\\n",
       "count  85870.000000  85870.000000  5.983000e+04  85870.000000  85870.000000   \n",
       "mean    2012.043321      6.480144  2.916013e+06      9.300193    586.627155   \n",
       "std        6.660304      3.461589  1.200567e+07      5.010382   2161.047702   \n",
       "min     2001.000000      1.000000  0.000000e+00      0.000000     -0.000010   \n",
       "25%     2006.000000      3.000000  4.998000e+03      6.650000     29.475195   \n",
       "50%     2012.000000      6.000000  2.997540e+05      8.840000    121.641500   \n",
       "75%     2018.000000      9.000000  2.028716e+06     11.380000    421.320628   \n",
       "max     2024.000000     12.000000  1.625050e+08    116.670000  52361.450970   \n",
       "\n",
       "              ventas  \n",
       "count   85870.000000  \n",
       "mean     5980.048970  \n",
       "std     21302.453181  \n",
       "min         0.000000  \n",
       "25%       289.144572  \n",
       "50%      1447.518085  \n",
       "75%      4339.950965  \n",
       "max    391900.008970  "
      ]
     },
     "execution_count": 8,
     "metadata": {},
     "output_type": "execute_result"
    }
   ],
   "source": [
    "# vamos a ver el resumen estdistico\n",
    "df.describe()"
   ]
  },
  {
   "cell_type": "markdown",
   "metadata": {},
   "source": [
    "### Actividad práctica inicial:\n",
    "- En equipos, calcular las estadísticas descriptivas de las columnas sales y price por estado (stateDescription).\n",
    "- Identificar estados con mayor y menor promedio de consumo (sales)."
   ]
  },
  {
   "cell_type": "markdown",
   "metadata": {},
   "source": [
    "## Fundamentos de Plotly\n",
    "¿Qué es Plotly?\n",
    "- Librería de visualización interactiva en Python.\n",
    "- Ideal para gráficos como líneas, barras, dispersión y mapas."
   ]
  },
  {
   "cell_type": "code",
   "execution_count": null,
   "metadata": {},
   "outputs": [],
   "source": [
    "# Instalación y configuración básica:\n",
    "!pip install plotly\n",
    "import plotly.express as px\n"
   ]
  },
  {
   "cell_type": "code",
   "execution_count": null,
   "metadata": {},
   "outputs": [],
   "source": [
    "#Primer gráfico: Dispersión de ventas vs. ingresos:\n",
    "fig = px.scatter(df, x='sales', y='revenue', color='stateDescription', title=\"Ventas vs Ingresos por Estado\")\n",
    "fig.show()\n"
   ]
  },
  {
   "cell_type": "markdown",
   "metadata": {},
   "source": [
    "- Crear un gráfico de barras que muestre las ventas totales por sector (sectorName)"
   ]
  },
  {
   "cell_type": "code",
   "execution_count": null,
   "metadata": {},
   "outputs": [],
   "source": [
    "# mayor qu\n",
    "2"
   ]
  },
  {
   "cell_type": "markdown",
   "metadata": {},
   "source": [
    "Histogramas:\n",
    "\n",
    "Distribución de precios de electricidad"
   ]
  },
  {
   "cell_type": "code",
   "execution_count": null,
   "metadata": {},
   "outputs": [],
   "source": [
    "fig = px.histogram(df, x='price', nbins=20, title=\"Distribución de Precios de Electricidad\")\n",
    "fig.show()\n"
   ]
  },
  {
   "cell_type": "markdown",
   "metadata": {},
   "source": [
    "Gráficos de líneas:\n",
    "\n",
    "Tendencia de ventas por año"
   ]
  },
  {
   "cell_type": "code",
   "execution_count": null,
   "metadata": {},
   "outputs": [],
   "source": [
    "ventas_por_año = df.groupby('year')['sales'].sum().reset_index()\n",
    "fig = px.line(ventas_por_año, x='year', y='sales', title=\"Tendencia de Ventas por Año\")\n",
    "fig.show()\n"
   ]
  },
  {
   "cell_type": "markdown",
   "metadata": {},
   "source": [
    "Crear un gráfico de líneas que muestre la evolución del precio promedio (price) por año para el sector residencial (sectorName == 'Residential')."
   ]
  },
  {
   "cell_type": "code",
   "execution_count": null,
   "metadata": {},
   "outputs": [],
   "source": []
  },
  {
   "cell_type": "markdown",
   "metadata": {},
   "source": [
    "### Taller Final de Práctica \n",
    "\n",
    "- Ejercicio 1: Comparación por Sector.\n",
    "Crear un gráfico de barras que compare el ingreso promedio (revenue) por sector.\n",
    "\n",
    "- Ejercicio 2: Tendencia de Ventas en Estados Clave.\n",
    "Seleccionar 3 estados clave y crear un gráfico de líneas con la tendencia de ventas (sales) por año.\n",
    "\n",
    "- Ejercicio 3: Distribución de Clientes por Sector.\n",
    "Crear un histograma que muestre la distribución del número de clientes (customers) por sector.\n",
    "\n",
    "- Ejercicio 4: Interactividad con Filtros.\n",
    "Usar Plotly Express para crear un gráfico que permita filtrar ventas (sales) por estado y sector."
   ]
  },
  {
   "cell_type": "markdown",
   "metadata": {},
   "source": [
    "Para exportar gráficos creados con **Plotly** a un archivo de Excel, puedes usar la biblioteca **`openpyxl`** junto con **`Pandas`**. :\n",
    "\n",
    "---\n",
    "\n",
    "### **Código para exportar gráficos de Plotly a Excel**\n",
    "```python\n",
    "import pandas as pd\n",
    "import plotly.express as px\n",
    "from openpyxl import Workbook\n",
    "from openpyxl.drawing.image import Image\n",
    "import plotly.io as pio\n",
    "\n",
    "# Crear un DataFrame de ejemplo\n",
    "df = pd.DataFrame({\n",
    "    'Mes': ['Enero', 'Febrero', 'Marzo', 'Abril'],\n",
    "    'Ventas': [150, 200, 250, 300]\n",
    "})\n",
    "\n",
    "# Crear un gráfico con Plotly\n",
    "fig = px.bar(df, x='Mes', y='Ventas', title='Ventas Mensuales', labels={'Ventas': 'Cantidad'})\n",
    "\n",
    "# Guardar el gráfico como imagen\n",
    "fig_path = \"grafico_plotly.png\"\n",
    "pio.write_image(fig, fig_path, format='png', width=800, height=400)\n",
    "\n",
    "# Crear un archivo Excel con openpyxl\n",
    "wb = Workbook()\n",
    "ws = wb.active\n",
    "ws.title = \"Datos y Gráfica\"\n",
    "\n",
    "# Agregar datos al Excel\n",
    "for i, col in enumerate(df.columns, start=1):\n",
    "    ws.cell(row=1, column=i, value=col)\n",
    "\n",
    "for i, row in enumerate(df.itertuples(index=False), start=2):\n",
    "    for j, value in enumerate(row, start=1):\n",
    "        ws.cell(row=i, column=j, value=value)\n",
    "\n",
    "# Insertar la imagen del gráfico en Excel\n",
    "img = Image(fig_path)\n",
    "img.anchor = \"E2\"  # Posición en la hoja\n",
    "ws.add_image(img)\n",
    "\n",
    "# Guardar el archivo Excel\n",
    "excel_path = \"datos_con_grafico.xlsx\"\n",
    "wb.save(excel_path)\n",
    "print(f\"Archivo Excel guardado en {excel_path}\")\n",
    "```\n",
    "\n",
    "---\n",
    "\n",
    "### **Explicación del código**:\n",
    "1. **Crear el gráfico**:\n",
    "   - Se usa Plotly Express para generar un gráfico de barras (`fig`).\n",
    "   - Se guarda el gráfico como imagen en formato PNG usando `pio.write_image`.\n",
    "\n",
    "2. **Agregar datos a Excel**:\n",
    "   - Utilizamos `openpyxl` para crear un archivo Excel.\n",
    "   - Los datos del DataFrame se escriben celda por celda en la hoja de cálculo.\n",
    "\n",
    "3. **Insertar la imagen en Excel**:\n",
    "   - La imagen del gráfico se carga con `Image` y se posiciona en una celda específica (`E2` en este caso).\n",
    "   - Finalmente, se guarda el archivo Excel.\n",
    "\n",
    "---\n",
    "\n",
    "### **Salida**:\n",
    "El archivo Excel generado incluirá:\n",
    "1. **Datos**: Los datos tabulares en las columnas iniciales.\n",
    "2. **Gráfico**: El gráfico de Plotly insertado como imagen en la hoja.\n",
    "\n",
    "---\n",
    "\n",
    "### **Requisitos adicionales**:\n",
    "Para guardar imágenes desde Plotly, debes instalar `kaleido`:\n",
    "```bash\n",
    "pip install -U kaleido\n",
    "```\n",
    "\n"
   ]
  }
 ],
 "metadata": {
  "kernelspec": {
   "display_name": "mi_ambiente",
   "language": "python",
   "name": "python3"
  },
  "language_info": {
   "codemirror_mode": {
    "name": "ipython",
    "version": 3
   },
   "file_extension": ".py",
   "mimetype": "text/x-python",
   "name": "python",
   "nbconvert_exporter": "python",
   "pygments_lexer": "ipython3",
   "version": "3.9.4"
  }
 },
 "nbformat": 4,
 "nbformat_minor": 2
}
