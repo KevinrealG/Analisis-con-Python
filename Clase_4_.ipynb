{
 "cells": [
  {
   "cell_type": "markdown",
   "metadata": {},
   "source": [
    "# Más de Ciclos y Estructuras de Datos con Listas\n",
    "## Profesor: Kevin Sossa\n",
    "## Estudiante: "
   ]
  },
  {
   "cell_type": "markdown",
   "metadata": {},
   "source": [
    "### Ejercicio: Análisis de Consumo Mensual\n",
    "\n",
    "Imagina que tienes un sistema que recibe datos de consumo eléctrico mensual (en kilovatios-hora, kWh) de diferentes clientes de una empresa de electricidad. Estos datos están almacenados en una lista llamada consumo_mensual, donde cada elemento de la lista representa el consumo de un cliente en un mes.\n",
    "\n",
    "\n",
    "Objetivo: Crear un script que recorra la lista consumo_mensual y realice las siguientes tareas:\n",
    "\n",
    "- Calcule el consumo total del mes para todos los clientes.\n",
    "- Cuente cuántos clientes tuvieron un consumo bajo (menos de 100 kWh), medio (entre 100 y 200 kWh), y alto (más de 200 kWh).\n",
    "- Determine cuál fue el consumo máximo y mínimo del mes y los imprima al final."
   ]
  },
  {
   "cell_type": "code",
   "execution_count": null,
   "metadata": {},
   "outputs": [
    {
     "name": "stdout",
     "output_type": "stream",
     "text": [
      "El consumo total del mes es:2330 kWh\n",
      "Consumos bajos:  1\n",
      "Consumos medios:  8\n",
      "Consumos altos:  4\n"
     ]
    }
   ],
   "source": [
    "consumo_mensual = [120, 150, 90, 130, 160, 110,200, 250, 300, 150, 180, 220, 270]\n",
    "\n",
    "consumo_total = 0\n",
    "contador_bajo = 0\n",
    "contador_medio = 0\n",
    "contador_alto = 0\n",
    "maximo = 0\n",
    "minimo = None # None es un valor especial que indica que no hay valor\n",
    "for consumo in consumo_mensual:\n",
    "    consumo_total += consumo\n",
    "    #consumo_total = consumo_total + consumo\n",
    "    if consumo < 100:\n",
    "        #print(\"El consumo es bajo\")\n",
    "        contador_bajo += 1\n",
    "    elif consumo >= 100 and consumo <= 200:\n",
    "        #print(\"El consumo es medio\")\n",
    "        contador_medio += 1\n",
    "    else:\n",
    "        #print(\"El consumo es alto\")\n",
    "        contador_alto += 1\n",
    "\n",
    "    # determinar el maximo\n",
    "    if consumo > maximo:\n",
    "        maximo = consumo\n",
    "\n",
    "    # determinar el minimo\n",
    "    if minimo is None:\n",
    "        minimo = consumo\n",
    "    elif consumo < minimo:\n",
    "        minimo = consumo\n",
    "\n",
    "# mostrar resultados\n",
    "\n",
    "print(f\"El consumo total del mes es:{consumo_total} kWh\")\n",
    "print(\"Consumos bajos: \", contador_bajo)\n",
    "print(\"Consumos medios: \", contador_medio)\n",
    "print(\"Consumos altos: \", contador_alto)\n",
    "print(f\"El consumo maximo del mes es: {maximo}\")\n",
    "print(f\"El consumo minimo del mes es: {minimo}\")"
   ]
  },
  {
   "cell_type": "code",
   "execution_count": null,
   "metadata": {},
   "outputs": [],
   "source": [
    "Null"
   ]
  },
  {
   "cell_type": "markdown",
   "metadata": {},
   "source": [
    "- Consumo total del mes: 1800 kWh\n",
    "- Clientes con consumo bajo: 4\n",
    "- Clientes con consumo medio: 5\n",
    "- Clientes con consumo alto: 3\n",
    "- Consumo máximo: 250 kWh\n",
    "- Consumo mínimo: 50 kWh\n"
   ]
  },
  {
   "cell_type": "markdown",
   "metadata": {},
   "source": [
    "> **Nota:**\n",
    "> \n",
    "> Casos de Uso Comunes de Ciclos:\n",
    "\n",
    "> - Recorrer listas o secuencias para procesar cada elemento.\n",
    "> - Realizar cálculos acumulativos, como sumar o contar elementos.\n",
    "> - Ejecutar tareas repetitivas hasta que se cumpla una condición específica."
   ]
  },
  {
   "cell_type": "code",
   "execution_count": null,
   "metadata": {},
   "outputs": [],
   "source": [
    "consumo_mensual = [120, 80, 150, 200, 90, 300, 60, 180, 250, 110, 90, 130]\n"
   ]
  },
  {
   "cell_type": "markdown",
   "metadata": {
    "tags": [
     "parameters"
    ]
   },
   "source": [
    "# Fundamentos de Estructuras de Datos: Listas\n",
    "**Definición de Listas:**\n",
    "\n",
    "\n",
    "> \n",
    "> - Las listas en Python son estructuras de datos que permiten almacenar múltiples elementos en un solo lugar, como números, cadenas o incluso otras listas.\n",
    "> - Son mutables, lo que significa que se pueden modificar después de ser creadas (se pueden agregar, eliminar o cambiar elementos).\n",
    "\n",
    "**Creación de Listas:**\n",
    "Las listas se definen usando corchetes [] y pueden contener cualquier tipo de dato.\n",
    "\n",
    " Ejemplo: mi_lista = [10, \"Hola\", 3.5, True].\n",
    "```python\n",
    "mi_lista = [10, \"Hola\", 3.5, True]\n",
    "```\n",
    "\n",
    "**Acceso a Elementos:**\n",
    "\n",
    "Los elementos de una lista se acceden mediante índices, comenzando desde 0 para el primer elemento.\n",
    " Ejemplo: mi_lista[0] devuelve 10.\n",
    "```python\n",
    "mi_lista[0]\n",
    "```\n",
    "También se puede acceder a los elementos desde el final de la lista usando índices negativos. Ejemplo:\n",
    " mi_lista[-1] devuelve True.\n",
    "Operaciones Comunes:"
   ]
  },
  {
   "cell_type": "markdown",
   "metadata": {},
   "source": [
    "**Un vistazo a los diferentes métodos**.\n",
    "Puedes utilizar los siguientes métodos en tu lista de Python. Probablemente ya conozcas algunos de ellos si leíste el tutorial para aprender Python.\n",
    "\n",
    "|Método\t|Descripción|\n",
    "|:--:|:--:|\n",
    "|Append|\tAñade un elemento al final de la lista.|\n",
    "|Clear|\tElimina todos los elementos de la lista de Python.|\n",
    "|Copy\t|Realiza una copia de tu lista.|\n",
    "|Count\t|Cuenta todos los elementos con un determinado valor en la lista de Python.|\n",
    "|Extend\t|Añade todos los elementos de otra lista a la lista actual.|\n",
    "|Index\t|Busca un elemento específico dentro de la lista de Python y retorna su número de índice.|\n",
    "|Insert|\tInserta un elemento en una posición determinada.|\n",
    "|Pop\t|Elimina un elemento de una posición concreta y lo utiliza como valor de retorno.|\n",
    "|Remove\t|Elimina el primer elemento que tiene un valor específico.|\n",
    "|Reverse|\tInvierte el orden de la lista de Python.|\n",
    "|Sort|\tOrdena la lista.|"
   ]
  },
  {
   "cell_type": "markdown",
   "metadata": {},
   "source": []
  },
  {
   "cell_type": "code",
   "execution_count": 1,
   "metadata": {},
   "outputs": [],
   "source": [
    "mi_lista = [] # lista vacia\n",
    "lista_numeros = [120, 80, 150, 200, 90, 300, 60, 180, 250, 110, 90, 130]\n",
    "lista_nombres = [\"Juan\", \"Maria\", \"Pedro\", \"Ana\", \"Luis\"]\n",
    "lista_decimal = [1.2, 3.5, 2.6, 4.7, 5.8]"
   ]
  },
  {
   "cell_type": "code",
   "execution_count": 8,
   "metadata": {},
   "outputs": [
    {
     "ename": "IndexError",
     "evalue": "list index out of range",
     "output_type": "error",
     "traceback": [
      "\u001b[1;31m---------------------------------------------------------------------------\u001b[0m",
      "\u001b[1;31mIndexError\u001b[0m                                Traceback (most recent call last)",
      "Cell \u001b[1;32mIn[8], line 2\u001b[0m\n\u001b[0;32m      1\u001b[0m \u001b[38;5;66;03m# indice positivo\u001b[39;00m\n\u001b[1;32m----> 2\u001b[0m \u001b[43mlista_nombres\u001b[49m\u001b[43m[\u001b[49m\u001b[38;5;241;43m100\u001b[39;49m\u001b[43m]\u001b[49m\n\u001b[0;32m      3\u001b[0m \u001b[38;5;66;03m# elmento en la posicion 2\u001b[39;00m\n\u001b[0;32m      4\u001b[0m \u001b[38;5;28mprint\u001b[39m(lista_nombres[\u001b[38;5;241m2\u001b[39m])\n",
      "\u001b[1;31mIndexError\u001b[0m: list index out of range"
     ]
    }
   ],
   "source": [
    "# indice positivo\n",
    "lista_nombres[100]\n",
    "# elmento en la posicion 2\n",
    "print(lista_nombres[2])"
   ]
  },
  {
   "cell_type": "code",
   "execution_count": 7,
   "metadata": {},
   "outputs": [
    {
     "ename": "IndexError",
     "evalue": "list index out of range",
     "output_type": "error",
     "traceback": [
      "\u001b[1;31m---------------------------------------------------------------------------\u001b[0m",
      "\u001b[1;31mIndexError\u001b[0m                                Traceback (most recent call last)",
      "Cell \u001b[1;32mIn[7], line 3\u001b[0m\n\u001b[0;32m      1\u001b[0m \u001b[38;5;66;03m# indice negativo\u001b[39;00m\n\u001b[0;32m      2\u001b[0m \u001b[38;5;66;03m# ultimo elmento de la lista\u001b[39;00m\n\u001b[1;32m----> 3\u001b[0m \u001b[43mmi_lista\u001b[49m\u001b[43m[\u001b[49m\u001b[38;5;241;43m0\u001b[39;49m\u001b[43m]\u001b[49m\n",
      "\u001b[1;31mIndexError\u001b[0m: list index out of range"
     ]
    }
   ],
   "source": [
    "# indice negativo\n",
    "# ultimo elmento de la lista\n",
    "mi_lista[0]"
   ]
  },
  {
   "cell_type": "markdown",
   "metadata": {},
   "source": []
  },
  {
   "cell_type": "code",
   "execution_count": 33,
   "metadata": {},
   "outputs": [],
   "source": [
    "lista_nombres = [\"Juan\", \"Maria\", \"Pedro\", \"Ana\", \"Luis\"]\n",
    "#indice_positivo =[0,      1,       2,        3,     4]\n",
    "#indice_negativo = [-5,   -4,      -3,      -2,     -1]\n",
    "lista_nombres_2 = [\"Juan\", \"Maria\", \"Pedro\", \"Ana\", \"Luis\"]"
   ]
  },
  {
   "cell_type": "code",
   "execution_count": 10,
   "metadata": {},
   "outputs": [
    {
     "data": {
      "text/plain": [
       "'Juan'"
      ]
     },
     "execution_count": 10,
     "metadata": {},
     "output_type": "execute_result"
    }
   ],
   "source": [
    "#mostrar el primer de la lista\n",
    "lista_nombres[-5]"
   ]
  },
  {
   "cell_type": "code",
   "execution_count": 32,
   "metadata": {},
   "outputs": [
    {
     "name": "stdout",
     "output_type": "stream",
     "text": [
      "['Juan', 'Maria', 'Pedro', 'Ana', 'Luis', 'Jhon', 'Kevin']\n"
     ]
    }
   ],
   "source": [
    "## añadir un elemento\n",
    "#lista_nombres = [\"Juan\", \"Maria\", \"Pedro\", \"Ana\", \"Luis\"]\n",
    "lista_nombres.append(\"Jhon\")\n",
    "lista_nombres.append(\"Kevin\")\n",
    "print(lista_nombres)"
   ]
  },
  {
   "cell_type": "code",
   "execution_count": 29,
   "metadata": {},
   "outputs": [
    {
     "name": "stdout",
     "output_type": "stream",
     "text": [
      "['Kevin', 'Juan', 'Maria', 'Pedro', 'Ana', 'Luis', 'Jhon', 'Jhon', 'Jhon', 'Jhon', 'Jhon']\n"
     ]
    }
   ],
   "source": [
    "# insert\n",
    "lista_nombres.insert(0,\"Kevin\")\n",
    "print(lista_nombres)"
   ]
  },
  {
   "cell_type": "code",
   "execution_count": null,
   "metadata": {},
   "outputs": [
    {
     "data": {
      "text/plain": [
       "['Juan',\n",
       " 'Maria',\n",
       " 'Pedro',\n",
       " 'Ana',\n",
       " 'Luis',\n",
       " 'Juan',\n",
       " 'Maria',\n",
       " 'Pedro',\n",
       " 'Ana',\n",
       " 'Luis']"
      ]
     },
     "execution_count": 34,
     "metadata": {},
     "output_type": "execute_result"
    }
   ],
   "source": [
    "# concatenar listas \n",
    "lista_nombres = lista_nombres + lista_nombres"
   ]
  },
  {
   "cell_type": "code",
   "execution_count": 35,
   "metadata": {},
   "outputs": [
    {
     "data": {
      "text/plain": [
       "5"
      ]
     },
     "execution_count": 35,
     "metadata": {},
     "output_type": "execute_result"
    }
   ],
   "source": [
    "# determinar cuantos elementos tiene la list\n",
    "len(lista_nombres)"
   ]
  },
  {
   "cell_type": "code",
   "execution_count": 37,
   "metadata": {},
   "outputs": [
    {
     "data": {
      "text/plain": [
       "6"
      ]
     },
     "execution_count": 37,
     "metadata": {},
     "output_type": "execute_result"
    }
   ],
   "source": [
    "nombre = \" Juan \"\n",
    "len(nombre)"
   ]
  },
  {
   "cell_type": "code",
   "execution_count": 41,
   "metadata": {},
   "outputs": [
    {
     "data": {
      "text/plain": [
       "1"
      ]
     },
     "execution_count": 41,
     "metadata": {},
     "output_type": "execute_result"
    }
   ],
   "source": [
    "lista_nombres.count(\"Maria\")"
   ]
  },
  {
   "cell_type": "markdown",
   "metadata": {},
   "source": [
    "Concatenar listas: Se pueden combinar listas usando el operador +.\n",
    "Recorrer una Lista:\n",
    "\n",
    "Los ciclos for permiten iterar por cada elemento en una lista, útil para realizar operaciones en cada elemento. Ejemplo: for elemento in mi_lista.\n",
    "Aplicaciones Comunes:\n",
    "\n",
    "Las listas se usan para almacenar secuencias de datos, como registros de consumo eléctrico, listas de nombres, resultados de operaciones, y más, especialmente útiles en el análisis y manipulación de datos."
   ]
  },
  {
   "cell_type": "markdown",
   "metadata": {},
   "source": []
  },
  {
   "cell_type": "code",
   "execution_count": null,
   "metadata": {},
   "outputs": [],
   "source": []
  },
  {
   "cell_type": "markdown",
   "metadata": {},
   "source": [
    "## Actividad Práctica: Análisis de Consumo por Cliente\n",
    "### Instrucciones:\n",
    "\n",
    "- Crear una lista de clientes y sus consumos:\n",
    "\n",
    "-  Crear una lista de clientes donde cada elemento es un número que representa el consumo mensual (en kWh) de un cliente específico. Los elementos van a ingresarse manualmente por el usuario, y la lista se llamará consumo_mensual. \n",
    "- Los estudiantes pueden inventar datos o utilizar una lista de muestra proporcionada, como por ejemplo:\n",
    "- consumo_mensual = [150, 200, 50, 300, 100, 150, 250, 50, 200, 150]\n",
    "- Realizar un análisis de consumo mensual:\n",
    "    - Consumo total del mes: Calcular el consumo total de todos los clientes en la lista consumo_mensual.\n",
    "    - Obtener el máximo y mínimo consumo del mes.\n",
    "    - Contar cuántos clientes tuvieron un consumo bajo (menos de 100 kWh), medio (entre 100 y 200 kWh), y alto (más de 200 kWh).\n",
    "    - Crear las listas consumo_bajo, consumo_medio y consumo_alto, donde cada una almacene los consumos de los clientes según su categoría.\n"
   ]
  },
  {
   "cell_type": "code",
   "execution_count": null,
   "metadata": {},
   "outputs": [],
   "source": [
    "consumos_clientes = [120, 80, 150, 200, 90, 300, 60, 180, 250, 110, 90, 130]"
   ]
  },
  {
   "cell_type": "code",
   "execution_count": null,
   "metadata": {},
   "outputs": [],
   "source": []
  },
  {
   "cell_type": "markdown",
   "metadata": {},
   "source": [
    "#### Ordenar la lista de consumos:\n",
    "\n",
    "- Usando Python, deben ordenar la lista consumos_clientes de menor a mayor consumo.\n",
    "- Luego, deben imprimir la lista ordenada para observar los consumos de los clientes en orden creciente.\n",
    "- Calcular el consumo promedio:\n",
    "\n",
    "    - Calcular el consumo promedio de los clientes sumando todos los elementos de la lista y dividiendo el total entre el número de clientes.\n",
    "    - Imprimir el resultado del consumo promedio."
   ]
  },
  {
   "cell_type": "code",
   "execution_count": null,
   "metadata": {},
   "outputs": [],
   "source": []
  }
 ],
 "metadata": {
  "kernelspec": {
   "display_name": "Python 3",
   "language": "python",
   "name": "python3"
  },
  "language_info": {
   "codemirror_mode": {
    "name": "ipython",
    "version": 3
   },
   "file_extension": ".py",
   "mimetype": "text/x-python",
   "name": "python",
   "nbconvert_exporter": "python",
   "pygments_lexer": "ipython3",
   "version": "3.10.11"
  }
 },
 "nbformat": 4,
 "nbformat_minor": 2
}
