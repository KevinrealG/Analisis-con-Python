{
 "cells": [
  {
   "cell_type": "markdown",
   "metadata": {},
   "source": [
    "# Clase Lógica, Estructuras Selectivas, Iteraciones y Listas en Python\n",
    "## Profesor: Kevin Sossa\n",
    "## Estudiante: "
   ]
  },
  {
   "cell_type": "markdown",
   "metadata": {},
   "source": [
    "Desarrollar una \"calculadora de ahorro energético\" que estime el ahorro potencial en la factura de electricidad si un cliente reduce su consumo. Para ello:\n",
    "\n",
    "- Simulación de Factura Mensual: Calcular el costo mensual actual de electricidad para un cliente, utilizando un consumo dado en kWh y la tarifa actual por kWh. Generar un mensaje automático que indique el monto total, por ejemplo: “El consumo total es de 350 kWh y el monto a pagar es de $52.50.”\n",
    "- Estimación de Ahorro Potencial: Ofrecer proyecciones de ahorro si el cliente reduce su consumo en porcentajes específicos (por ejemplo, 10%, 20%, y 30%).\n"
   ]
  },
  {
   "cell_type": "code",
   "execution_count": 6,
   "metadata": {},
   "outputs": [
    {
     "name": "stdout",
     "output_type": "stream",
     "text": [
      "El consumo total es de 250.0 kWh y el monto a pagar es de $250,000.0.\n",
      "El monto con reducción del 10% del consumo es de $225,000.0.\n",
      "El monto con reducción del 15% del consumo es de $212,500.0.\n",
      "El monto con reducción del 1% del consumo es de $247,500.0.\n",
      "Gracias por usar el programa.\n"
     ]
    }
   ],
   "source": [
    "# ingresar el consumo  y la tarifa de la luz y calcular el costo total\n",
    "consumo = float(input(\"Ingrese el consumo de luz en el mes: \"))\n",
    "tarifa = float(input(\"Ingrese la tarifa de la luz: \"))\n",
    "\n",
    "monto = consumo * tarifa\n",
    "print(\"El consumo total es de {} kWh y el monto a pagar es de ${:,}.\".format(consumo, monto))\n",
    "\n",
    "# reducción 1\n",
    "consumo_10 = monto * 0.90\n",
    "print(\"El monto con reducción del 10% del consumo es de ${:,}.\".format(consumo_10))\n",
    "consumo_15 = monto * 0.85\n",
    "print(\"El monto con reducción del 15% del consumo es de ${:,}.\".format(consumo_15))\n",
    "\n",
    "\n",
    "otra_sug = input(\"¿Desea calcular otra reducción? (s/n): \")\n",
    "\n",
    "if otra_sug == \"s\":\n",
    "    ahorro = int(input(\"Ingrese el porcentaje de ahorro a calcular: \"))\n",
    "    consumo_ahorro = monto * (1-(ahorro/100))\n",
    "    print(\"El monto con reducción del {}% del consumo es de ${:,}.\".format(ahorro, consumo_ahorro))\n",
    "\n",
    "print(\"Gracias por usar el programa.\")\n",
    "\n"
   ]
  },
  {
   "cell_type": "markdown",
   "metadata": {},
   "source": [
    "### Clasificación de Consumo Energético\n",
    "\n",
    "*Planteamiento*: Una empresa de electricidad quiere clasificar el nivel de consumo de sus clientes para ofrecerles recomendaciones personalizadas. La clasificación se realiza de acuerdo con el consumo mensual de electricidad en kWh de la siguiente forma:\n",
    "\n",
    "- Consumo bajo: Menos de 200 kWh\n",
    "- Consumo medio: Entre 200 y 500 kWh\n",
    "- Consumo alto: Más de 500 kWh\n",
    "Objetivo:\n",
    "\n",
    "Escribe un programa en Python que:\n",
    "Solicite al usuario el consumo mensual en kWh.\n",
    "Clasifique el consumo del cliente usando una estructura selectiva (if, elif, else).\n",
    "Imprima un mensaje que indique el nivel de consumo, por ejemplo: \"Su consumo es alto\"."
   ]
  },
  {
   "cell_type": "code",
   "execution_count": null,
   "metadata": {},
   "outputs": [],
   "source": [
    "consumo = int(input(\"Ingrese el consumo(kWh) de luz en el mes: \"))\n",
    "\n",
    "if consumo < 200:\n",
    "        print(\"Su consumo es bajo\")\n",
    "\n",
    "elif consumo >= 200 and consumo <= 500:\n",
    "    print(\"Su consumo es medio\")\n",
    "\n",
    "else:\n",
    "    print(\"Su consumo es alto\")\n",
    "\n",
    "print(\"Gracias por usar el programa.\")\n",
    "    "
   ]
  },
  {
   "cell_type": "code",
   "execution_count": 11,
   "metadata": {},
   "outputs": [
    {
     "name": "stdout",
     "output_type": "stream",
     "text": [
      "17\n"
     ]
    }
   ],
   "source": [
    "import random\n",
    "\n",
    "# generar un número aleatorio entre 1 y 100\n",
    "numero = random.randint(1, 30)\n",
    "print(numero)"
   ]
  },
  {
   "cell_type": "code",
   "execution_count": null,
   "metadata": {},
   "outputs": [],
   "source": []
  }
 ],
 "metadata": {
  "kernelspec": {
   "display_name": "Python 3",
   "language": "python",
   "name": "python3"
  },
  "language_info": {
   "codemirror_mode": {
    "name": "ipython",
    "version": 3
   },
   "file_extension": ".py",
   "mimetype": "text/x-python",
   "name": "python",
   "nbconvert_exporter": "python",
   "pygments_lexer": "ipython3",
   "version": "3.10.11"
  }
 },
 "nbformat": 4,
 "nbformat_minor": 2
}
